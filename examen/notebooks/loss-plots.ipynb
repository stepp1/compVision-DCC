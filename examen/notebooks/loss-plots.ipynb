{
 "cells": [
  {
   "cell_type": "code",
   "execution_count": 2,
   "id": "dfd3f700",
   "metadata": {
    "ExecuteTime": {
     "end_time": "2021-08-13T18:06:03.457483Z",
     "start_time": "2021-08-13T18:06:03.386100Z"
    }
   },
   "outputs": [],
   "source": [
    "import matplotlib.pyplot as plt"
   ]
  },
  {
   "cell_type": "markdown",
   "id": "43cf4322",
   "metadata": {},
   "source": [
    "## Loss Plots"
   ]
  },
  {
   "cell_type": "code",
   "execution_count": null,
   "id": "8eabb3aa",
   "metadata": {},
   "outputs": [],
   "source": []
  }
 ],
 "metadata": {
  "kernelspec": {
   "display_name": "Python [conda env:vision]",
   "language": "python",
   "name": "conda-env-vision-py"
  },
  "language_info": {
   "codemirror_mode": {
    "name": "ipython",
    "version": 3
   },
   "file_extension": ".py",
   "mimetype": "text/x-python",
   "name": "python",
   "nbconvert_exporter": "python",
   "pygments_lexer": "ipython3",
   "version": "3.8.11"
  }
 },
 "nbformat": 4,
 "nbformat_minor": 5
}
