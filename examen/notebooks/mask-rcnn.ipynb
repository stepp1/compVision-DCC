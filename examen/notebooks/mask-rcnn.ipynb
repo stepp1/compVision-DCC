{
 "cells": [
  {
   "cell_type": "code",
   "execution_count": null,
   "id": "793905e2",
   "metadata": {
    "ExecuteTime": {
     "start_time": "2021-08-12T02:58:42.148Z"
    }
   },
   "outputs": [],
   "source": [
    "from pathlib import Path\n",
    "from tqdm.autonotebook import tqdm\n",
    "import json\n",
    "\n",
    "import matplotlib.pyplot as plt\n",
    "import cv2\n",
    "\n",
    "from detectron2.structures.boxes import BoxMode\n",
    "\n",
    "import sys\n",
    "sys.path.append('../utils')\n",
    "\n",
    "from train_eval import Evaluation\n",
    "\n",
    "root_directory = Path(\"../data\")\n",
    "images_directory = root_directory / \"images\"\n",
    "annots_directory =  root_directory / \"annotations\"\n",
    "bbox_directory =  root_directory / \"annotations-bbox\"\n",
    "masks_directory =  root_directory / \"annotations-seg\""
   ]
  },
  {
   "cell_type": "markdown",
   "id": "af75f2cf",
   "metadata": {},
   "source": [
    "## Register Dataset"
   ]
  },
  {
   "cell_type": "code",
   "execution_count": null,
   "id": "c1367de0",
   "metadata": {
    "ExecuteTime": {
     "start_time": "2021-08-12T02:58:42.161Z"
    }
   },
   "outputs": [],
   "source": [
    "from detectron2.data.datasets import register_coco_instances\n",
    "from detectron2.data import MetadataCatalog, DatasetCatalog\n",
    "\n",
    "path_to_train = annots_directory / 'modanet_instance_segmentation_train.json'\n",
    "path_to_test = annots_directory / 'modanet_instance_segmentation_test.json'\n",
    "\n",
    "\n",
    "register_coco_instances('modanet_instance_segmentation_train', {}, path_to_train, images_directory)\n",
    "register_coco_instances('modanet_instance_segmentation_test', {}, path_to_test, images_directory)\n",
    "\n",
    "MetadataCatalog.get('modanet_instance_segmentation_train').set(\n",
    "    thing_classes=['bag', 'dress', 'footwear', 'skirt', 'top', 'sunglasses', \\\n",
    "                   'headwear', 'shorts', 'pants', 'belt', 'outer', 'scarf', 'boots']\n",
    ")\n",
    "train_metadata = MetadataCatalog.get('modanet_instance_segmentation_train')"
   ]
  },
  {
   "cell_type": "code",
   "execution_count": null,
   "id": "65151e54",
   "metadata": {
    "ExecuteTime": {
     "start_time": "2021-08-12T02:58:42.162Z"
    }
   },
   "outputs": [],
   "source": [
    "from detectron2.data.datasets import load_coco_json\n",
    "dataset_dicts = load_coco_json(\"../data/annotations/modanet_instance_segmentation_train.json\", \"../data/images/\")\n",
    "\n",
    "Evaluation._show_n(dataset_dicts, train_metadata, predictions=False)"
   ]
  },
  {
   "cell_type": "markdown",
   "id": "2c96ff0a",
   "metadata": {},
   "source": [
    "## Mask-RCNN"
   ]
  },
  {
   "cell_type": "code",
   "execution_count": null,
   "id": "7178a5bb",
   "metadata": {
    "ExecuteTime": {
     "start_time": "2021-08-12T02:58:42.166Z"
    }
   },
   "outputs": [],
   "source": [
    "import detectron2\n",
    "from detectron2.utils.logger import setup_logger\n",
    "setup_logger()\n",
    "from detectron2 import model_zoo\n",
    "\n",
    "import random\n",
    "random.seed(600)"
   ]
  },
  {
   "cell_type": "markdown",
   "id": "5532d885",
   "metadata": {},
   "source": [
    "### Training"
   ]
  },
  {
   "cell_type": "code",
   "execution_count": null,
   "id": "4827b820",
   "metadata": {
    "ExecuteTime": {
     "start_time": "2021-08-12T02:58:42.169Z"
    }
   },
   "outputs": [],
   "source": [
    "import logging\n",
    "\n",
    "from detectron2.checkpoint import DetectionCheckpointer\n",
    "from detectron2.config import LazyConfig, instantiate\n",
    "from detectron2.engine import (\n",
    "    AMPTrainer,\n",
    "    SimpleTrainer,\n",
    "    default_setup,\n",
    "    default_argument_parser,\n",
    "    default_writers,\n",
    "    hooks,\n",
    "    launch\n",
    ")\n",
    "from detectron2.engine.defaults import create_ddp_model\n",
    "from detectron2.evaluation import inference_on_dataset, print_csv_format\n",
    "from detectron2.utils import comm"
   ]
  },
  {
   "cell_type": "code",
   "execution_count": null,
   "id": "e0105ba3",
   "metadata": {
    "ExecuteTime": {
     "start_time": "2021-08-12T02:58:42.169Z"
    }
   },
   "outputs": [],
   "source": [
    "def create_lazy_cfg(lazy_path, max_iter = 100):\n",
    "    print(f\"Creating {lazy_path}...\\n\")\n",
    "    cfg = LazyConfig.load(model_zoo.get_config_file(lazy_path))\n",
    "    default_setup(cfg, [])\n",
    "    \n",
    "    model = cfg.model\n",
    "    model.backbone.bottom_up.stem.norm = \\\n",
    "    model.backbone.bottom_up.stages.norm = \\\n",
    "    model.backbone.norm = \"FrozenBN\"\n",
    "    cfg.model = model\n",
    "    \n",
    "    cfg.train.amp.enabled = True\n",
    "    cfg.train.output_dir = '../logs/exploration_test'\n",
    "    cfg.train.max_iter = max_iter\n",
    "    cfg.model.roi_heads.num_classes = 13\n",
    "    cfg.dataloader.train.dataset.names = 'modanet_instance_segmentation_train'\n",
    "    cfg.dataloader.test.dataset.names = 'modanet_instance_segmentation_test'\n",
    "    \n",
    "    return cfg\n",
    "\n",
    "def do_train(cfg):\n",
    "    model = instantiate(cfg.model)\n",
    "    logger = logging.getLogger(\"detectron2\")\n",
    "    logger.info(\"Model:\\n{}\".format(model))\n",
    "    model.to(cfg.train.device)\n",
    "\n",
    "    cfg.optimizer.params.model = model\n",
    "    optim = instantiate(cfg.optimizer)\n",
    "\n",
    "    train_loader = instantiate(cfg.dataloader.train)\n",
    "\n",
    "#     model = create_ddp_model(model, **cfg.train.ddp)\n",
    "    trainer = (AMPTrainer if cfg.train.amp.enabled else SimpleTrainer)(model, train_loader, optim)\n",
    "    checkpointer = DetectionCheckpointer(\n",
    "        model,\n",
    "        cfg.train.output_dir,\n",
    "        optimizer=optim,\n",
    "        trainer=trainer,\n",
    "    )\n",
    "    trainer.register_hooks(\n",
    "        [\n",
    "            hooks.IterationTimer(),\n",
    "            hooks.LRScheduler(scheduler=instantiate(cfg.lr_multiplier)),\n",
    "            hooks.PeriodicCheckpointer(checkpointer, **cfg.train.checkpointer)\n",
    "            if comm.is_main_process()\n",
    "            else None,\n",
    "            hooks.EvalHook(cfg.train.eval_period, lambda: do_test(cfg, model)),\n",
    "            hooks.PeriodicWriter(\n",
    "                default_writers(cfg.train.output_dir, cfg.train.max_iter),\n",
    "                period=cfg.train.log_period,\n",
    "            )\n",
    "            if comm.is_main_process()\n",
    "            else None,\n",
    "        ]\n",
    "    )\n",
    "\n",
    "    checkpointer.resume_or_load(cfg.train.init_checkpoint, resume=False)\n",
    "    start_iter = 0\n",
    "    trainer.train(start_iter, cfg.train.max_iter)"
   ]
  },
  {
   "cell_type": "code",
   "execution_count": null,
   "id": "860da668",
   "metadata": {
    "ExecuteTime": {
     "start_time": "2021-08-12T02:58:42.172Z"
    },
    "scrolled": false
   },
   "outputs": [],
   "source": [
    "def run_lazy(lazy_path):\n",
    "    cfg = create_lazy_cfg(lazy_path)\n",
    "    do_train(cfg)\n",
    "    \n",
    "new_model_lazy_path = 'new_baselines/mask_rcnn_R_50_FPN_400ep_LSJ.py'\n",
    "run_lazy(new_model_lazy_path)"
   ]
  },
  {
   "cell_type": "code",
   "execution_count": null,
   "id": "0b0a4d4c",
   "metadata": {
    "ExecuteTime": {
     "end_time": "2021-08-12T02:14:04.468345Z",
     "start_time": "2021-08-12T02:14:00.502Z"
    }
   },
   "outputs": [],
   "source": [
    "from detectron2.config import get_cfg\n",
    "\n",
    "model_yaml_path = 'COCO-InstanceSegmentation/mask_rcnn_R_101_FPN_3x.yaml'\n",
    "# model_weights_path = 'detectron2://COCO-InstanceSegmentation/mask_rcnn_R_50_FPN_3x/137849600/model_final_f10217.pkl'\n",
    "\n",
    "# cfg = LazyConfig.load()\n",
    "cfg = get_cfg()\n",
    "cfg.merge_from_file(model_zoo.get_config_file(model_yaml_path))\n",
    "cfg.OUTPUT_DIR = '../logs/exploration_test'\n",
    "cfg.DATASETS.TRAIN = ('modanet_instance_segmentation_train',)\n",
    "cfg.DATASETS.TEST = ()\n",
    "cfg.DATALOADER.NUM_WORKERS = 2\n",
    "cfg.SOLVER.IMS_PER_BATCH = 2\n",
    "cfg.SOLVER.BASE_LR = 0.01\n",
    "\n",
    "cfg.SOLVER.NUM_GPUS = 1\n",
    "single_iteration = cfg.SOLVER.NUM_GPUS * cfg.SOLVER.IMS_PER_BATCH\n",
    "iterations_for_one_epoch = len(dataset_dicts) / single_iteration\n",
    "cfg.SOLVER.MAX_ITER = iterations_for_one_epoch * 2 # -> 2 epochs?   \n",
    "\n",
    "cfg.MODEL.WEIGHTS = model_zoo.get_checkpoint_url(model_yaml_path)\n",
    "cfg.MODEL.ROI_HEADS.BATCH_SIZE_PER_IMAGE = 128   # faster, and good enough for this toy dataset\n",
    "cfg.MODEL.ROI_HEADS.NUM_CLASSES = 13"
   ]
  },
  {
   "cell_type": "code",
   "execution_count": null,
   "id": "5af03112",
   "metadata": {
    "ExecuteTime": {
     "end_time": "2021-08-12T02:14:04.468713Z",
     "start_time": "2021-08-12T02:14:00.503Z"
    },
    "scrolled": true
   },
   "outputs": [],
   "source": [
    "# from detectron2.engine import DefaultTrainer\n",
    "\n",
    "# os.makedirs(cfg.OUTPUT_DIR, exist_ok=True)\n",
    "# trainer = DefaultTrainer(cfg)\n",
    "# trainer.resume_or_load(resume=False)\n",
    "# trainer.train()"
   ]
  },
  {
   "cell_type": "markdown",
   "id": "751517ca",
   "metadata": {
    "heading_collapsed": true
   },
   "source": [
    "### Evaluate"
   ]
  },
  {
   "cell_type": "code",
   "execution_count": null,
   "id": "801a573a",
   "metadata": {
    "ExecuteTime": {
     "end_time": "2021-08-12T02:14:04.469029Z",
     "start_time": "2021-08-12T02:14:00.504Z"
    },
    "hidden": true
   },
   "outputs": [],
   "source": [
    "eval_tools = Evaluation(cfg, \"modanet_instance_segmentation_test\")"
   ]
  },
  {
   "cell_type": "code",
   "execution_count": null,
   "id": "04d59df5",
   "metadata": {
    "ExecuteTime": {
     "end_time": "2021-08-12T02:14:04.469401Z",
     "start_time": "2021-08-12T02:14:00.505Z"
    },
    "hidden": true
   },
   "outputs": [],
   "source": [
    "# eval_tools.run_coco_eval()"
   ]
  },
  {
   "cell_type": "markdown",
   "id": "1ab7d84d",
   "metadata": {},
   "source": [
    "### Visualizations"
   ]
  },
  {
   "cell_type": "code",
   "execution_count": null,
   "id": "a3cebbdd",
   "metadata": {
    "ExecuteTime": {
     "end_time": "2021-08-12T02:14:04.469747Z",
     "start_time": "2021-08-12T02:14:00.507Z"
    }
   },
   "outputs": [],
   "source": [
    "# from detectron2.engine import DefaultPredictor\n",
    "\n",
    "# cfg.MODEL.WEIGHTS = os.path.join(cfg.OUTPUT_DIR, 'model_final.pth')\n",
    "# cfg.MODEL.ROI_HEADS.NMS_THRESH_TEST = 0.4 # original 0.5\n",
    "# cfg.MODEL.ROI_HEADS.SCORE_THRESH_TEST = 0.4  # set the testing threshold for this model\n",
    "# cfg.DATASETS.TEST = ('modanet_instance_segmentation_test', )\n",
    "# predictor = DefaultPredictor(cfg)\n",
    "\n",
    "train_metadata = MetadataCatalog.get('modanet_instance_segmentation_train')\n",
    "test_dataset_dicts = DatasetCatalog.get('modanet_instance_segmentation_test')"
   ]
  },
  {
   "cell_type": "code",
   "execution_count": null,
   "id": "1250593c",
   "metadata": {
    "ExecuteTime": {
     "end_time": "2021-08-12T02:14:04.470119Z",
     "start_time": "2021-08-12T02:14:00.508Z"
    },
    "scrolled": false
   },
   "outputs": [],
   "source": [
    "eval_tools.show_n(dataset_dicts=test_dataset_dicts, metadata=train_metadata, predictions = True)"
   ]
  },
  {
   "cell_type": "code",
   "execution_count": null,
   "id": "e559c712",
   "metadata": {
    "ExecuteTime": {
     "end_time": "2021-08-12T02:14:04.470441Z",
     "start_time": "2021-08-12T02:14:00.509Z"
    }
   },
   "outputs": [],
   "source": [
    "mapping = {k: v for k, v in enumerate(train_metadata.thing_classes)}\n",
    "mapping"
   ]
  },
  {
   "cell_type": "code",
   "execution_count": null,
   "id": "cda44003",
   "metadata": {
    "ExecuteTime": {
     "end_time": "2021-08-12T02:14:04.470870Z",
     "start_time": "2021-08-12T02:14:00.509Z"
    }
   },
   "outputs": [],
   "source": [
    "test_annots = eval_tools.createAnnots(test_dataset_dicts, mapping = mapping, sample_ratio=2)"
   ]
  },
  {
   "cell_type": "code",
   "execution_count": null,
   "id": "f8ebcb8e",
   "metadata": {
    "ExecuteTime": {
     "end_time": "2021-08-12T02:14:04.471179Z",
     "start_time": "2021-08-12T02:14:00.510Z"
    }
   },
   "outputs": [],
   "source": [
    "# model_predictions = modanet_segmentation_dataset.create_annotation_set(\n",
    "#     annotation_task = 'Instance Segmentation', name = 'exploration_preds_sampleratio2')\n",
    "\n",
    "# modanet_segmentation_dataset.add_annotations(test_annots, annotation_set_id=model_predictions.id)"
   ]
  },
  {
   "cell_type": "code",
   "execution_count": null,
   "id": "38cf3da2",
   "metadata": {
    "ExecuteTime": {
     "end_time": "2021-08-12T02:14:04.471528Z",
     "start_time": "2021-08-12T02:14:00.512Z"
    }
   },
   "outputs": [],
   "source": [
    "modanet_segmentation_dataset.view()"
   ]
  },
  {
   "cell_type": "code",
   "execution_count": null,
   "id": "780202fc",
   "metadata": {},
   "outputs": [],
   "source": []
  }
 ],
 "metadata": {
  "kernelspec": {
   "display_name": "Python [conda env:vision]",
   "language": "python",
   "name": "conda-env-vision-py"
  },
  "language_info": {
   "codemirror_mode": {
    "name": "ipython",
    "version": 3
   },
   "file_extension": ".py",
   "mimetype": "text/x-python",
   "name": "python",
   "nbconvert_exporter": "python",
   "pygments_lexer": "ipython3",
   "version": "3.8.11"
  }
 },
 "nbformat": 4,
 "nbformat_minor": 5
}
