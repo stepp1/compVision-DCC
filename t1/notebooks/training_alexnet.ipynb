{
 "cells": [
  {
   "cell_type": "code",
   "execution_count": 1,
   "metadata": {
    "ExecuteTime": {
     "end_time": "2021-05-03T02:52:26.789072Z",
     "start_time": "2021-05-03T02:52:26.786141Z"
    }
   },
   "outputs": [
    {
     "name": "stdout",
     "output_type": "stream",
     "text": [
      "/home/step/Personal/UCH/2021-sem1/VisionComp/t1\n"
     ]
    }
   ],
   "source": [
    "from pathlib import Path\n",
    "if Path.cwd().parent.stem == 't1':\n",
    "    %cd .."
   ]
  },
  {
   "cell_type": "code",
   "execution_count": 2,
   "metadata": {
    "ExecuteTime": {
     "end_time": "2021-05-03T02:52:27.936415Z",
     "start_time": "2021-05-03T02:52:26.789872Z"
    }
   },
   "outputs": [
    {
     "name": "stdout",
     "output_type": "stream",
     "text": [
      "INFO:tensorflow:Enabling eager execution\n",
      "INFO:tensorflow:Enabling v2 tensorshape\n",
      "INFO:tensorflow:Enabling resource variables\n",
      "INFO:tensorflow:Enabling tensor equality\n",
      "INFO:tensorflow:Enabling control flow v2\n"
     ]
    }
   ],
   "source": [
    "import train\n",
    "from train import *\n",
    "from dataset import ClothingSmall, parse_function, train_preprocess\n",
    "import matplotlib.pyplot as plt"
   ]
  },
  {
   "cell_type": "code",
   "execution_count": 3,
   "metadata": {
    "ExecuteTime": {
     "end_time": "2021-05-03T02:52:27.938970Z",
     "start_time": "2021-05-03T02:52:27.937242Z"
    }
   },
   "outputs": [
    {
     "name": "stdout",
     "output_type": "stream",
     "text": [
      "\n",
      "jsaavedr, 2020\n",
      "This allows you to train and test your model\n",
      "\n",
      "Before using this program, set the path where the folder \"covnet2\"  is stored.\n",
      "To use train.py, you will require to send the following parameters :\n",
      " * -config : A configuration file where a set of parameters for data construction and trainig is set.\n",
      " * -name: A section name in the configuration file.\n",
      " * -mode: [train, test] for training, testing, or showing  variables of the current model. By default this is set to 'train'\n",
      " * -save: Set true for saving the model\n",
      "\n",
      "\n",
      " Extension made by Victor Faraggi, 2021\n",
      "\n",
      " Added modularity. Now you can import the following functions:\n",
      "    - create_config(name, config_file=None, config_str=None)\n",
      "        -> return a ConfigurationFile from config_file path or config_str\n",
      "    - parse_config(config)\n",
      "        -> returns dict w/ tfr_files\n",
      "    - load_dataset(config, tfr_train_file, tfr_test_file)\n",
      "        -> returns a dict w/ train/test datasets, mean_image, input_shape and number_of_classes\n",
      "    - create_model(config, model_name, in_shape)\n",
      "        -> returns a tf model\n",
      "    - create_scheduler(config)\n",
      "        -> returns a scheduler\n",
      "    - create_opt(opt_name, config, scheduler=None)\n",
      "        -> returns an optimizer\n",
      "    - create_cbs(config)\n",
      "        -> returns a TensorBoardCallback and a CheckpointCallback\n",
      "    - run_model(mode, model, opt, datasets, config, train_cbs=None, test_cbs=None):\n",
      "        -> returns the training/test history\n",
      "    - save_model(model, config, fname)\n",
      "        -> saves the model\n",
      "\n",
      "    config argument is expected to be a ConfigurationFile\n",
      "\n"
     ]
    }
   ],
   "source": [
    "print(train.__doc__)"
   ]
  },
  {
   "cell_type": "markdown",
   "metadata": {},
   "source": [
    "# AlexNet\n"
   ]
  },
  {
   "cell_type": "code",
   "execution_count": 4,
   "metadata": {
    "ExecuteTime": {
     "end_time": "2021-05-03T02:52:27.941746Z",
     "start_time": "2021-05-03T02:52:27.939718Z"
    }
   },
   "outputs": [],
   "source": [
    "alexnet_config = \\\n",
    "\"\"\"[FASHION-ALEXNET]\n",
    "# Training Related\n",
    "NUM_EPOCHS = 20\n",
    "NUM_CLASSES = 19\n",
    "BATCH_SIZE = 128\n",
    "SNAPSHOT_STEPS = 500\n",
    "VALIDATION_STEPS = 100\n",
    "LEARNING_RATE = 0.003\n",
    "USE_L2 = True\n",
    "WEIGHT_DECAY = 1e-4\n",
    "\n",
    "SNAPSHOT_DIR = snapshots/snapshots-alexnet/\n",
    "\n",
    "# Dataset Related\n",
    "DATA_DIR = data/clothing-small/\n",
    "SHUFFLE_SIZE = 10000\n",
    "CHANNELS = 3\n",
    "IMAGE_TYPE = IMAGE\n",
    "IMAGE_WIDTH = 224\n",
    "IMAGE_HEIGHT = 224\n",
    "\n",
    "#for tf_records to use multithreads\n",
    "USE_MULTITHREADS = True\n",
    "NUM_THREADS = 10\n",
    "\n",
    "#CKPFILE is used for fine tunning\n",
    "#CKPFILE =/home/step/Personal/UCH/2021-sem1/VisionComp/t1/chks\n",
    "\"\"\"\n",
    "\n",
    "with open(\"configs/t1_alexnet.config\", 'w') as conf:\n",
    "    conf.write(alexnet_config)"
   ]
  },
  {
   "cell_type": "markdown",
   "metadata": {},
   "source": [
    "## Configuration and Dataset"
   ]
  },
  {
   "cell_type": "code",
   "execution_count": 5,
   "metadata": {
    "ExecuteTime": {
     "end_time": "2021-05-03T02:52:28.407524Z",
     "start_time": "2021-05-03T02:52:27.942514Z"
    }
   },
   "outputs": [],
   "source": [
    "model_name = 'alexnet'\n",
    "\n",
    "config = create_config(\"FASHION-ALEXNET\", \"configs/t1_alexnet.config\")\n",
    "tfr_files = parse_config(config, mode='train')\n",
    "datasets = load_dataset(config, tfr_files['train'], tfr_files['test'], 'train')"
   ]
  },
  {
   "cell_type": "code",
   "execution_count": null,
   "metadata": {},
   "outputs": [],
   "source": []
  },
  {
   "cell_type": "code",
   "execution_count": 6,
   "metadata": {
    "ExecuteTime": {
     "end_time": "2021-05-03T02:52:28.696209Z",
     "start_time": "2021-05-03T02:52:28.408266Z"
    }
   },
   "outputs": [],
   "source": [
    "from dataset import ClothingSmall\n",
    "\n",
    "process_func = lambda img, label : train_preprocess(img, label, seed=[8, 8])\n",
    "\n",
    "csDataset = ClothingSmall(data_dir = config.get_data_dir())\n",
    "\n",
    "csDataset.prepare()\n",
    "\n",
    "csDataset.make_ds(parse_function, process_func)\n",
    "\n",
    "\n",
    "# datasets = {\n",
    "#     'train' : csDataset.train_ds,\n",
    "#     'test' : csDataset.test_ds\n",
    "# }\n"
   ]
  },
  {
   "cell_type": "markdown",
   "metadata": {},
   "source": [
    "## Create Callbacks"
   ]
  },
  {
   "cell_type": "code",
   "execution_count": 7,
   "metadata": {
    "ExecuteTime": {
     "end_time": "2021-05-03T02:52:28.803033Z",
     "start_time": "2021-05-03T02:52:28.697105Z"
    }
   },
   "outputs": [],
   "source": [
    "tb_cb, chk_cb = create_cbs(config)"
   ]
  },
  {
   "cell_type": "markdown",
   "metadata": {},
   "source": [
    "### LRFinder"
   ]
  },
  {
   "cell_type": "code",
   "execution_count": 10,
   "metadata": {
    "ExecuteTime": {
     "end_time": "2021-05-02T06:21:47.560953Z",
     "start_time": "2021-05-02T06:21:47.559325Z"
    },
    "code_folding": [],
    "deletable": false,
    "editable": false,
    "run_control": {
     "frozen": true
    }
   },
   "outputs": [],
   "source": [
    "from custom import determine_learning_rate"
   ]
  },
  {
   "cell_type": "code",
   "execution_count": 9,
   "metadata": {
    "ExecuteTime": {
     "end_time": "2021-05-01T09:18:26.573246Z",
     "start_time": "2021-05-01T09:15:57.432419Z"
    },
    "deletable": false,
    "editable": false,
    "run_control": {
     "frozen": true
    }
   },
   "outputs": [
    {
     "name": "stdout",
     "output_type": "stream",
     "text": [
      "INFO:tensorflow:Mixed precision compatibility check (mixed_float16): OK\n",
      "Your GPU will likely run quickly with dtype policy mixed_float16 as it has compute capability of at least 7.0. Your GPU: NVIDIA GeForce RTX 3070, compute capability 8.6\n",
      "Model is AlexNet\n",
      "(224, 224, 3)\n",
      "Model: \"alex_net_model\"\n",
      "_________________________________________________________________\n",
      "Layer (type)                 Output Shape              Param #   \n",
      "=================================================================\n",
      "conv2d (Conv2D)              multiple                  34944     \n",
      "_________________________________________________________________\n",
      "max_pooling2d (MaxPooling2D) multiple                  0         \n",
      "_________________________________________________________________\n",
      "re_lu (ReLU)                 multiple                  0         \n",
      "_________________________________________________________________\n",
      "batch_normalization (BatchNo multiple                  384       \n",
      "_________________________________________________________________\n",
      "conv2d_1 (Conv2D)            multiple                  614656    \n",
      "_________________________________________________________________\n",
      "batch_normalization_1 (Batch multiple                  1024      \n",
      "_________________________________________________________________\n",
      "conv2d_2 (Conv2D)            multiple                  885120    \n",
      "_________________________________________________________________\n",
      "batch_normalization_2 (Batch multiple                  1536      \n",
      "_________________________________________________________________\n",
      "conv2d_3 (Conv2D)            multiple                  1327488   \n",
      "_________________________________________________________________\n",
      "batch_normalization_3 (Batch multiple                  1536      \n",
      "_________________________________________________________________\n",
      "conv2d_4 (Conv2D)            multiple                  884992    \n",
      "_________________________________________________________________\n",
      "batch_normalization_4 (Batch multiple                  1024      \n",
      "_________________________________________________________________\n",
      "dense (Dense)                multiple                  4195328   \n",
      "_________________________________________________________________\n",
      "batch_normalization_5 (Batch multiple                  4096      \n",
      "_________________________________________________________________\n",
      "dense_1 (Dense)              multiple                  1049600   \n",
      "_________________________________________________________________\n",
      "batch_normalization_6 (Batch multiple                  4096      \n",
      "_________________________________________________________________\n",
      "dense_2 (Dense)              multiple                  19475     \n",
      "=================================================================\n",
      "Total params: 9,025,299\n",
      "Trainable params: 9,018,451\n",
      "Non-trainable params: 6,848\n",
      "_________________________________________________________________\n",
      "Epoch 1/5\n",
      "250/250 [==============================] - 38s 111ms/step - loss: 7.7753 - accuracy: 0.0532\n",
      "Epoch 2/5\n",
      "250/250 [==============================] - 30s 102ms/step - loss: 7.8605 - accuracy: 0.0526\n",
      "Epoch 3/5\n",
      "250/250 [==============================] - 31s 105ms/step - loss: 5.1635 - accuracy: 0.0581\n",
      "Epoch 4/5\n",
      "250/250 [==============================] - 31s 104ms/step - loss: 9.6438 - accuracy: 0.0441\n",
      "Epoch 5/5\n",
      "250/250 [==============================] - 18s 52ms/step - loss: nan - accuracy: 0.0407\n"
     ]
    },
    {
     "data": {
      "image/png": "[encoded data removed]",
      "text/plain": [
       "<Figure size 432x288 with 1 Axes>"
      ]
     },
     "metadata": {
      "needs_background": "light"
     },
     "output_type": "display_data"
    },
    {
     "data": {
      "text/plain": [
       "<models.alexnet.AlexNetModel at 0x7f50d003cf40>"
      ]
     },
     "execution_count": 9,
     "metadata": {},
     "output_type": "execute_result"
    }
   ],
   "source": [
    "model = create_model(config, model_name, csDataset.input_shape, use_mixed=True)\n",
    "determineLearningRate(model, datasets['train'], tf.keras.optimizers.SGD(), config.get_batch_size())"
   ]
  },
  {
   "cell_type": "code",
   "execution_count": 10,
   "metadata": {
    "ExecuteTime": {
     "end_time": "2021-05-01T09:21:03.515035Z",
     "start_time": "2021-05-01T09:18:26.575269Z"
    },
    "deletable": false,
    "editable": false,
    "run_control": {
     "frozen": true
    },
    "scrolled": false
   },
   "outputs": [
    {
     "name": "stdout",
     "output_type": "stream",
     "text": [
      "Model is AlexNet\n",
      "(224, 224, 3)\n",
      "Model: \"alex_net_model_1\"\n",
      "_________________________________________________________________\n",
      "Layer (type)                 Output Shape              Param #   \n",
      "=================================================================\n",
      "conv2d_5 (Conv2D)            multiple                  34944     \n",
      "_________________________________________________________________\n",
      "max_pooling2d_1 (MaxPooling2 multiple                  0         \n",
      "_________________________________________________________________\n",
      "re_lu_1 (ReLU)               multiple                  0         \n",
      "_________________________________________________________________\n",
      "batch_normalization_7 (Batch multiple                  384       \n",
      "_________________________________________________________________\n",
      "conv2d_6 (Conv2D)            multiple                  614656    \n",
      "_________________________________________________________________\n",
      "batch_normalization_8 (Batch multiple                  1024      \n",
      "_________________________________________________________________\n",
      "conv2d_7 (Conv2D)            multiple                  885120    \n",
      "_________________________________________________________________\n",
      "batch_normalization_9 (Batch multiple                  1536      \n",
      "_________________________________________________________________\n",
      "conv2d_8 (Conv2D)            multiple                  1327488   \n",
      "_________________________________________________________________\n",
      "batch_normalization_10 (Batc multiple                  1536      \n",
      "_________________________________________________________________\n",
      "conv2d_9 (Conv2D)            multiple                  884992    \n",
      "_________________________________________________________________\n",
      "batch_normalization_11 (Batc multiple                  1024      \n",
      "_________________________________________________________________\n",
      "dense_3 (Dense)              multiple                  4195328   \n",
      "_________________________________________________________________\n",
      "batch_normalization_12 (Batc multiple                  4096      \n",
      "_________________________________________________________________\n",
      "dense_4 (Dense)              multiple                  1049600   \n",
      "_________________________________________________________________\n",
      "batch_normalization_13 (Batc multiple                  4096      \n",
      "_________________________________________________________________\n",
      "dense_5 (Dense)              multiple                  19475     \n",
      "=================================================================\n",
      "Total params: 9,025,299\n",
      "Trainable params: 9,018,451\n",
      "Non-trainable params: 6,848\n",
      "_________________________________________________________________\n",
      "Epoch 1/5\n",
      "250/250 [==============================] - 32s 104ms/step - loss: 6.9263 - accuracy: 0.0555\n",
      "Epoch 2/5\n",
      "250/250 [==============================] - 31s 105ms/step - loss: 7.8014 - accuracy: 0.0684\n",
      "Epoch 3/5\n",
      "250/250 [==============================] - 31s 105ms/step - loss: 8.3551 - accuracy: 0.0612\n",
      "Epoch 4/5\n",
      "250/250 [==============================] - 31s 104ms/step - loss: 8.0713 - accuracy: 0.0549\n",
      "Epoch 5/5\n",
      "250/250 [==============================] - 31s 106ms/step - loss: 8.0013 - accuracy: 0.0349\n"
     ]
    },
    {
     "data": {
      "image/png": "[encoded data removed]",
      "text/plain": [
       "<Figure size 432x288 with 1 Axes>"
      ]
     },
     "metadata": {
      "needs_background": "light"
     },
     "output_type": "display_data"
    },
    {
     "data": {
      "text/plain": [
       "<models.alexnet.AlexNetModel at 0x7f4fc45c0040>"
      ]
     },
     "execution_count": 10,
     "metadata": {},
     "output_type": "execute_result"
    }
   ],
   "source": [
    "model = create_model(config, model_name, csDataset.input_shape, use_mixed=True)\n",
    "determineLearningRate(model, datasets['train'], tf.keras.optimizers.Adam(), config.get_batch_size())"
   ]
  },
  {
   "cell_type": "code",
   "execution_count": 11,
   "metadata": {
    "ExecuteTime": {
     "end_time": "2021-05-01T09:23:44.941299Z",
     "start_time": "2021-05-01T09:21:03.516636Z"
    },
    "deletable": false,
    "editable": false,
    "run_control": {
     "frozen": true
    }
   },
   "outputs": [
    {
     "name": "stdout",
     "output_type": "stream",
     "text": [
      "Model is AlexNet\n",
      "(224, 224, 3)\n",
      "Model: \"alex_net_model_2\"\n",
      "_________________________________________________________________\n",
      "Layer (type)                 Output Shape              Param #   \n",
      "=================================================================\n",
      "conv2d_10 (Conv2D)           multiple                  34944     \n",
      "_________________________________________________________________\n",
      "max_pooling2d_2 (MaxPooling2 multiple                  0         \n",
      "_________________________________________________________________\n",
      "re_lu_2 (ReLU)               multiple                  0         \n",
      "_________________________________________________________________\n",
      "batch_normalization_14 (Batc multiple                  384       \n",
      "_________________________________________________________________\n",
      "conv2d_11 (Conv2D)           multiple                  614656    \n",
      "_________________________________________________________________\n",
      "batch_normalization_15 (Batc multiple                  1024      \n",
      "_________________________________________________________________\n",
      "conv2d_12 (Conv2D)           multiple                  885120    \n",
      "_________________________________________________________________\n",
      "batch_normalization_16 (Batc multiple                  1536      \n",
      "_________________________________________________________________\n",
      "conv2d_13 (Conv2D)           multiple                  1327488   \n",
      "_________________________________________________________________\n",
      "batch_normalization_17 (Batc multiple                  1536      \n",
      "_________________________________________________________________\n",
      "conv2d_14 (Conv2D)           multiple                  884992    \n",
      "_________________________________________________________________\n",
      "batch_normalization_18 (Batc multiple                  1024      \n",
      "_________________________________________________________________\n",
      "dense_6 (Dense)              multiple                  4195328   \n",
      "_________________________________________________________________\n",
      "batch_normalization_19 (Batc multiple                  4096      \n",
      "_________________________________________________________________\n",
      "dense_7 (Dense)              multiple                  1049600   \n",
      "_________________________________________________________________\n",
      "batch_normalization_20 (Batc multiple                  4096      \n",
      "_________________________________________________________________\n",
      "dense_8 (Dense)              multiple                  19475     \n",
      "=================================================================\n",
      "Total params: 9,025,299\n",
      "Trainable params: 9,018,451\n",
      "Non-trainable params: 6,848\n",
      "_________________________________________________________________\n",
      "Epoch 1/5\n",
      "250/250 [==============================] - 33s 107ms/step - loss: 7.7824 - accuracy: 0.0525\n",
      "Epoch 2/5\n",
      "250/250 [==============================] - 32s 109ms/step - loss: 7.6927 - accuracy: 0.0641\n",
      "Epoch 3/5\n",
      "250/250 [==============================] - 32s 107ms/step - loss: 8.1425 - accuracy: 0.0667\n",
      "Epoch 4/5\n",
      "250/250 [==============================] - 32s 107ms/step - loss: 8.3516 - accuracy: 0.0653\n",
      "Epoch 5/5\n",
      "250/250 [==============================] - 32s 109ms/step - loss: 8.1762 - accuracy: 0.0656\n"
     ]
    },
    {
     "data": {
      "image/png": "[encoded data removed]",
      "text/plain": [
       "<Figure size 432x288 with 1 Axes>"
      ]
     },
     "metadata": {
      "needs_background": "light"
     },
     "output_type": "display_data"
    },
    {
     "data": {
      "text/plain": [
       "<models.alexnet.AlexNetModel at 0x7f4fc477eb80>"
      ]
     },
     "execution_count": 11,
     "metadata": {},
     "output_type": "execute_result"
    }
   ],
   "source": [
    "model = create_model(config, model_name, csDataset.input_shape, use_mixed=True)\n",
    "determineLearningRate(model, datasets['train'], tf.keras.optimizers.Nadam(), config.get_batch_size())"
   ]
  },
  {
   "cell_type": "markdown",
   "metadata": {
    "deletable": false,
    "editable": false,
    "run_control": {
     "frozen": true
    }
   },
   "source": [
    "## Optimizer"
   ]
  },
  {
   "cell_type": "code",
   "execution_count": 28,
   "metadata": {
    "ExecuteTime": {
     "end_time": "2021-05-02T06:46:51.419474Z",
     "start_time": "2021-05-02T06:46:51.414205Z"
    },
    "deletable": false,
    "editable": false,
    "run_control": {
     "frozen": true
    }
   },
   "outputs": [],
   "source": [
    "cosine_sched = create_scheduler(config)\n",
    "opt = create_opt('adam', config)"
   ]
  },
  {
   "cell_type": "markdown",
   "metadata": {
    "deletable": false,
    "editable": false,
    "run_control": {
     "frozen": true
    }
   },
   "source": [
    "## Model"
   ]
  },
  {
   "cell_type": "code",
   "execution_count": 29,
   "metadata": {
    "ExecuteTime": {
     "end_time": "2021-05-02T06:46:52.020238Z",
     "start_time": "2021-05-02T06:46:51.868930Z"
    },
    "deletable": false,
    "editable": false,
    "run_control": {
     "frozen": true
    }
   },
   "outputs": [
    {
     "name": "stdout",
     "output_type": "stream",
     "text": [
      "Model is AlexNet\n",
      "(224, 224, 3)\n",
      "Model: \"alex_net_model_5\"\n",
      "_________________________________________________________________\n",
      "Layer (type)                 Output Shape              Param #   \n",
      "=================================================================\n",
      "conv2d_25 (Conv2D)           multiple                  34944     \n",
      "_________________________________________________________________\n",
      "max_pooling2d_5 (MaxPooling2 multiple                  0         \n",
      "_________________________________________________________________\n",
      "re_lu_5 (ReLU)               multiple                  0         \n",
      "_________________________________________________________________\n",
      "batch_normalization_35 (Batc multiple                  384       \n",
      "_________________________________________________________________\n",
      "conv2d_26 (Conv2D)           multiple                  614656    \n",
      "_________________________________________________________________\n",
      "batch_normalization_36 (Batc multiple                  1024      \n",
      "_________________________________________________________________\n",
      "conv2d_27 (Conv2D)           multiple                  885120    \n",
      "_________________________________________________________________\n",
      "batch_normalization_37 (Batc multiple                  1536      \n",
      "_________________________________________________________________\n",
      "conv2d_28 (Conv2D)           multiple                  1327488   \n",
      "_________________________________________________________________\n",
      "batch_normalization_38 (Batc multiple                  1536      \n",
      "_________________________________________________________________\n",
      "conv2d_29 (Conv2D)           multiple                  884992    \n",
      "_________________________________________________________________\n",
      "batch_normalization_39 (Batc multiple                  1024      \n",
      "_________________________________________________________________\n",
      "dense_15 (Dense)             multiple                  4195328   \n",
      "_________________________________________________________________\n",
      "batch_normalization_40 (Batc multiple                  4096      \n",
      "_________________________________________________________________\n",
      "dense_16 (Dense)             multiple                  1049600   \n",
      "_________________________________________________________________\n",
      "batch_normalization_41 (Batc multiple                  4096      \n",
      "_________________________________________________________________\n",
      "dense_17 (Dense)             multiple                  19475     \n",
      "=================================================================\n",
      "Total params: 9,025,299\n",
      "Trainable params: 9,018,451\n",
      "Non-trainable params: 6,848\n",
      "_________________________________________________________________\n"
     ]
    }
   ],
   "source": [
    "model = create_model(config, 'alexnet', csDataset.input_shape, use_mixed=True)"
   ]
  },
  {
   "cell_type": "markdown",
   "metadata": {
    "deletable": false,
    "editable": false,
    "run_control": {
     "frozen": true
    }
   },
   "source": [
    "## Run"
   ]
  },
  {
   "cell_type": "code",
   "execution_count": 30,
   "metadata": {
    "ExecuteTime": {
     "end_time": "2021-05-02T06:46:52.870145Z",
     "start_time": "2021-05-02T06:46:52.867730Z"
    },
    "deletable": false,
    "editable": false,
    "run_control": {
     "frozen": true
    }
   },
   "outputs": [],
   "source": [
    "datasets['train'] = datasets['train'].prefetch(1)\n",
    "datasets['test'] = datasets['test'].prefetch(1)"
   ]
  },
  {
   "cell_type": "code",
   "execution_count": 31,
   "metadata": {
    "ExecuteTime": {
     "end_time": "2021-05-02T06:56:06.746050Z",
     "start_time": "2021-05-02T06:46:53.574422Z"
    },
    "deletable": false,
    "editable": false,
    "run_control": {
     "frozen": true
    },
    "scrolled": false
   },
   "outputs": [
    {
     "name": "stdout",
     "output_type": "stream",
     "text": [
      "Epoch 1/20\n",
      "250/250 [==============================] - 33s 93ms/step - loss: 2.7602 - accuracy: 0.1782 - val_loss: 2.5125 - val_accuracy: 0.2368\n",
      "Epoch 2/20\n",
      "250/250 [==============================] - 27s 78ms/step - loss: 2.0695 - accuracy: 0.3402 - val_loss: 1.9724 - val_accuracy: 0.3774\n",
      "Epoch 3/20\n",
      "250/250 [==============================] - 27s 82ms/step - loss: 1.8637 - accuracy: 0.3945 - val_loss: 1.8147 - val_accuracy: 0.4242\n",
      "Epoch 4/20\n",
      "250/250 [==============================] - 29s 74ms/step - loss: 1.7135 - accuracy: 0.4395 - val_loss: 1.9898 - val_accuracy: 0.3847\n",
      "Epoch 5/20\n",
      "250/250 [==============================] - 25s 76ms/step - loss: 1.6251 - accuracy: 0.4724 - val_loss: 1.6519 - val_accuracy: 0.4832\n",
      "Epoch 6/20\n",
      "250/250 [==============================] - 24s 69ms/step - loss: 1.5490 - accuracy: 0.4910 - val_loss: 1.6553 - val_accuracy: 0.4805\n",
      "Epoch 7/20\n",
      "250/250 [==============================] - 28s 75ms/step - loss: 1.4822 - accuracy: 0.5164 - val_loss: 1.6452 - val_accuracy: 0.4811\n",
      "Epoch 8/20\n",
      "250/250 [==============================] - 27s 78ms/step - loss: 1.4076 - accuracy: 0.5355 - val_loss: 1.6444 - val_accuracy: 0.4884\n",
      "Epoch 9/20\n",
      "250/250 [==============================] - 32s 81ms/step - loss: 1.3337 - accuracy: 0.5606 - val_loss: 1.5509 - val_accuracy: 0.5153\n",
      "Epoch 10/20\n",
      "250/250 [==============================] - 32s 82ms/step - loss: 1.2750 - accuracy: 0.5771 - val_loss: 1.4974 - val_accuracy: 0.5153\n",
      "Epoch 11/20\n",
      "250/250 [==============================] - 32s 85ms/step - loss: 1.2265 - accuracy: 0.5926 - val_loss: 1.5862 - val_accuracy: 0.5126\n",
      "Epoch 12/20\n",
      "250/250 [==============================] - 26s 75ms/step - loss: 1.1681 - accuracy: 0.6098 - val_loss: 1.5888 - val_accuracy: 0.5126\n",
      "Epoch 13/20\n",
      "250/250 [==============================] - 25s 72ms/step - loss: 1.1265 - accuracy: 0.6230 - val_loss: 1.6308 - val_accuracy: 0.5074\n",
      "Epoch 14/20\n",
      "250/250 [==============================] - 31s 74ms/step - loss: 1.0769 - accuracy: 0.6401 - val_loss: 1.7724 - val_accuracy: 0.4684\n",
      "Epoch 15/20\n",
      "250/250 [==============================] - 24s 73ms/step - loss: 1.0078 - accuracy: 0.6619 - val_loss: 1.5076 - val_accuracy: 0.5379\n",
      "Epoch 16/20\n",
      "250/250 [==============================] - 23s 73ms/step - loss: 0.9651 - accuracy: 0.6763 - val_loss: 1.6156 - val_accuracy: 0.5189\n",
      "Epoch 17/20\n",
      "250/250 [==============================] - 26s 80ms/step - loss: 0.8943 - accuracy: 0.6978 - val_loss: 1.6548 - val_accuracy: 0.5321\n",
      "Epoch 18/20\n",
      "250/250 [==============================] - 30s 74ms/step - loss: 0.8400 - accuracy: 0.7189 - val_loss: 1.7062 - val_accuracy: 0.5263\n",
      "Epoch 19/20\n",
      "250/250 [==============================] - 25s 73ms/step - loss: 0.7744 - accuracy: 0.7388 - val_loss: 1.8478 - val_accuracy: 0.5105\n",
      "Epoch 20/20\n",
      "250/250 [==============================] - 26s 75ms/step - loss: 0.7412 - accuracy: 0.7511 - val_loss: 1.7939 - val_accuracy: 0.5158\n"
     ]
    }
   ],
   "source": [
    "history = run_model('train', model, opt, datasets, config, [chk_cb], [tb_cb])"
   ]
  },
  {
   "cell_type": "markdown",
   "metadata": {},
   "source": [
    "## Run TFRecords Dataset w/ custom scheduler"
   ]
  },
  {
   "cell_type": "code",
   "execution_count": 32,
   "metadata": {
    "ExecuteTime": {
     "end_time": "2021-05-02T06:57:38.298417Z",
     "start_time": "2021-05-02T06:57:38.262950Z"
    },
    "deletable": false,
    "editable": false,
    "run_control": {
     "frozen": true
    }
   },
   "outputs": [],
   "source": [
    "sched = create_scheduler(config, 'cyclic', {'base_lr': 1e-3, 'max_lr': 8e-3})\n",
    "opt = create_opt('adam', config)"
   ]
  },
  {
   "cell_type": "code",
   "execution_count": 33,
   "metadata": {
    "ExecuteTime": {
     "end_time": "2021-05-02T07:06:38.174375Z",
     "start_time": "2021-05-02T06:57:38.416586Z"
    },
    "deletable": false,
    "editable": false,
    "run_control": {
     "frozen": true
    }
   },
   "outputs": [
    {
     "name": "stdout",
     "output_type": "stream",
     "text": [
      "Model is AlexNet\n",
      "(224, 224, 3)\n",
      "Model: \"alex_net_model_6\"\n",
      "_________________________________________________________________\n",
      "Layer (type)                 Output Shape              Param #   \n",
      "=================================================================\n",
      "conv2d_30 (Conv2D)           multiple                  34944     \n",
      "_________________________________________________________________\n",
      "max_pooling2d_6 (MaxPooling2 multiple                  0         \n",
      "_________________________________________________________________\n",
      "re_lu_6 (ReLU)               multiple                  0         \n",
      "_________________________________________________________________\n",
      "batch_normalization_42 (Batc multiple                  384       \n",
      "_________________________________________________________________\n",
      "conv2d_31 (Conv2D)           multiple                  614656    \n",
      "_________________________________________________________________\n",
      "batch_normalization_43 (Batc multiple                  1024      \n",
      "_________________________________________________________________\n",
      "conv2d_32 (Conv2D)           multiple                  885120    \n",
      "_________________________________________________________________\n",
      "batch_normalization_44 (Batc multiple                  1536      \n",
      "_________________________________________________________________\n",
      "conv2d_33 (Conv2D)           multiple                  1327488   \n",
      "_________________________________________________________________\n",
      "batch_normalization_45 (Batc multiple                  1536      \n",
      "_________________________________________________________________\n",
      "conv2d_34 (Conv2D)           multiple                  884992    \n",
      "_________________________________________________________________\n",
      "batch_normalization_46 (Batc multiple                  1024      \n",
      "_________________________________________________________________\n",
      "dense_18 (Dense)             multiple                  4195328   \n",
      "_________________________________________________________________\n",
      "batch_normalization_47 (Batc multiple                  4096      \n",
      "_________________________________________________________________\n",
      "dense_19 (Dense)             multiple                  1049600   \n",
      "_________________________________________________________________\n",
      "batch_normalization_48 (Batc multiple                  4096      \n",
      "_________________________________________________________________\n",
      "dense_20 (Dense)             multiple                  19475     \n",
      "=================================================================\n",
      "Total params: 9,025,299\n",
      "Trainable params: 9,018,451\n",
      "Non-trainable params: 6,848\n",
      "_________________________________________________________________\n",
      "Epoch 1/20\n",
      "250/250 [==============================] - 28s 79ms/step - loss: 2.5773 - accuracy: 0.2181 - val_loss: 2.9374 - val_accuracy: 0.2832\n",
      "Epoch 2/20\n",
      "250/250 [==============================] - 25s 76ms/step - loss: 1.9647 - accuracy: 0.3698 - val_loss: 2.2824 - val_accuracy: 0.3842\n",
      "Epoch 3/20\n",
      "250/250 [==============================] - 25s 75ms/step - loss: 1.7935 - accuracy: 0.4284 - val_loss: 2.9039 - val_accuracy: 0.2426\n",
      "Epoch 4/20\n",
      "250/250 [==============================] - 26s 69ms/step - loss: 1.7464 - accuracy: 0.4429 - val_loss: 1.7573 - val_accuracy: 0.4568\n",
      "Epoch 5/20\n",
      "250/250 [==============================] - 24s 76ms/step - loss: 1.6612 - accuracy: 0.4705 - val_loss: 1.8569 - val_accuracy: 0.4226\n",
      "Epoch 6/20\n",
      "250/250 [==============================] - 28s 79ms/step - loss: 1.5708 - accuracy: 0.4936 - val_loss: 2.1970 - val_accuracy: 0.3632\n",
      "Epoch 7/20\n",
      "250/250 [==============================] - 28s 77ms/step - loss: 1.4958 - accuracy: 0.5117 - val_loss: 1.9061 - val_accuracy: 0.4189\n",
      "Epoch 8/20\n",
      "250/250 [==============================] - 27s 79ms/step - loss: 1.4398 - accuracy: 0.5353 - val_loss: 1.6738 - val_accuracy: 0.4616\n",
      "Epoch 9/20\n",
      "250/250 [==============================] - 28s 79ms/step - loss: 1.3812 - accuracy: 0.5425 - val_loss: 1.5742 - val_accuracy: 0.4984\n",
      "Epoch 10/20\n",
      "250/250 [==============================] - 28s 76ms/step - loss: 1.2921 - accuracy: 0.5710 - val_loss: 1.5386 - val_accuracy: 0.5111\n",
      "Epoch 11/20\n",
      "250/250 [==============================] - 25s 68ms/step - loss: 1.2177 - accuracy: 0.5946 - val_loss: 1.5357 - val_accuracy: 0.5174\n",
      "Epoch 12/20\n",
      "250/250 [==============================] - 26s 76ms/step - loss: 1.1219 - accuracy: 0.6273 - val_loss: 1.4903 - val_accuracy: 0.5300\n",
      "Epoch 13/20\n",
      "250/250 [==============================] - 26s 77ms/step - loss: 1.0414 - accuracy: 0.6524 - val_loss: 1.4469 - val_accuracy: 0.5574\n",
      "Epoch 14/20\n",
      "250/250 [==============================] - 28s 79ms/step - loss: 0.9319 - accuracy: 0.6856 - val_loss: 1.5130 - val_accuracy: 0.5526\n",
      "Epoch 15/20\n",
      "250/250 [==============================] - 25s 77ms/step - loss: 0.8185 - accuracy: 0.7269 - val_loss: 1.4997 - val_accuracy: 0.5705\n",
      "Epoch 16/20\n",
      "250/250 [==============================] - 27s 77ms/step - loss: 0.6749 - accuracy: 0.7740 - val_loss: 1.5408 - val_accuracy: 0.5721\n",
      "Epoch 17/20\n",
      "250/250 [==============================] - 25s 79ms/step - loss: 0.5599 - accuracy: 0.8185 - val_loss: 1.7403 - val_accuracy: 0.5542\n",
      "Epoch 18/20\n",
      "250/250 [==============================] - 34s 79ms/step - loss: 0.5886 - accuracy: 0.8046 - val_loss: 1.8495 - val_accuracy: 0.5316\n",
      "Epoch 19/20\n",
      "250/250 [==============================] - 26s 76ms/step - loss: 0.6582 - accuracy: 0.7798 - val_loss: 1.7943 - val_accuracy: 0.5353\n",
      "Epoch 20/20\n",
      "250/250 [==============================] - 28s 82ms/step - loss: 0.7254 - accuracy: 0.7565 - val_loss: 1.8107 - val_accuracy: 0.5221\n"
     ]
    }
   ],
   "source": [
    "datasets['train'] = datasets['train'].prefetch(1)\n",
    "datasets['test'] = datasets['test'].prefetch(1)\n",
    "model = create_model(config, model_name, csDataset.input_shape, use_mixed=True)\n",
    "history = run_model('train', model, opt, datasets, config, [chk_cb, sched], [tb_cb])"
   ]
  },
  {
   "cell_type": "markdown",
   "metadata": {},
   "source": [
    "#### Best Models --> 15/16 ---> upload"
   ]
  },
  {
   "cell_type": "code",
   "execution_count": 8,
   "metadata": {
    "ExecuteTime": {
     "end_time": "2021-05-03T02:52:32.918300Z",
     "start_time": "2021-05-03T02:52:30.329297Z"
    },
    "scrolled": false
   },
   "outputs": [
    {
     "name": "stdout",
     "output_type": "stream",
     "text": [
      "INFO:tensorflow:Mixed precision compatibility check (mixed_float16): OK\n",
      "Your GPU will likely run quickly with dtype policy mixed_float16 as it has compute capability of at least 7.0. Your GPU: NVIDIA GeForce RTX 3070, compute capability 8.6\n",
      "Model is AlexNet\n",
      "(224, 224, 3)\n",
      "Model: \"alex_net_model\"\n",
      "_________________________________________________________________\n",
      "Layer (type)                 Output Shape              Param #   \n",
      "=================================================================\n",
      "conv2d (Conv2D)              multiple                  34944     \n",
      "_________________________________________________________________\n",
      "max_pooling2d (MaxPooling2D) multiple                  0         \n",
      "_________________________________________________________________\n",
      "re_lu (ReLU)                 multiple                  0         \n",
      "_________________________________________________________________\n",
      "batch_normalization (BatchNo multiple                  384       \n",
      "_________________________________________________________________\n",
      "conv2d_1 (Conv2D)            multiple                  614656    \n",
      "_________________________________________________________________\n",
      "batch_normalization_1 (Batch multiple                  1024      \n",
      "_________________________________________________________________\n",
      "conv2d_2 (Conv2D)            multiple                  885120    \n",
      "_________________________________________________________________\n",
      "batch_normalization_2 (Batch multiple                  1536      \n",
      "_________________________________________________________________\n",
      "conv2d_3 (Conv2D)            multiple                  1327488   \n",
      "_________________________________________________________________\n",
      "batch_normalization_3 (Batch multiple                  1536      \n",
      "_________________________________________________________________\n",
      "conv2d_4 (Conv2D)            multiple                  884992    \n",
      "_________________________________________________________________\n",
      "batch_normalization_4 (Batch multiple                  1024      \n",
      "_________________________________________________________________\n",
      "dense (Dense)                multiple                  4195328   \n",
      "_________________________________________________________________\n",
      "batch_normalization_5 (Batch multiple                  4096      \n",
      "_________________________________________________________________\n",
      "dense_1 (Dense)              multiple                  1049600   \n",
      "_________________________________________________________________\n",
      "batch_normalization_6 (Batch multiple                  4096      \n",
      "_________________________________________________________________\n",
      "dense_2 (Dense)              multiple                  19475     \n",
      "=================================================================\n",
      "Total params: 9,025,299\n",
      "Trainable params: 9,018,451\n",
      "Non-trainable params: 6,848\n",
      "_________________________________________________________________\n"
     ]
    }
   ],
   "source": [
    "from sklearn.metrics import confusion_matrix\n",
    "\n",
    "acc_dict = dict()\n",
    "acc_per_class_dict = dict()\n",
    "\n",
    "with tf.device('/gpu:0'):\n",
    "    model = create_model(config, model_name, csDataset.input_shape, use_mixed=True)\n",
    "    model.load_weights('snapshots/snapshots-alexnet/016.h5')\n",
    "    \n",
    "    accs = []\n",
    "    accs_per_class = []\n",
    "    for x, y in datasets['test']:\n",
    "        preds = model.predict(x)\n",
    "        acc = (tf.math.argmax(preds, 1) == tf.math.argmax(y, 1)).numpy().sum() / len(y)\n",
    "        \n",
    "        matrix = confusion_matrix(tf.math.argmax(preds, 1), tf.math.argmax(y, 1))\n",
    "        acc_per_class = matrix.diagonal()/matrix.sum(axis=1)\n",
    "        \n",
    "        accs.append(acc); accs_per_class.append(acc_per_class)\n",
    "        \n",
    "    accs = np.array(accs).mean()\n",
    "    accs_per_class = np.array(accs_per_class).mean(1)\n",
    "    \n",
    "np.save('snapshots/snapshots-alexnet/acc.npy', accs)\n",
    "np.save('snapshots/snapshots-alexnet/acc_classes.npy', accs_per_class)"
   ]
  },
  {
   "cell_type": "code",
   "execution_count": 12,
   "metadata": {
    "ExecuteTime": {
     "end_time": "2021-04-30T20:27:51.001262Z",
     "start_time": "2021-04-30T20:27:50.990998Z"
    }
   },
   "outputs": [
    {
     "data": {
      "text/plain": [
       "{'loss': [2.6815884113311768,\n",
       "  2.265125274658203,\n",
       "  1.9316396713256836,\n",
       "  1.761488676071167,\n",
       "  1.6395443677902222,\n",
       "  1.538053274154663,\n",
       "  1.4479159116744995,\n",
       "  1.364519476890564,\n",
       "  1.3038703203201294,\n",
       "  1.2399275302886963,\n",
       "  1.183937430381775,\n",
       "  1.1392594575881958,\n",
       "  1.0855631828308105,\n",
       "  1.0383915901184082,\n",
       "  0.9947125911712646],\n",
       " 'accuracy': [0.1521093249320984,\n",
       "  0.2690996527671814,\n",
       "  0.36713889241218567,\n",
       "  0.41676831245422363,\n",
       "  0.4564530849456787,\n",
       "  0.4920724332332611,\n",
       "  0.517309308052063,\n",
       "  0.5468930602073669,\n",
       "  0.5649372935295105,\n",
       "  0.588422954082489,\n",
       "  0.6070300340652466,\n",
       "  0.6198204755783081,\n",
       "  0.6378021836280823,\n",
       "  0.6541889309883118,\n",
       "  0.6668543219566345],\n",
       " 'val_loss': [7.111315727233887,\n",
       "  2.819671154022217,\n",
       "  2.552109479904175,\n",
       "  1.8975863456726074,\n",
       "  1.9162068367004395,\n",
       "  1.6854379177093506,\n",
       "  1.7554460763931274,\n",
       "  1.5338425636291504,\n",
       "  1.3926090002059937,\n",
       "  1.4003372192382812,\n",
       "  1.4446299076080322,\n",
       "  1.4095168113708496,\n",
       "  1.3059744834899902,\n",
       "  1.3135979175567627,\n",
       "  1.3233017921447754],\n",
       " 'val_accuracy': [0.07578947395086288,\n",
       "  0.23210527002811432,\n",
       "  0.30052632093429565,\n",
       "  0.37315788865089417,\n",
       "  0.3994736969470978,\n",
       "  0.4436842203140259,\n",
       "  0.43421053886413574,\n",
       "  0.4884210526943207,\n",
       "  0.543684184551239,\n",
       "  0.538947343826294,\n",
       "  0.5378947257995605,\n",
       "  0.5636842250823975,\n",
       "  0.5705263018608093,\n",
       "  0.5752631425857544,\n",
       "  0.5699999928474426]}"
      ]
     },
     "execution_count": 12,
     "metadata": {},
     "output_type": "execute_result"
    }
   ],
   "source": [
    "history.history"
   ]
  },
  {
   "cell_type": "code",
   "execution_count": 13,
   "metadata": {
    "ExecuteTime": {
     "end_time": "2021-04-30T20:27:51.005810Z",
     "start_time": "2021-04-30T20:27:51.002011Z"
    }
   },
   "outputs": [],
   "source": [
    "import matplotlib.pyplot as plt"
   ]
  },
  {
   "cell_type": "code",
   "execution_count": 14,
   "metadata": {
    "ExecuteTime": {
     "end_time": "2021-04-30T20:27:51.521726Z",
     "start_time": "2021-04-30T20:27:51.006596Z"
    }
   },
   "outputs": [
    {
     "data": {
      "image/png": "[encoded data removed]",
      "text/plain": [
       "<Figure size 576x576 with 2 Axes>"
      ]
     },
     "metadata": {
      "needs_background": "light"
     },
     "output_type": "display_data"
    }
   ],
   "source": [
    "acc = history.history['accuracy']\n",
    "val_acc = history.history['val_accuracy']\n",
    "\n",
    "loss = history.history['loss']\n",
    "val_loss = history.history['val_loss']\n",
    "\n",
    "plt.figure(figsize=(8, 8))\n",
    "plt.subplot(2, 1, 1)\n",
    "plt.plot(acc, label='Training Accuracy')\n",
    "plt.plot(val_acc, label='Validation Accuracy')\n",
    "plt.legend(loc='lower right')\n",
    "plt.ylabel('Accuracy')\n",
    "plt.ylim([min(plt.ylim()),1])\n",
    "plt.title('Training and Validation Accuracy')\n",
    "\n",
    "plt.subplot(2, 1, 2)\n",
    "plt.plot(loss, label='Training Loss')\n",
    "plt.plot(val_loss, label='Validation Loss')\n",
    "plt.legend(loc='upper right')\n",
    "plt.ylabel('Cross Entropy')\n",
    "plt.title('Training and Validation Loss')\n",
    "plt.xlabel('epoch')\n",
    "plt.show()"
   ]
  },
  {
   "cell_type": "code",
   "execution_count": null,
   "metadata": {},
   "outputs": [],
   "source": []
  }
 ],
 "metadata": {
  "kernelspec": {
   "display_name": "Python 3",
   "language": "python",
   "name": "python3"
  },
  "language_info": {
   "codemirror_mode": {
    "name": "ipython",
    "version": 3
   },
   "file_extension": ".py",
   "mimetype": "text/x-python",
   "name": "python",
   "nbconvert_exporter": "python",
   "pygments_lexer": "ipython3",
   "version": "3.8.8"
  },
  "toc": {
   "base_numbering": 1,
   "nav_menu": {},
   "number_sections": false,
   "sideBar": true,
   "skip_h1_title": false,
   "title_cell": "Table of Contents",
   "title_sidebar": "Contents",
   "toc_cell": false,
   "toc_position": {},
   "toc_section_display": true,
   "toc_window_display": false
  }
 },
 "nbformat": 4,
 "nbformat_minor": 1
}
