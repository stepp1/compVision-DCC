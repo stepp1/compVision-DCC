{
 "cells": [
  {
   "cell_type": "code",
   "execution_count": 1,
   "metadata": {
    "ExecuteTime": {
     "end_time": "2021-04-30T20:16:00.102129Z",
     "start_time": "2021-04-30T20:16:00.099860Z"
    }
   },
   "outputs": [
    {
     "name": "stdout",
     "output_type": "stream",
     "text": [
      "/home/step/Personal/UCH/2021-sem1/VisionComp/t1\n"
     ]
    }
   ],
   "source": [
    "from pathlib import Path\n",
    "if Path.cwd().parent.stem == 't1':\n",
    "    %cd .."
   ]
  },
  {
   "cell_type": "code",
   "execution_count": 2,
   "metadata": {
    "ExecuteTime": {
     "end_time": "2021-04-30T20:16:01.354981Z",
     "start_time": "2021-04-30T20:16:00.102891Z"
    }
   },
   "outputs": [
    {
     "name": "stdout",
     "output_type": "stream",
     "text": [
      "INFO:tensorflow:Enabling eager execution\n",
      "INFO:tensorflow:Enabling v2 tensorshape\n",
      "INFO:tensorflow:Enabling resource variables\n",
      "INFO:tensorflow:Enabling tensor equality\n",
      "INFO:tensorflow:Enabling control flow v2\n"
     ]
    }
   ],
   "source": [
    "import train\n",
    "from train import *\n",
    "from dataset import ClothingSmall, parse_function, train_preprocess\n",
    "import matplotlib.pyplot as plt"
   ]
  },
  {
   "cell_type": "code",
   "execution_count": 3,
   "metadata": {
    "ExecuteTime": {
     "end_time": "2021-04-30T20:16:01.357555Z",
     "start_time": "2021-04-30T20:16:01.355829Z"
    }
   },
   "outputs": [
    {
     "name": "stdout",
     "output_type": "stream",
     "text": [
      "\n",
      "jsaavedr, 2020\n",
      "This allows you to train and test your model\n",
      "\n",
      "Before using this program, set the path where the folder \"covnet2\"  is stored.\n",
      "To use train.py, you will require to send the following parameters :\n",
      " * -config : A configuration file where a set of parameters for data construction and trainig is set.\n",
      " * -name: A section name in the configuration file.\n",
      " * -mode: [train, test] for training, testing, or showing  variables of the current model. By default this is set to 'train'\n",
      " * -save: Set true for saving the model\n",
      "\n",
      "\n",
      " Extension made by Victor Faraggi, 2021\n",
      "\n",
      " Added modularity. Now you can import the following functions:\n",
      "    - create_config(name, config_file=None, config_str=None)\n",
      "        -> return a ConfigurationFile from config_file path or config_str\n",
      "    - parse_config(config)\n",
      "        -> returns dict w/ tfr_files\n",
      "    - load_dataset(config, tfr_train_file, tfr_test_file)\n",
      "        -> returns a dict w/ train/test datasets, mean_image, input_shape and number_of_classes\n",
      "    - create_model(config, model_name, in_shape)\n",
      "        -> returns a tf model\n",
      "    - create_scheduler(config)\n",
      "        -> returns a scheduler\n",
      "    - create_opt(opt_name, config, scheduler=None)\n",
      "        -> returns an optimizer\n",
      "    - create_cbs(config)\n",
      "        -> returns a TensorBoardCallback and a CheckpointCallback\n",
      "    - run_model(mode, model, opt, datasets, config, train_cbs=None, test_cbs=None):\n",
      "        -> returns the training/test history\n",
      "    - save_model(model, config, fname)\n",
      "        -> saves the model\n",
      "\n",
      "    config argument is expected to be a ConfigurationFile\n",
      "\n"
     ]
    }
   ],
   "source": [
    "print(train.__doc__)"
   ]
  },
  {
   "cell_type": "markdown",
   "metadata": {},
   "source": [
    "# ResNet-50\n"
   ]
  },
  {
   "cell_type": "code",
   "execution_count": 4,
   "metadata": {
    "ExecuteTime": {
     "end_time": "2021-04-30T20:16:01.363751Z",
     "start_time": "2021-04-30T20:16:01.358169Z"
    }
   },
   "outputs": [],
   "source": [
    "alexnet_config = \\\n",
    "\"\"\"[FASHION-ALEXNET]\n",
    "# Training Related\n",
    "NUM_EPOCHS = 15\n",
    "NUM_CLASSES = 19\n",
    "BATCH_SIZE = 128\n",
    "SNAPSHOT_STEPS = 500\n",
    "VALIDATION_STEPS = 100\n",
    "LEARNING_RATE = 0.003\n",
    "USE_L2 = True\n",
    "WEIGHT_DECAY = 1e-4\n",
    "\n",
    "SNAPSHOT_DIR = snapshots/snapshots-alexnet/\n",
    "\n",
    "# Dataset Related\n",
    "DATA_DIR = data/clothing-small/\n",
    "SHUFFLE_SIZE = 10000\n",
    "CHANNELS = 3\n",
    "IMAGE_TYPE = IMAGE\n",
    "IMAGE_WIDTH = 224\n",
    "IMAGE_HEIGHT = 224\n",
    "\n",
    "#for tf_records to use multithreads\n",
    "USE_MULTITHREADS = True\n",
    "NUM_THREADS = 10\n",
    "\n",
    "#CKPFILE is used for fine tunning\n",
    "#CKPFILE =/home/step/Personal/UCH/2021-sem1/VisionComp/t1/chks\n",
    "\"\"\"\n",
    "\n",
    "with open(\"configs/t1_alexnet.config\", 'w') as conf:\n",
    "    conf.write(alexnet_config)"
   ]
  },
  {
   "cell_type": "markdown",
   "metadata": {},
   "source": [
    "## Configuration and Dataset"
   ]
  },
  {
   "cell_type": "code",
   "execution_count": 5,
   "metadata": {
    "ExecuteTime": {
     "end_time": "2021-04-30T20:16:01.811136Z",
     "start_time": "2021-04-30T20:16:01.364354Z"
    }
   },
   "outputs": [],
   "source": [
    "config = create_config(\"FASHION-ALEXNET\", \"configs/t1_alexnet.config\")\n",
    "tfr_files = parse_config(config, mode='train')\n",
    "datasets = load_dataset(config, tfr_files['train'], tfr_files['test'], 'train')"
   ]
  },
  {
   "cell_type": "code",
   "execution_count": 6,
   "metadata": {
    "ExecuteTime": {
     "end_time": "2021-04-30T20:16:02.096937Z",
     "start_time": "2021-04-30T20:16:01.811889Z"
    }
   },
   "outputs": [],
   "source": [
    "from dataset import ClothingSmall\n",
    "\n",
    "process_func = lambda img, label : train_preprocess(img, label, seed=[8, 8])\n",
    "\n",
    "csDataset = ClothingSmall(data_dir = config.get_data_dir())\n",
    "\n",
    "csDataset.prepare()\n",
    "\n",
    "csDataset.make_ds(parse_function, process_func)\n",
    "\n",
    "\n",
    "# datasets = {\n",
    "#     'train' : csDataset.train_ds,\n",
    "#     'test' : csDataset.test_ds\n",
    "# }\n"
   ]
  },
  {
   "cell_type": "markdown",
   "metadata": {},
   "source": [
    "## Optimizer"
   ]
  },
  {
   "cell_type": "code",
   "execution_count": 7,
   "metadata": {
    "ExecuteTime": {
     "end_time": "2021-04-30T20:16:02.099497Z",
     "start_time": "2021-04-30T20:16:02.097950Z"
    }
   },
   "outputs": [],
   "source": [
    "cosine_sched = create_scheduler(config)\n",
    "opt = create_opt('adam', config)"
   ]
  },
  {
   "cell_type": "markdown",
   "metadata": {},
   "source": [
    "## Create Callbacks"
   ]
  },
  {
   "cell_type": "markdown",
   "metadata": {},
   "source": [
    "## Model"
   ]
  },
  {
   "cell_type": "code",
   "execution_count": 8,
   "metadata": {
    "ExecuteTime": {
     "end_time": "2021-04-30T20:16:02.460060Z",
     "start_time": "2021-04-30T20:16:02.100171Z"
    }
   },
   "outputs": [
    {
     "name": "stdout",
     "output_type": "stream",
     "text": [
      "INFO:tensorflow:Mixed precision compatibility check (mixed_float16): OK\n",
      "Your GPU will likely run quickly with dtype policy mixed_float16 as it has compute capability of at least 7.0. Your GPU: NVIDIA GeForce RTX 3070, compute capability 8.6\n",
      "Model is Resnet-34\n",
      "(224, 224, 3)\n",
      "Model: \"res_net\"\n",
      "_________________________________________________________________\n",
      "Layer (type)                 Output Shape              Param #   \n",
      "=================================================================\n",
      "backbone (ResNetBackbone)    multiple                  21298112  \n",
      "_________________________________________________________________\n",
      "global_average_pooling2d (Gl multiple                  0         \n",
      "_________________________________________________________________\n",
      "classifier (Dense)           multiple                  9747      \n",
      "=================================================================\n",
      "Total params: 21,307,859\n",
      "Trainable params: 21,292,627\n",
      "Non-trainable params: 15,232\n",
      "_________________________________________________________________\n"
     ]
    }
   ],
   "source": [
    "model = create_model(config, 'alexnet', csDataset.input_shape, use_mixed=True)"
   ]
  },
  {
   "cell_type": "code",
   "execution_count": 9,
   "metadata": {
    "ExecuteTime": {
     "end_time": "2021-04-30T20:16:02.561285Z",
     "start_time": "2021-04-30T20:16:02.460776Z"
    }
   },
   "outputs": [],
   "source": [
    "tb_cb, chk_cb = create_cbs(config)"
   ]
  },
  {
   "cell_type": "markdown",
   "metadata": {},
   "source": [
    "## Run"
   ]
  },
  {
   "cell_type": "code",
   "execution_count": 10,
   "metadata": {
    "ExecuteTime": {
     "end_time": "2021-04-30T20:16:02.564036Z",
     "start_time": "2021-04-30T20:16:02.562119Z"
    }
   },
   "outputs": [],
   "source": [
    "datasets['train'] = datasets['train'].prefetch(1)\n",
    "datasets['test'] = datasets['test'].prefetch(1)"
   ]
  },
  {
   "cell_type": "code",
   "execution_count": 11,
   "metadata": {
    "ExecuteTime": {
     "end_time": "2021-04-30T20:27:50.987291Z",
     "start_time": "2021-04-30T20:16:02.564792Z"
    },
    "scrolled": false
   },
   "outputs": [
    {
     "name": "stdout",
     "output_type": "stream",
     "text": [
      "Epoch 1/15\n",
      "250/250 [==============================] - 56s 179ms/step - loss: 2.8826 - accuracy: 0.1159 - val_loss: 7.1113 - val_accuracy: 0.0758\n",
      "Epoch 2/15\n",
      "250/250 [==============================] - 46s 166ms/step - loss: 2.3669 - accuracy: 0.2422 - val_loss: 2.8197 - val_accuracy: 0.2321\n",
      "Epoch 3/15\n",
      "250/250 [==============================] - 45s 165ms/step - loss: 1.9874 - accuracy: 0.3519 - val_loss: 2.5521 - val_accuracy: 0.3005\n",
      "Epoch 4/15\n",
      "250/250 [==============================] - 47s 170ms/step - loss: 1.7919 - accuracy: 0.4048 - val_loss: 1.8976 - val_accuracy: 0.3732\n",
      "Epoch 5/15\n",
      "250/250 [==============================] - 46s 167ms/step - loss: 1.6592 - accuracy: 0.4470 - val_loss: 1.9162 - val_accuracy: 0.3995\n",
      "Epoch 6/15\n",
      "250/250 [==============================] - 46s 167ms/step - loss: 1.5588 - accuracy: 0.4848 - val_loss: 1.6854 - val_accuracy: 0.4437\n",
      "Epoch 7/15\n",
      "250/250 [==============================] - 47s 167ms/step - loss: 1.4577 - accuracy: 0.5127 - val_loss: 1.7554 - val_accuracy: 0.4342\n",
      "Epoch 8/15\n",
      "250/250 [==============================] - 47s 168ms/step - loss: 1.3849 - accuracy: 0.5382 - val_loss: 1.5338 - val_accuracy: 0.4884\n",
      "Epoch 9/15\n",
      "250/250 [==============================] - 47s 169ms/step - loss: 1.3139 - accuracy: 0.5629 - val_loss: 1.3926 - val_accuracy: 0.5437\n",
      "Epoch 10/15\n",
      "250/250 [==============================] - 47s 171ms/step - loss: 1.2496 - accuracy: 0.5844 - val_loss: 1.4003 - val_accuracy: 0.5389\n",
      "Epoch 11/15\n",
      "250/250 [==============================] - 47s 167ms/step - loss: 1.1897 - accuracy: 0.6061 - val_loss: 1.4446 - val_accuracy: 0.5379\n",
      "Epoch 12/15\n",
      "250/250 [==============================] - 47s 170ms/step - loss: 1.1401 - accuracy: 0.6184 - val_loss: 1.4095 - val_accuracy: 0.5637\n",
      "Epoch 13/15\n",
      "250/250 [==============================] - 47s 170ms/step - loss: 1.0815 - accuracy: 0.6388 - val_loss: 1.3060 - val_accuracy: 0.5705\n",
      "Epoch 14/15\n",
      "250/250 [==============================] - 46s 168ms/step - loss: 1.0410 - accuracy: 0.6545 - val_loss: 1.3136 - val_accuracy: 0.5753\n",
      "Epoch 15/15\n",
      "250/250 [==============================] - 47s 167ms/step - loss: 0.9972 - accuracy: 0.6650 - val_loss: 1.3233 - val_accuracy: 0.5700\n"
     ]
    }
   ],
   "source": [
    "history = run_model('train', model, opt, datasets, config, [chk_cb], [tb_cb])"
   ]
  },
  {
   "cell_type": "code",
   "execution_count": 12,
   "metadata": {
    "ExecuteTime": {
     "end_time": "2021-04-30T20:27:51.001262Z",
     "start_time": "2021-04-30T20:27:50.990998Z"
    }
   },
   "outputs": [
    {
     "data": {
      "text/plain": [
       "{'loss': [2.6815884113311768,\n",
       "  2.265125274658203,\n",
       "  1.9316396713256836,\n",
       "  1.761488676071167,\n",
       "  1.6395443677902222,\n",
       "  1.538053274154663,\n",
       "  1.4479159116744995,\n",
       "  1.364519476890564,\n",
       "  1.3038703203201294,\n",
       "  1.2399275302886963,\n",
       "  1.183937430381775,\n",
       "  1.1392594575881958,\n",
       "  1.0855631828308105,\n",
       "  1.0383915901184082,\n",
       "  0.9947125911712646],\n",
       " 'accuracy': [0.1521093249320984,\n",
       "  0.2690996527671814,\n",
       "  0.36713889241218567,\n",
       "  0.41676831245422363,\n",
       "  0.4564530849456787,\n",
       "  0.4920724332332611,\n",
       "  0.517309308052063,\n",
       "  0.5468930602073669,\n",
       "  0.5649372935295105,\n",
       "  0.588422954082489,\n",
       "  0.6070300340652466,\n",
       "  0.6198204755783081,\n",
       "  0.6378021836280823,\n",
       "  0.6541889309883118,\n",
       "  0.6668543219566345],\n",
       " 'val_loss': [7.111315727233887,\n",
       "  2.819671154022217,\n",
       "  2.552109479904175,\n",
       "  1.8975863456726074,\n",
       "  1.9162068367004395,\n",
       "  1.6854379177093506,\n",
       "  1.7554460763931274,\n",
       "  1.5338425636291504,\n",
       "  1.3926090002059937,\n",
       "  1.4003372192382812,\n",
       "  1.4446299076080322,\n",
       "  1.4095168113708496,\n",
       "  1.3059744834899902,\n",
       "  1.3135979175567627,\n",
       "  1.3233017921447754],\n",
       " 'val_accuracy': [0.07578947395086288,\n",
       "  0.23210527002811432,\n",
       "  0.30052632093429565,\n",
       "  0.37315788865089417,\n",
       "  0.3994736969470978,\n",
       "  0.4436842203140259,\n",
       "  0.43421053886413574,\n",
       "  0.4884210526943207,\n",
       "  0.543684184551239,\n",
       "  0.538947343826294,\n",
       "  0.5378947257995605,\n",
       "  0.5636842250823975,\n",
       "  0.5705263018608093,\n",
       "  0.5752631425857544,\n",
       "  0.5699999928474426]}"
      ]
     },
     "execution_count": 12,
     "metadata": {},
     "output_type": "execute_result"
    }
   ],
   "source": [
    "history.history"
   ]
  },
  {
   "cell_type": "code",
   "execution_count": 13,
   "metadata": {
    "ExecuteTime": {
     "end_time": "2021-04-30T20:27:51.005810Z",
     "start_time": "2021-04-30T20:27:51.002011Z"
    }
   },
   "outputs": [],
   "source": [
    "import matplotlib.pyplot as plt"
   ]
  },
  {
   "cell_type": "code",
   "execution_count": 14,
   "metadata": {
    "ExecuteTime": {
     "end_time": "2021-04-30T20:27:51.521726Z",
     "start_time": "2021-04-30T20:27:51.006596Z"
    }
   },
   "outputs": [
    {
     "data": {
      "image/png": "[encoded data removed]",
      "text/plain": [
       "<Figure size 576x576 with 2 Axes>"
      ]
     },
     "metadata": {
      "needs_background": "light"
     },
     "output_type": "display_data"
    }
   ],
   "source": [
    "acc = history.history['accuracy']\n",
    "val_acc = history.history['val_accuracy']\n",
    "\n",
    "loss = history.history['loss']\n",
    "val_loss = history.history['val_loss']\n",
    "\n",
    "plt.figure(figsize=(8, 8))\n",
    "plt.subplot(2, 1, 1)\n",
    "plt.plot(acc, label='Training Accuracy')\n",
    "plt.plot(val_acc, label='Validation Accuracy')\n",
    "plt.legend(loc='lower right')\n",
    "plt.ylabel('Accuracy')\n",
    "plt.ylim([min(plt.ylim()),1])\n",
    "plt.title('Training and Validation Accuracy')\n",
    "\n",
    "plt.subplot(2, 1, 2)\n",
    "plt.plot(loss, label='Training Loss')\n",
    "plt.plot(val_loss, label='Validation Loss')\n",
    "plt.legend(loc='upper right')\n",
    "plt.ylabel('Cross Entropy')\n",
    "plt.title('Training and Validation Loss')\n",
    "plt.xlabel('epoch')\n",
    "plt.show()"
   ]
  },
  {
   "cell_type": "code",
   "execution_count": null,
   "metadata": {},
   "outputs": [],
   "source": []
  }
 ],
 "metadata": {
  "kernelspec": {
   "display_name": "Python 3",
   "language": "python",
   "name": "python3"
  },
  "language_info": {
   "codemirror_mode": {
    "name": "ipython",
    "version": 3
   },
   "file_extension": ".py",
   "mimetype": "text/x-python",
   "name": "python",
   "nbconvert_exporter": "python",
   "pygments_lexer": "ipython3",
   "version": "3.8.8"
  },
  "toc": {
   "base_numbering": 1,
   "nav_menu": {},
   "number_sections": false,
   "sideBar": true,
   "skip_h1_title": false,
   "title_cell": "Table of Contents",
   "title_sidebar": "Contents",
   "toc_cell": false,
   "toc_position": {},
   "toc_section_display": true,
   "toc_window_display": false
  }
 },
 "nbformat": 4,
 "nbformat_minor": 1
}
