{
 "cells": [
  {
   "cell_type": "code",
   "execution_count": 1,
   "metadata": {
    "ExecuteTime": {
     "end_time": "2021-04-30T07:04:47.583052Z",
     "start_time": "2021-04-30T07:04:47.580104Z"
    }
   },
   "outputs": [
    {
     "name": "stdout",
     "output_type": "stream",
     "text": [
      "/home/step/Personal/UCH/2021-sem1/VisionComp/t1\n"
     ]
    }
   ],
   "source": [
    "from pathlib import Path\n",
    "if Path.cwd().parent.stem == 't1':\n",
    "    %cd .."
   ]
  },
  {
   "cell_type": "code",
   "execution_count": 2,
   "metadata": {
    "ExecuteTime": {
     "end_time": "2021-04-30T07:04:48.575974Z",
     "start_time": "2021-04-30T07:04:47.583992Z"
    }
   },
   "outputs": [
    {
     "name": "stdout",
     "output_type": "stream",
     "text": [
      "INFO:tensorflow:Enabling eager execution\n",
      "INFO:tensorflow:Enabling v2 tensorshape\n",
      "INFO:tensorflow:Enabling resource variables\n",
      "INFO:tensorflow:Enabling tensor equality\n",
      "INFO:tensorflow:Enabling control flow v2\n"
     ]
    }
   ],
   "source": [
    "import train\n",
    "from train import *\n",
    "from dataset import ClothingSmall, parse_function, train_preprocess\n",
    "import matplotlib.pyplot as plt"
   ]
  },
  {
   "cell_type": "code",
   "execution_count": 3,
   "metadata": {
    "ExecuteTime": {
     "end_time": "2021-04-28T00:55:29.993780Z",
     "start_time": "2021-04-28T00:55:29.992139Z"
    }
   },
   "outputs": [
    {
     "name": "stdout",
     "output_type": "stream",
     "text": [
      "\n",
      "jsaavedr, 2020\n",
      "This allows you to train and test your model\n",
      "\n",
      "Before using this program, set the path where the folder \"covnet2\"  is stored.\n",
      "To use train.py, you will require to send the following parameters :\n",
      " * -config : A configuration file where a set of parameters for data construction and trainig is set.\n",
      " * -name: A section name in the configuration file.\n",
      " * -mode: [train, test] for training, testing, or showing  variables of the current model. By default this is set to 'train'\n",
      " * -save: Set true for saving the model\n",
      "\n",
      "\n",
      " Extension made by Victor Faraggi, 2021\n",
      "\n",
      " Added modularity. Now you can import the following functions:\n",
      "    - create_config(name, config_file=None, config_str=None)\n",
      "        -> return a ConfigurationFile from config_file path or config_str\n",
      "    - parse_config(config)\n",
      "        -> returns dict w/ tfr_files\n",
      "    - load_dataset(config, tfr_train_file, tfr_test_file)\n",
      "        -> returns a dict w/ train/test datasets, mean_image, input_shape and number_of_classes\n",
      "    - create_model(config, model_name, in_shape)\n",
      "        -> returns a tf model\n",
      "    - create_scheduler(config)\n",
      "        -> returns a scheduler\n",
      "    - create_opt(opt_name, config, scheduler=None)\n",
      "        -> returns an optimizer\n",
      "    - create_cbs(config)\n",
      "        -> returns a TensorBoardCallback and a CheckpointCallback\n",
      "    - run_model(mode, model, opt, datasets, config, train_cbs=None, test_cbs=None):\n",
      "        -> returns the training/test history\n",
      "    - save_model(model, config, fname)\n",
      "        -> saves the model\n",
      "\n",
      "    config argument is expected to be a ConfigurationFile\n",
      "\n"
     ]
    }
   ],
   "source": [
    "print(train.__doc__)"
   ]
  },
  {
   "cell_type": "markdown",
   "metadata": {},
   "source": [
    "# ResNet-50\n"
   ]
  },
  {
   "cell_type": "code",
   "execution_count": 4,
   "metadata": {
    "ExecuteTime": {
     "end_time": "2021-04-28T00:55:30.004794Z",
     "start_time": "2021-04-28T00:55:29.994438Z"
    }
   },
   "outputs": [],
   "source": [
    "resnet50_config = \\\n",
    "\"\"\"[FASHION-ALEXNET]\n",
    "# Training Related\n",
    "NUM_EPOCHS = 15\n",
    "NUM_CLASSES = 19\n",
    "BATCH_SIZE = 128\n",
    "SNAPSHOT_STEPS = 500\n",
    "VALIDATION_STEPS = 100\n",
    "LEARNING_RATE = 0.003\n",
    "USE_L2 = True\n",
    "WEIGHT_DECAY = 1e-4\n",
    "\n",
    "SNAPSHOT_DIR = /home/step/Personal/UCH/2021-sem1/VisionComp/t1/snapshots-alex/\n",
    "\n",
    "# Dataset Related\n",
    "DATA_DIR = /home/step/Personal/UCH/2021-sem1/VisionComp/t1/data/clothing-small/\n",
    "SHUFFLE_SIZE = 10000\n",
    "CHANNELS = 3\n",
    "IMAGE_TYPE = IMAGE\n",
    "IMAGE_WIDTH = 224\n",
    "IMAGE_HEIGHT = 224\n",
    "\n",
    "#for tf_records to use multithreads\n",
    "USE_MULTITHREADS = True\n",
    "NUM_THREADS = 10\n",
    "\n",
    "#CKPFILE is used for fine tunning\n",
    "#CKPFILE =/home/step/Personal/UCH/2021-sem1/VisionComp/t1/chks\n",
    "\"\"\"\n",
    "\n",
    "with open(\"configs/t1_alexnet.config\", 'w') as conf:\n",
    "    conf.write(resnet50_config)"
   ]
  },
  {
   "cell_type": "markdown",
   "metadata": {},
   "source": [
    "## Configuration and Dataset"
   ]
  },
  {
   "cell_type": "code",
   "execution_count": 5,
   "metadata": {
    "ExecuteTime": {
     "end_time": "2021-04-28T00:55:30.470632Z",
     "start_time": "2021-04-28T00:55:30.005376Z"
    }
   },
   "outputs": [],
   "source": [
    "config = create_config(\"FASHION-RESNET50\", \"configs/t1_alexnet.config\")\n",
    "tfr_files = parse_config(config, mode='train')\n",
    "datasets = load_dataset(config, tfr_files['train'], tfr_files['test'], 'train')"
   ]
  },
  {
   "cell_type": "code",
   "execution_count": null,
   "metadata": {},
   "outputs": [],
   "source": [
    "# from dataset import ClothingSmall\n",
    "\n",
    "# process_func = lambda img, label : train_preprocess(img, label, seed=[8, 8])\n",
    "\n",
    "# csDataset = ClothingSmall(data_dir = config.get_data_dir())\n",
    "\n",
    "# csDataset.prepare()\n",
    "\n",
    "# csDataset.make_ds(parse_function, process_func)\n",
    "\n",
    "\n",
    "# datasets = {\n",
    "#     'train' : csDataset.train_ds,\n",
    "#     'test' : csDataset.test_ds\n",
    "# }\n"
   ]
  },
  {
   "cell_type": "markdown",
   "metadata": {},
   "source": [
    "## Optimizer"
   ]
  },
  {
   "cell_type": "code",
   "execution_count": 6,
   "metadata": {
    "ExecuteTime": {
     "end_time": "2021-04-28T00:55:30.473020Z",
     "start_time": "2021-04-28T00:55:30.471426Z"
    }
   },
   "outputs": [],
   "source": [
    "cosine_sched = create_scheduler(config)\n",
    "opt = create_opt('adam', config)"
   ]
  },
  {
   "cell_type": "markdown",
   "metadata": {},
   "source": [
    "## Create Callbacks"
   ]
  },
  {
   "cell_type": "markdown",
   "metadata": {},
   "source": [
    "## Model"
   ]
  },
  {
   "cell_type": "code",
   "execution_count": 7,
   "metadata": {
    "ExecuteTime": {
     "end_time": "2021-04-28T00:55:30.954003Z",
     "start_time": "2021-04-28T00:55:30.473973Z"
    }
   },
   "outputs": [
    {
     "name": "stdout",
     "output_type": "stream",
     "text": [
      "INFO:tensorflow:Mixed precision compatibility check (mixed_float16): OK\n",
      "Your GPU will likely run quickly with dtype policy mixed_float16 as it has compute capability of at least 7.0. Your GPU: NVIDIA GeForce RTX 3070, compute capability 8.6\n",
      "Model is Resnet-50\n",
      "[224 224   3]\n",
      "Model: \"res_net\"\n",
      "_________________________________________________________________\n",
      "Layer (type)                 Output Shape              Param #   \n",
      "=================================================================\n",
      "backbone (ResNetBackbone)    multiple                  23549568  \n",
      "_________________________________________________________________\n",
      "global_average_pooling2d (Gl multiple                  0         \n",
      "_________________________________________________________________\n",
      "classifier (Dense)           multiple                  38931     \n",
      "=================================================================\n",
      "Total params: 23,588,499\n",
      "Trainable params: 23,543,059\n",
      "Non-trainable params: 45,440\n",
      "_________________________________________________________________\n"
     ]
    }
   ],
   "source": [
    "model = create_model(config, 'alexnet', csDataset.input_shape, use_mixed=True)"
   ]
  },
  {
   "cell_type": "code",
   "execution_count": 8,
   "metadata": {
    "ExecuteTime": {
     "end_time": "2021-04-28T00:55:31.055836Z",
     "start_time": "2021-04-28T00:55:30.954768Z"
    }
   },
   "outputs": [],
   "source": [
    "tb_cb, chk_cb = create_cbs(config)"
   ]
  },
  {
   "cell_type": "markdown",
   "metadata": {},
   "source": [
    "## Run"
   ]
  },
  {
   "cell_type": "code",
   "execution_count": 9,
   "metadata": {
    "ExecuteTime": {
     "end_time": "2021-04-28T01:06:48.778815Z",
     "start_time": "2021-04-28T00:55:31.056803Z"
    },
    "scrolled": false
   },
   "outputs": [
    {
     "name": "stdout",
     "output_type": "stream",
     "text": [
      "Epoch 1/15\n",
      "    250/Unknown - 51s 160ms/step - loss: 2.8555 - accuracy: 0.1455WARNING:tensorflow:Your input ran out of data; interrupting training. Make sure that your dataset or generator can generate at least `steps_per_epoch * epochs` batches (in this case, 100 batches). You may need to use the repeat() function when building your dataset.\n",
      "250/250 [==============================] - 52s 164ms/step - loss: 2.8544 - accuracy: 0.1456 - val_loss: nan - val_accuracy: 0.1300\n",
      "Epoch 2/15\n",
      "250/250 [==============================] - 43s 154ms/step - loss: 2.2011 - accuracy: 0.3015\n",
      "Epoch 3/15\n",
      "250/250 [==============================] - 44s 157ms/step - loss: 1.9255 - accuracy: 0.3797\n",
      "Epoch 4/15\n",
      "250/250 [==============================] - 44s 157ms/step - loss: 1.6861 - accuracy: 0.4462\n",
      "Epoch 5/15\n",
      "250/250 [==============================] - 44s 157ms/step - loss: 1.5748 - accuracy: 0.4766\n",
      "Epoch 6/15\n",
      "250/250 [==============================] - 45s 162ms/step - loss: 1.4581 - accuracy: 0.5117\n",
      "Epoch 7/15\n",
      "250/250 [==============================] - 44s 159ms/step - loss: 1.3991 - accuracy: 0.5381\n",
      "Epoch 8/15\n",
      "250/250 [==============================] - 44s 158ms/step - loss: 1.3424 - accuracy: 0.5554\n",
      "Epoch 9/15\n",
      "250/250 [==============================] - 44s 159ms/step - loss: 1.2727 - accuracy: 0.5796\n",
      "Epoch 10/15\n",
      "250/250 [==============================] - 44s 158ms/step - loss: 1.2103 - accuracy: 0.5973\n",
      "Epoch 11/15\n",
      "250/250 [==============================] - 44s 157ms/step - loss: 1.1630 - accuracy: 0.6083\n",
      "Epoch 12/15\n",
      "250/250 [==============================] - 43s 156ms/step - loss: 1.1377 - accuracy: 0.6191\n",
      "Epoch 13/15\n",
      "250/250 [==============================] - 46s 164ms/step - loss: 1.0781 - accuracy: 0.6395\n",
      "Epoch 14/15\n",
      "250/250 [==============================] - 46s 163ms/step - loss: 1.0328 - accuracy: 0.6558\n",
      "Epoch 15/15\n",
      "250/250 [==============================] - 48s 163ms/step - loss: 0.9895 - accuracy: 0.6708\n"
     ]
    }
   ],
   "source": [
    "history = run_model('train', model, opt, datasets, config, [chk_cb], [tb_cb])"
   ]
  },
  {
   "cell_type": "code",
   "execution_count": 10,
   "metadata": {
    "ExecuteTime": {
     "end_time": "2021-04-28T01:06:48.790103Z",
     "start_time": "2021-04-28T01:06:48.781993Z"
    }
   },
   "outputs": [
    {
     "data": {
      "text/plain": [
       "{'loss': [2.587742567062378,\n",
       "  2.0978028774261475,\n",
       "  1.8498485088348389,\n",
       "  1.6662691831588745,\n",
       "  1.5521448850631714,\n",
       "  1.4495793581008911,\n",
       "  1.3875912427902222,\n",
       "  1.3302714824676514,\n",
       "  1.2649531364440918,\n",
       "  1.212728500366211,\n",
       "  1.174543857574463,\n",
       "  1.1422746181488037,\n",
       "  1.0914099216461182,\n",
       "  1.0351240634918213,\n",
       "  0.9930621981620789],\n",
       " 'accuracy': [0.191700279712677,\n",
       "  0.32545265555381775,\n",
       "  0.39906808733940125,\n",
       "  0.45151203870773315,\n",
       "  0.48528629541397095,\n",
       "  0.518528938293457,\n",
       "  0.5391374826431274,\n",
       "  0.5588704347610474,\n",
       "  0.580135703086853,\n",
       "  0.5959908962249756,\n",
       "  0.6068736910820007,\n",
       "  0.6180692315101624,\n",
       "  0.6342371106147766,\n",
       "  0.6516871452331543,\n",
       "  0.666948139667511],\n",
       " 'val_loss': [nan],\n",
       " 'val_accuracy': [0.12999999523162842]}"
      ]
     },
     "execution_count": 10,
     "metadata": {},
     "output_type": "execute_result"
    }
   ],
   "source": [
    "history.history"
   ]
  },
  {
   "cell_type": "code",
   "execution_count": 12,
   "metadata": {
    "ExecuteTime": {
     "end_time": "2021-04-28T02:06:18.708109Z",
     "start_time": "2021-04-28T02:06:18.706553Z"
    }
   },
   "outputs": [],
   "source": [
    "import matplotlib.pyplot as plt"
   ]
  },
  {
   "cell_type": "code",
   "execution_count": 13,
   "metadata": {
    "ExecuteTime": {
     "end_time": "2021-04-28T02:06:19.197761Z",
     "start_time": "2021-04-28T02:06:19.040209Z"
    }
   },
   "outputs": [
    {
     "data": {
      "image/png": "[encoded data removed]",
      "text/plain": [
       "<Figure size 576x576 with 2 Axes>"
      ]
     },
     "metadata": {
      "needs_background": "light"
     },
     "output_type": "display_data"
    }
   ],
   "source": [
    "acc = history.history['accuracy']\n",
    "val_acc = history.history['val_accuracy']\n",
    "\n",
    "loss = history.history['loss']\n",
    "val_loss = history.history['val_loss']\n",
    "\n",
    "plt.figure(figsize=(8, 8))\n",
    "plt.subplot(2, 1, 1)\n",
    "plt.plot(acc, label='Training Accuracy')\n",
    "plt.plot(val_acc, label='Validation Accuracy')\n",
    "plt.legend(loc='lower right')\n",
    "plt.ylabel('Accuracy')\n",
    "plt.ylim([min(plt.ylim()),1])\n",
    "plt.title('Training and Validation Accuracy')\n",
    "\n",
    "plt.subplot(2, 1, 2)\n",
    "plt.plot(loss, label='Training Loss')\n",
    "plt.plot(val_loss, label='Validation Loss')\n",
    "plt.legend(loc='upper right')\n",
    "plt.ylabel('Cross Entropy')\n",
    "plt.ylim([0,1.0])\n",
    "plt.title('Training and Validation Loss')\n",
    "plt.xlabel('epoch')\n",
    "plt.show()"
   ]
  },
  {
   "cell_type": "code",
   "execution_count": null,
   "metadata": {},
   "outputs": [],
   "source": []
  }
 ],
 "metadata": {
  "kernelspec": {
   "display_name": "Python 3",
   "language": "python",
   "name": "python3"
  },
  "language_info": {
   "codemirror_mode": {
    "name": "ipython",
    "version": 3
   },
   "file_extension": ".py",
   "mimetype": "text/x-python",
   "name": "python",
   "nbconvert_exporter": "python",
   "pygments_lexer": "ipython3",
   "version": "3.8.8"
  },
  "toc": {
   "base_numbering": 1,
   "nav_menu": {},
   "number_sections": false,
   "sideBar": true,
   "skip_h1_title": false,
   "title_cell": "Table of Contents",
   "title_sidebar": "Contents",
   "toc_cell": false,
   "toc_position": {},
   "toc_section_display": true,
   "toc_window_display": false
  }
 },
 "nbformat": 4,
 "nbformat_minor": 1
}
