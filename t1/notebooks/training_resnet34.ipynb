{
 "cells": [
  {
   "cell_type": "code",
   "execution_count": 1,
   "metadata": {
    "ExecuteTime": {
     "end_time": "2021-05-01T00:53:05.015547Z",
     "start_time": "2021-05-01T00:53:05.008940Z"
    }
   },
   "outputs": [
    {
     "name": "stdout",
     "output_type": "stream",
     "text": [
      "/home/step/Personal/UCH/2021-sem1/VisionComp/t1\n"
     ]
    }
   ],
   "source": [
    "from pathlib import Path\n",
    "if Path.cwd().parent.stem == 't1':\n",
    "    %cd .."
   ]
  },
  {
   "cell_type": "code",
   "execution_count": 2,
   "metadata": {
    "ExecuteTime": {
     "end_time": "2021-05-01T00:53:06.372021Z",
     "start_time": "2021-05-01T00:53:05.016238Z"
    }
   },
   "outputs": [
    {
     "name": "stdout",
     "output_type": "stream",
     "text": [
      "INFO:tensorflow:Enabling eager execution\n",
      "INFO:tensorflow:Enabling v2 tensorshape\n",
      "INFO:tensorflow:Enabling resource variables\n",
      "INFO:tensorflow:Enabling tensor equality\n",
      "INFO:tensorflow:Enabling control flow v2\n"
     ]
    }
   ],
   "source": [
    "from dataset import ClothingSmall, parse_function, train_preprocess\n",
    "from train import *\n",
    "import matplotlib.pyplot as plt"
   ]
  },
  {
   "cell_type": "markdown",
   "metadata": {},
   "source": [
    "# ResNet-34\n"
   ]
  },
  {
   "cell_type": "code",
   "execution_count": 3,
   "metadata": {
    "ExecuteTime": {
     "end_time": "2021-05-01T00:53:06.374646Z",
     "start_time": "2021-05-01T00:53:06.372875Z"
    }
   },
   "outputs": [],
   "source": [
    "resnet34_config = \\\n",
    "\"\"\"[FASHION-RESNET34]\n",
    "# Training Related\n",
    "NUM_EPOCHS = 25\n",
    "NUM_CLASSES = 19\n",
    "BATCH_SIZE = 128\n",
    "SNAPSHOT_STEPS = 500\n",
    "VALIDATION_STEPS = 100\n",
    "LEARNING_RATE = 0.003\n",
    "USE_L2 = True\n",
    "WEIGHT_DECAY = 1e-4\n",
    "\n",
    "SNAPSHOT_DIR = snapshots/snapshots-r34/\n",
    "\n",
    "# Dataset Related\n",
    "DATA_DIR = data/clothing-small/\n",
    "SHUFFLE_SIZE = 10000\n",
    "CHANNELS = 3\n",
    "IMAGE_TYPE = SKETCH\n",
    "IMAGE_WIDTH = 224\n",
    "IMAGE_HEIGHT = 224\n",
    "\n",
    "#for tf_records to use multithreads\n",
    "USE_MULTITHREADS = True\n",
    "NUM_THREADS = 10\n",
    "\n",
    "#CKPFILE is used for fine tunning\n",
    "#CKPFILE =/home/step/Personal/UCH/2021-sem1/VisionComp/t1/chks\n",
    "\"\"\"\n",
    "\n",
    "with open(\"configs/t1_resnet34.config\", 'w') as conf:\n",
    "    conf.write(resnet34_config)"
   ]
  },
  {
   "cell_type": "markdown",
   "metadata": {},
   "source": [
    "## Configuration and Dataset"
   ]
  },
  {
   "cell_type": "code",
   "execution_count": 4,
   "metadata": {
    "ExecuteTime": {
     "end_time": "2021-05-01T00:53:06.827202Z",
     "start_time": "2021-05-01T00:53:06.375567Z"
    }
   },
   "outputs": [],
   "source": [
    "config = create_config(\"FASHION-RESNET34\", \"configs/t1_resnet34.config\")\n",
    "tfr_files = parse_config(config, mode='train')\n",
    "datasets = load_dataset(config, tfr_files['train'], tfr_files['test'], 'train')"
   ]
  },
  {
   "cell_type": "code",
   "execution_count": 5,
   "metadata": {
    "ExecuteTime": {
     "end_time": "2021-05-01T00:53:06.973241Z",
     "start_time": "2021-05-01T00:53:06.827948Z"
    }
   },
   "outputs": [],
   "source": [
    "from dataset import ClothingSmall\n",
    "\n",
    "process_func = lambda img, label : train_preprocess(img, label, seed=[8, 8])\n",
    "\n",
    "csDataset = ClothingSmall(data_dir = config.get_data_dir())\n",
    "\n",
    "csDataset.prepare()\n",
    "\n",
    "# csDataset.make_ds(parse_function, process_func)\n",
    "\n",
    "# datasets = {\n",
    "#     'train' : csDataset.train_ds,\n",
    "#     'test' : csDataset.test_ds\n",
    "# }"
   ]
  },
  {
   "cell_type": "markdown",
   "metadata": {},
   "source": [
    "## Optimizer"
   ]
  },
  {
   "cell_type": "code",
   "execution_count": 6,
   "metadata": {
    "ExecuteTime": {
     "end_time": "2021-05-01T00:53:06.975711Z",
     "start_time": "2021-05-01T00:53:06.974009Z"
    }
   },
   "outputs": [],
   "source": [
    "cosine_sched = create_scheduler(config)\n",
    "opt = create_opt('adam', config)"
   ]
  },
  {
   "cell_type": "markdown",
   "metadata": {},
   "source": [
    "## Create Callbacks"
   ]
  },
  {
   "cell_type": "code",
   "execution_count": 7,
   "metadata": {
    "ExecuteTime": {
     "end_time": "2021-05-01T00:53:07.082458Z",
     "start_time": "2021-05-01T00:53:06.976412Z"
    }
   },
   "outputs": [],
   "source": [
    "tb_cb, chk_cb = create_cbs(config)"
   ]
  },
  {
   "cell_type": "markdown",
   "metadata": {},
   "source": [
    "\n",
    "## Model"
   ]
  },
  {
   "cell_type": "code",
   "execution_count": 8,
   "metadata": {
    "ExecuteTime": {
     "end_time": "2021-05-01T00:53:07.466096Z",
     "start_time": "2021-05-01T00:53:07.083503Z"
    },
    "scrolled": false
   },
   "outputs": [
    {
     "name": "stdout",
     "output_type": "stream",
     "text": [
      "INFO:tensorflow:Mixed precision compatibility check (mixed_float16): OK\n",
      "Your GPU will likely run quickly with dtype policy mixed_float16 as it has compute capability of at least 7.0. Your GPU: NVIDIA GeForce RTX 3070, compute capability 8.6\n",
      "Model is Resnet-34\n",
      "Model is Resnet-34\n",
      "(224, 224, 3)\n",
      "Model: \"res_net_1\"\n",
      "_________________________________________________________________\n",
      "Layer (type)                 Output Shape              Param #   \n",
      "=================================================================\n",
      "backbone (ResNetBackbone)    multiple                  21298112  \n",
      "_________________________________________________________________\n",
      "global_average_pooling2d_1 ( multiple                  0         \n",
      "_________________________________________________________________\n",
      "classifier (Dense)           multiple                  9747      \n",
      "=================================================================\n",
      "Total params: 21,307,859\n",
      "Trainable params: 21,292,627\n",
      "Non-trainable params: 15,232\n",
      "_________________________________________________________________\n"
     ]
    }
   ],
   "source": [
    "model = create_model(config, 'resnet-34', csDataset.input_shape, use_mixed=True)"
   ]
  },
  {
   "cell_type": "markdown",
   "metadata": {},
   "source": [
    "## Run"
   ]
  },
  {
   "cell_type": "code",
   "execution_count": 9,
   "metadata": {
    "ExecuteTime": {
     "end_time": "2021-04-30T20:51:02.843154Z",
     "start_time": "2021-04-30T20:51:02.841122Z"
    }
   },
   "outputs": [],
   "source": [
    "datasets['train'] = datasets['train'].prefetch(1)\n",
    "datasets['test'] = datasets['test'].prefetch(1)"
   ]
  },
  {
   "cell_type": "code",
   "execution_count": 10,
   "metadata": {
    "ExecuteTime": {
     "end_time": "2021-04-30T21:09:55.025855Z",
     "start_time": "2021-04-30T20:51:02.843877Z"
    },
    "scrolled": false
   },
   "outputs": [
    {
     "name": "stdout",
     "output_type": "stream",
     "text": [
      "Epoch 1/25\n",
      "250/250 [==============================] - 57s 177ms/step - loss: 2.8207 - accuracy: 0.1265 - val_loss: 5.4047 - val_accuracy: 0.0705\n",
      "Epoch 2/25\n",
      "250/250 [==============================] - 45s 163ms/step - loss: 2.3934 - accuracy: 0.2235 - val_loss: 3.4938 - val_accuracy: 0.1542\n",
      "Epoch 3/25\n",
      "250/250 [==============================] - 45s 160ms/step - loss: 2.0024 - accuracy: 0.3417 - val_loss: 2.2670 - val_accuracy: 0.3021\n",
      "Epoch 4/25\n",
      "250/250 [==============================] - 44s 161ms/step - loss: 1.7579 - accuracy: 0.4172 - val_loss: 2.3865 - val_accuracy: 0.3105\n",
      "Epoch 5/25\n",
      "250/250 [==============================] - 45s 163ms/step - loss: 1.6335 - accuracy: 0.4559 - val_loss: 1.8391 - val_accuracy: 0.3895\n",
      "Epoch 6/25\n",
      "250/250 [==============================] - 45s 162ms/step - loss: 1.5155 - accuracy: 0.4923 - val_loss: 1.7382 - val_accuracy: 0.4611\n",
      "Epoch 7/25\n",
      "250/250 [==============================] - 45s 161ms/step - loss: 1.4064 - accuracy: 0.5282 - val_loss: 1.5592 - val_accuracy: 0.4826\n",
      "Epoch 8/25\n",
      "250/250 [==============================] - 45s 161ms/step - loss: 1.3344 - accuracy: 0.5535 - val_loss: 1.4473 - val_accuracy: 0.5205\n",
      "Epoch 9/25\n",
      "250/250 [==============================] - 45s 163ms/step - loss: 1.2651 - accuracy: 0.5803 - val_loss: 1.4883 - val_accuracy: 0.5147\n",
      "Epoch 10/25\n",
      "250/250 [==============================] - 44s 161ms/step - loss: 1.2014 - accuracy: 0.6026 - val_loss: 1.4926 - val_accuracy: 0.5242\n",
      "Epoch 11/25\n",
      "250/250 [==============================] - 44s 161ms/step - loss: 1.1393 - accuracy: 0.6229 - val_loss: 1.3450 - val_accuracy: 0.5595\n",
      "Epoch 12/25\n",
      "250/250 [==============================] - 45s 161ms/step - loss: 1.0986 - accuracy: 0.6332 - val_loss: 1.4129 - val_accuracy: 0.5553\n",
      "Epoch 13/25\n",
      "250/250 [==============================] - 45s 159ms/step - loss: 1.0400 - accuracy: 0.6575 - val_loss: 1.2967 - val_accuracy: 0.5842\n",
      "Epoch 14/25\n",
      "250/250 [==============================] - 44s 160ms/step - loss: 1.0056 - accuracy: 0.6668 - val_loss: 1.3210 - val_accuracy: 0.5832\n",
      "Epoch 15/25\n",
      "250/250 [==============================] - 45s 160ms/step - loss: 0.9512 - accuracy: 0.6861 - val_loss: 1.3428 - val_accuracy: 0.5737\n",
      "Epoch 16/25\n",
      "250/250 [==============================] - 44s 160ms/step - loss: 0.9047 - accuracy: 0.6985 - val_loss: 1.2970 - val_accuracy: 0.6011\n",
      "Epoch 17/25\n",
      "250/250 [==============================] - 44s 160ms/step - loss: 0.8551 - accuracy: 0.7118 - val_loss: 1.3005 - val_accuracy: 0.5963\n",
      "Epoch 18/25\n",
      "250/250 [==============================] - 44s 160ms/step - loss: 0.8113 - accuracy: 0.7331 - val_loss: 1.3058 - val_accuracy: 0.6042\n",
      "Epoch 19/25\n",
      "250/250 [==============================] - 45s 160ms/step - loss: 0.7567 - accuracy: 0.7486 - val_loss: 1.3236 - val_accuracy: 0.5963\n",
      "Epoch 20/25\n",
      "250/250 [==============================] - 44s 160ms/step - loss: 0.7069 - accuracy: 0.7653 - val_loss: 1.4305 - val_accuracy: 0.5953\n",
      "Epoch 21/25\n",
      "250/250 [==============================] - 45s 160ms/step - loss: 0.6593 - accuracy: 0.7800 - val_loss: 1.4614 - val_accuracy: 0.5853\n",
      "Epoch 22/25\n",
      "250/250 [==============================] - 45s 161ms/step - loss: 0.6331 - accuracy: 0.7903 - val_loss: 1.5105 - val_accuracy: 0.5868\n",
      "Epoch 23/25\n",
      "250/250 [==============================] - 44s 160ms/step - loss: 0.5653 - accuracy: 0.8126 - val_loss: 1.4090 - val_accuracy: 0.6137\n",
      "Epoch 24/25\n",
      "250/250 [==============================] - 45s 160ms/step - loss: 0.5184 - accuracy: 0.8276 - val_loss: 1.4883 - val_accuracy: 0.6132\n",
      "Epoch 25/25\n",
      "250/250 [==============================] - 45s 161ms/step - loss: 0.4711 - accuracy: 0.8463 - val_loss: 1.4905 - val_accuracy: 0.6158\n"
     ]
    }
   ],
   "source": [
    "history = run_model('train', model, opt, datasets, config, [chk_cb], [tb_cb])"
   ]
  },
  {
   "cell_type": "code",
   "execution_count": 11,
   "metadata": {
    "ExecuteTime": {
     "end_time": "2021-04-30T21:09:55.037755Z",
     "start_time": "2021-04-30T21:09:55.029530Z"
    }
   },
   "outputs": [
    {
     "data": {
      "text/plain": [
       "{'loss': [2.6477816104888916,\n",
       "  2.3157968521118164,\n",
       "  1.9493038654327393,\n",
       "  1.735114336013794,\n",
       "  1.5988819599151611,\n",
       "  1.4892840385437012,\n",
       "  1.3941370248794556,\n",
       "  1.3275123834609985,\n",
       "  1.264177918434143,\n",
       "  1.1930943727493286,\n",
       "  1.1410839557647705,\n",
       "  1.0938506126403809,\n",
       "  1.0438785552978516,\n",
       "  1.0033458471298218,\n",
       "  0.9518463611602783,\n",
       "  0.9095727801322937,\n",
       "  0.856095552444458,\n",
       "  0.8173038959503174,\n",
       "  0.7638511657714844,\n",
       "  0.7180817723274231,\n",
       "  0.6614867448806763,\n",
       "  0.6280240416526794,\n",
       "  0.5652996301651001,\n",
       "  0.5247814655303955,\n",
       "  0.4756668508052826],\n",
       " 'accuracy': [0.15523657202720642,\n",
       "  0.2484598308801651,\n",
       "  0.3590705692768097,\n",
       "  0.4254933297634125,\n",
       "  0.46808645129203796,\n",
       "  0.5026425123214722,\n",
       "  0.5357913374900818,\n",
       "  0.5560871958732605,\n",
       "  0.5792913436889648,\n",
       "  0.6043093204498291,\n",
       "  0.6234168410301208,\n",
       "  0.6360509395599365,\n",
       "  0.654063880443573,\n",
       "  0.6664477586746216,\n",
       "  0.6835538148880005,\n",
       "  0.6965318918228149,\n",
       "  0.7127622961997986,\n",
       "  0.7280858159065247,\n",
       "  0.745473325252533,\n",
       "  0.7604528069496155,\n",
       "  0.7796228528022766,\n",
       "  0.7916627526283264,\n",
       "  0.8130531311035156,\n",
       "  0.825999915599823,\n",
       "  0.8436375856399536],\n",
       " 'val_loss': [5.404654502868652,\n",
       "  3.4938158988952637,\n",
       "  2.267014741897583,\n",
       "  2.386533737182617,\n",
       "  1.8391118049621582,\n",
       "  1.7381949424743652,\n",
       "  1.559220790863037,\n",
       "  1.4472923278808594,\n",
       "  1.4882525205612183,\n",
       "  1.4925616979599,\n",
       "  1.3449589014053345,\n",
       "  1.4128515720367432,\n",
       "  1.2966653108596802,\n",
       "  1.3210279941558838,\n",
       "  1.342831015586853,\n",
       "  1.297006607055664,\n",
       "  1.3005201816558838,\n",
       "  1.3057894706726074,\n",
       "  1.323591709136963,\n",
       "  1.430532455444336,\n",
       "  1.4614453315734863,\n",
       "  1.5104913711547852,\n",
       "  1.4089515209197998,\n",
       "  1.4883450269699097,\n",
       "  1.4904769659042358],\n",
       " 'val_accuracy': [0.07052631676197052,\n",
       "  0.15421052277088165,\n",
       "  0.30210527777671814,\n",
       "  0.3105263113975525,\n",
       "  0.38947367668151855,\n",
       "  0.46105262637138367,\n",
       "  0.4826315641403198,\n",
       "  0.5205262899398804,\n",
       "  0.5147368311882019,\n",
       "  0.524210512638092,\n",
       "  0.5594736933708191,\n",
       "  0.5552631616592407,\n",
       "  0.5842105150222778,\n",
       "  0.5831578969955444,\n",
       "  0.5736842155456543,\n",
       "  0.6010526418685913,\n",
       "  0.5963158011436462,\n",
       "  0.6042105555534363,\n",
       "  0.5963158011436462,\n",
       "  0.5952631831169128,\n",
       "  0.5852631330490112,\n",
       "  0.5868421196937561,\n",
       "  0.6136842370033264,\n",
       "  0.6131578683853149,\n",
       "  0.6157894730567932]}"
      ]
     },
     "execution_count": 11,
     "metadata": {},
     "output_type": "execute_result"
    }
   ],
   "source": [
    "history.history"
   ]
  },
  {
   "cell_type": "code",
   "execution_count": 12,
   "metadata": {
    "ExecuteTime": {
     "end_time": "2021-04-30T21:09:55.040509Z",
     "start_time": "2021-04-30T21:09:55.038504Z"
    }
   },
   "outputs": [],
   "source": [
    "import matplotlib.pyplot as plt"
   ]
  },
  {
   "cell_type": "code",
   "execution_count": 13,
   "metadata": {
    "ExecuteTime": {
     "end_time": "2021-04-30T21:09:55.201069Z",
     "start_time": "2021-04-30T21:09:55.041145Z"
    }
   },
   "outputs": [
    {
     "data": {
      "image/png": "[encoded data removed]",
      "text/plain": [
       "<Figure size 576x576 with 2 Axes>"
      ]
     },
     "metadata": {
      "needs_background": "light"
     },
     "output_type": "display_data"
    }
   ],
   "source": [
    "acc = history.history['accuracy']\n",
    "val_acc = history.history['val_accuracy']\n",
    "\n",
    "loss = history.history['loss']\n",
    "val_loss = history.history['val_loss']\n",
    "\n",
    "plt.figure(figsize=(8, 8))\n",
    "plt.subplot(2, 1, 1)\n",
    "plt.plot(acc, label='Training Accuracy')\n",
    "plt.plot(val_acc, label='Validation Accuracy')\n",
    "plt.legend(loc='lower right')\n",
    "plt.ylabel('Accuracy')\n",
    "plt.ylim([min(plt.ylim()),1])\n",
    "plt.title('Training and Validation Accuracy')\n",
    "\n",
    "plt.subplot(2, 1, 2)\n",
    "plt.plot(loss, label='Training Loss')\n",
    "plt.plot(val_loss, label='Validation Loss')\n",
    "plt.legend(loc='upper right')\n",
    "plt.ylabel('Cross Entropy')\n",
    "plt.title('Training and Validation Loss')\n",
    "plt.xlabel('epoch')\n",
    "plt.show()"
   ]
  },
  {
   "cell_type": "code",
   "execution_count": null,
   "metadata": {},
   "outputs": [],
   "source": []
  }
 ],
 "metadata": {
  "kernelspec": {
   "display_name": "Python 3",
   "language": "python",
   "name": "python3"
  },
  "language_info": {
   "codemirror_mode": {
    "name": "ipython",
    "version": 3
   },
   "file_extension": ".py",
   "mimetype": "text/x-python",
   "name": "python",
   "nbconvert_exporter": "python",
   "pygments_lexer": "ipython3",
   "version": "3.8.8"
  },
  "toc": {
   "base_numbering": 1,
   "nav_menu": {},
   "number_sections": false,
   "sideBar": true,
   "skip_h1_title": false,
   "title_cell": "Table of Contents",
   "title_sidebar": "Contents",
   "toc_cell": false,
   "toc_position": {},
   "toc_section_display": true,
   "toc_window_display": false
  }
 },
 "nbformat": 4,
 "nbformat_minor": 1
}
