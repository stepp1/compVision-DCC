{
 "cells": [
  {
   "cell_type": "code",
   "execution_count": 1,
   "metadata": {
    "ExecuteTime": {
     "end_time": "2021-05-03T03:37:34.045282Z",
     "start_time": "2021-05-03T03:37:34.041562Z"
    }
   },
   "outputs": [
    {
     "name": "stdout",
     "output_type": "stream",
     "text": [
      "-------\n",
      "/home/step/Personal/UCH/2021-sem1/VisionComp/t1\n",
      "-------\n"
     ]
    }
   ],
   "source": [
    "from pathlib import Path\n",
    "\n",
    "if 'google.colab' in str(get_ipython()):\n",
    "    from google.colab import drive\n",
    "    drive.mount('/gdrive')\n",
    "    print('-------')\n",
    "    %cd /gdrive/MyDrive/compVision-DCC/t1/\n",
    "    print('-------')\n",
    "elif Path.cwd().parent.stem == 't1':\n",
    "    print('-------')\n",
    "    %cd ..\n",
    "    print('-------')"
   ]
  },
  {
   "cell_type": "code",
   "execution_count": 2,
   "metadata": {
    "ExecuteTime": {
     "end_time": "2021-05-03T03:37:35.078166Z",
     "start_time": "2021-05-03T03:37:34.046259Z"
    }
   },
   "outputs": [
    {
     "name": "stdout",
     "output_type": "stream",
     "text": [
      "INFO:tensorflow:Enabling eager execution\n",
      "INFO:tensorflow:Enabling v2 tensorshape\n",
      "INFO:tensorflow:Enabling resource variables\n",
      "INFO:tensorflow:Enabling tensor equality\n",
      "INFO:tensorflow:Enabling control flow v2\n"
     ]
    }
   ],
   "source": [
    "import train\n",
    "from train import *\n",
    "from dataset import ClothingSmall, parse_function, train_preprocess\n",
    "import matplotlib.pyplot as plt"
   ]
  },
  {
   "cell_type": "code",
   "execution_count": 3,
   "metadata": {
    "ExecuteTime": {
     "end_time": "2021-05-03T03:37:35.080748Z",
     "start_time": "2021-05-03T03:37:35.079006Z"
    }
   },
   "outputs": [
    {
     "name": "stdout",
     "output_type": "stream",
     "text": [
      "\n",
      "jsaavedr, 2020\n",
      "This allows you to train and test your model\n",
      "\n",
      "Before using this program, set the path where the folder \"covnet2\"  is stored.\n",
      "To use train.py, you will require to send the following parameters :\n",
      " * -config : A configuration file where a set of parameters for data construction and trainig is set.\n",
      " * -name: A section name in the configuration file.\n",
      " * -mode: [train, test] for training, testing, or showing  variables of the current model. By default this is set to 'train'\n",
      " * -save: Set true for saving the model\n",
      "\n",
      "\n",
      " Extension made by Victor Faraggi, 2021\n",
      "\n",
      " Added modularity. Now you can import the following functions:\n",
      "    - create_config(name, config_file=None, config_str=None)\n",
      "        -> return a ConfigurationFile from config_file path or config_str\n",
      "    - parse_config(config)\n",
      "        -> returns dict w/ tfr_files\n",
      "    - load_dataset(config, tfr_train_file, tfr_test_file)\n",
      "        -> returns a dict w/ train/test datasets, mean_image, input_shape and number_of_classes\n",
      "    - create_model(config, model_name, in_shape)\n",
      "        -> returns a tf model\n",
      "    - create_scheduler(config)\n",
      "        -> returns a scheduler\n",
      "    - create_opt(opt_name, config, scheduler=None)\n",
      "        -> returns an optimizer\n",
      "    - create_cbs(config)\n",
      "        -> returns a TensorBoardCallback and a CheckpointCallback\n",
      "    - run_model(mode, model, opt, datasets, config, train_cbs=None, test_cbs=None):\n",
      "        -> returns the training/test history\n",
      "    - save_model(model, config, fname)\n",
      "        -> saves the model\n",
      "\n",
      "    config argument is expected to be a ConfigurationFile\n",
      "\n"
     ]
    }
   ],
   "source": [
    "print(train.__doc__)"
   ]
  },
  {
   "cell_type": "markdown",
   "metadata": {},
   "source": [
    "# ResNet-50\n"
   ]
  },
  {
   "cell_type": "code",
   "execution_count": 4,
   "metadata": {
    "ExecuteTime": {
     "end_time": "2021-05-03T03:37:35.087203Z",
     "start_time": "2021-05-03T03:37:35.081411Z"
    }
   },
   "outputs": [],
   "source": [
    "resnet50_config = \\\n",
    "\"\"\"[FASHION-RESNET50]\n",
    "# Training Related\n",
    "NUM_EPOCHS = 16\n",
    "NUM_CLASSES = 19\n",
    "BATCH_SIZE = 128\n",
    "SNAPSHOT_STEPS = 500\n",
    "VALIDATION_STEPS = 100\n",
    "LEARNING_RATE = 0.003\n",
    "USE_L2 = True\n",
    "WEIGHT_DECAY = 1e-4\n",
    "\n",
    "SNAPSHOT_DIR = snapshots/snapshots-r50/\n",
    "\n",
    "# Dataset Related\n",
    "DATA_DIR = data/clothing-small/\n",
    "SHUFFLE_SIZE = 10000\n",
    "CHANNELS = 3\n",
    "IMAGE_TYPE = IMAGE\n",
    "IMAGE_WIDTH = 224\n",
    "IMAGE_HEIGHT = 224\n",
    "\n",
    "#for tf_records to use multithreads\n",
    "USE_MULTITHREADS = True\n",
    "NUM_THREADS = 10\n",
    "\n",
    "#CKPFILE is used for fine tunning\n",
    "#CKPFILE =/home/step/Personal/UCH/2021-sem1/VisionComp/t1/chks\n",
    "\"\"\"\n",
    "\n",
    "with open(\"configs/t1_resnet50.config\", 'w') as conf:\n",
    "    conf.write(resnet50_config)"
   ]
  },
  {
   "cell_type": "markdown",
   "metadata": {},
   "source": [
    "## Configuration and Dataset"
   ]
  },
  {
   "cell_type": "code",
   "execution_count": 5,
   "metadata": {
    "ExecuteTime": {
     "end_time": "2021-05-03T03:37:35.517159Z",
     "start_time": "2021-05-03T03:37:35.087870Z"
    }
   },
   "outputs": [],
   "source": [
    "model_name = 'resnet-50'\n",
    "\n",
    "config = create_config(\"FASHION-RESNET50\", \"configs/t1_resnet50.config\")\n",
    "tfr_files = parse_config(config, mode='train')\n",
    "datasets = load_dataset(config, tfr_files['train'], tfr_files['test'], 'train')"
   ]
  },
  {
   "cell_type": "code",
   "execution_count": 6,
   "metadata": {
    "ExecuteTime": {
     "end_time": "2021-05-03T03:37:35.809987Z",
     "start_time": "2021-05-03T03:37:35.518222Z"
    }
   },
   "outputs": [],
   "source": [
    "from dataset import ClothingSmall\n",
    "\n",
    "process_func = lambda img, label : train_preprocess(img, label, seed=[8, 8])\n",
    "\n",
    "csDataset = ClothingSmall(data_dir = config.get_data_dir())\n",
    "\n",
    "csDataset.prepare()\n",
    "\n",
    "csDataset.make_ds(parse_function, process_func)\n",
    "\n",
    "\n",
    "# datasets = {\n",
    "#     'train' : csDataset.train_ds,\n",
    "#     'test' : csDataset.test_ds\n",
    "# }\n"
   ]
  },
  {
   "cell_type": "markdown",
   "metadata": {},
   "source": [
    "## Create Callbacks"
   ]
  },
  {
   "cell_type": "code",
   "execution_count": 7,
   "metadata": {
    "ExecuteTime": {
     "end_time": "2021-05-03T03:37:35.915295Z",
     "start_time": "2021-05-03T03:37:35.810783Z"
    }
   },
   "outputs": [],
   "source": [
    "tb_cb, chk_cb = create_cbs(config)"
   ]
  },
  {
   "cell_type": "markdown",
   "metadata": {},
   "source": [
    "### LRFinder"
   ]
  },
  {
   "cell_type": "code",
   "execution_count": 8,
   "metadata": {
    "ExecuteTime": {
     "end_time": "2021-05-03T03:37:35.917587Z",
     "start_time": "2021-05-03T03:37:35.916037Z"
    },
    "code_folding": []
   },
   "outputs": [],
   "source": [
    "from custom import determine_learning_rate"
   ]
  },
  {
   "cell_type": "code",
   "execution_count": 9,
   "metadata": {
    "ExecuteTime": {
     "end_time": "2021-05-01T08:40:00.961962Z",
     "start_time": "2021-05-01T08:36:03.840047Z"
    },
    "deletable": false,
    "editable": false,
    "run_control": {
     "frozen": true
    }
   },
   "outputs": [
    {
     "name": "stdout",
     "output_type": "stream",
     "text": [
      "INFO:tensorflow:Mixed precision compatibility check (mixed_float16): OK\n",
      "Your GPU will likely run quickly with dtype policy mixed_float16 as it has compute capability of at least 7.0. Your GPU: NVIDIA GeForce RTX 3070, compute capability 8.6\n",
      "Model is Resnet-50\n",
      "(224, 224, 3)\n",
      "Model: \"res_net\"\n",
      "_________________________________________________________________\n",
      "Layer (type)                 Output Shape              Param #   \n",
      "=================================================================\n",
      "backbone (ResNetBackbone)    multiple                  23546048  \n",
      "_________________________________________________________________\n",
      "global_average_pooling2d (Gl multiple                  0         \n",
      "_________________________________________________________________\n",
      "classifier (Dense)           multiple                  38931     \n",
      "=================================================================\n",
      "Total params: 23,584,979\n",
      "Trainable params: 23,539,411\n",
      "Non-trainable params: 45,568\n",
      "_________________________________________________________________\n",
      "Epoch 1/5\n",
      "250/250 [==============================] - 53s 167ms/step - loss: 8.2604 - accuracy: 0.0597\n",
      "Epoch 2/5\n",
      "250/250 [==============================] - 45s 161ms/step - loss: 8.3854 - accuracy: 0.0443\n",
      "Epoch 3/5\n",
      "250/250 [==============================] - 45s 163ms/step - loss: 7.9099 - accuracy: 0.0333\n",
      "Epoch 4/5\n",
      "250/250 [==============================] - 47s 169ms/step - loss: 8.2603 - accuracy: 0.0335\n",
      "Epoch 5/5\n",
      "250/250 [==============================] - 45s 163ms/step - loss: 9.5959 - accuracy: 0.0327\n"
     ]
    },
    {
     "data": {
      "image/png": "[encoded data removed]",
      "text/plain": [
       "<Figure size 432x288 with 1 Axes>"
      ]
     },
     "metadata": {
      "needs_background": "light"
     },
     "output_type": "display_data"
    },
    {
     "data": {
      "text/plain": [
       "<models.resnet.ResNet at 0x7f02126b45b0>"
      ]
     },
     "execution_count": 9,
     "metadata": {},
     "output_type": "execute_result"
    }
   ],
   "source": [
    "model = create_model(config, model_name, csDataset.input_shape, use_mixed=True)\n",
    "determine_learning_rate(model, datasets['train'], tf.keras.optimizers.SGD(), config.get_batch_size())"
   ]
  },
  {
   "cell_type": "code",
   "execution_count": 10,
   "metadata": {
    "ExecuteTime": {
     "end_time": "2021-05-01T08:44:01.930386Z",
     "start_time": "2021-05-01T08:40:00.964582Z"
    },
    "deletable": false,
    "editable": false,
    "run_control": {
     "frozen": true
    },
    "scrolled": false
   },
   "outputs": [
    {
     "name": "stdout",
     "output_type": "stream",
     "text": [
      "Model is Resnet-50\n",
      "(224, 224, 3)\n",
      "Model: \"res_net_1\"\n",
      "_________________________________________________________________\n",
      "Layer (type)                 Output Shape              Param #   \n",
      "=================================================================\n",
      "backbone (ResNetBackbone)    multiple                  23546048  \n",
      "_________________________________________________________________\n",
      "global_average_pooling2d_1 ( multiple                  0         \n",
      "_________________________________________________________________\n",
      "classifier (Dense)           multiple                  38931     \n",
      "=================================================================\n",
      "Total params: 23,584,979\n",
      "Trainable params: 23,539,411\n",
      "Non-trainable params: 45,568\n",
      "_________________________________________________________________\n",
      "Epoch 1/5\n",
      "250/250 [==============================] - 51s 167ms/step - loss: 8.1546 - accuracy: 0.0554\n",
      "Epoch 2/5\n",
      "250/250 [==============================] - 47s 166ms/step - loss: 8.0571 - accuracy: 0.0631\n",
      "Epoch 3/5\n",
      "250/250 [==============================] - 47s 168ms/step - loss: 8.0540 - accuracy: 0.0617\n",
      "Epoch 4/5\n",
      "250/250 [==============================] - 48s 168ms/step - loss: 8.0640 - accuracy: 0.0518\n",
      "Epoch 5/5\n",
      "250/250 [==============================] - 48s 166ms/step - loss: 7.9666 - accuracy: 0.0669\n"
     ]
    },
    {
     "data": {
      "image/png": "[encoded data removed]",
      "text/plain": [
       "<Figure size 432x288 with 1 Axes>"
      ]
     },
     "metadata": {
      "needs_background": "light"
     },
     "output_type": "display_data"
    },
    {
     "data": {
      "text/plain": [
       "<models.resnet.ResNet at 0x7effe8dc6220>"
      ]
     },
     "execution_count": 10,
     "metadata": {},
     "output_type": "execute_result"
    }
   ],
   "source": [
    "model = create_model(config, model_name, csDataset.input_shape, use_mixed=True)\n",
    "determine_learning_rate(model, datasets['train'], tf.keras.optimizers.Adam(), config.get_batch_size())"
   ]
  },
  {
   "cell_type": "code",
   "execution_count": 11,
   "metadata": {
    "ExecuteTime": {
     "end_time": "2021-05-01T08:48:17.104581Z",
     "start_time": "2021-05-01T08:44:01.933095Z"
    },
    "deletable": false,
    "editable": false,
    "run_control": {
     "frozen": true
    }
   },
   "outputs": [
    {
     "name": "stdout",
     "output_type": "stream",
     "text": [
      "Model is Resnet-50\n",
      "(224, 224, 3)\n",
      "Model: \"res_net_2\"\n",
      "_________________________________________________________________\n",
      "Layer (type)                 Output Shape              Param #   \n",
      "=================================================================\n",
      "backbone (ResNetBackbone)    multiple                  23546048  \n",
      "_________________________________________________________________\n",
      "global_average_pooling2d_2 ( multiple                  0         \n",
      "_________________________________________________________________\n",
      "classifier (Dense)           multiple                  38931     \n",
      "=================================================================\n",
      "Total params: 23,584,979\n",
      "Trainable params: 23,539,411\n",
      "Non-trainable params: 45,568\n",
      "_________________________________________________________________\n",
      "Epoch 1/5\n",
      "250/250 [==============================] - 56s 176ms/step - loss: 7.8734 - accuracy: 0.0585\n",
      "Epoch 2/5\n",
      "250/250 [==============================] - 49s 175ms/step - loss: 8.1866 - accuracy: 0.0614\n",
      "Epoch 3/5\n",
      "250/250 [==============================] - 49s 175ms/step - loss: 7.6331 - accuracy: 0.0655\n",
      "Epoch 4/5\n",
      "250/250 [==============================] - 49s 172ms/step - loss: 8.2829 - accuracy: 0.0633\n",
      "Epoch 5/5\n",
      "250/250 [==============================] - 51s 181ms/step - loss: 8.3239 - accuracy: 0.0345\n"
     ]
    },
    {
     "data": {
      "image/png": "[encoded data removed]",
      "text/plain": [
       "<Figure size 432x288 with 1 Axes>"
      ]
     },
     "metadata": {
      "needs_background": "light"
     },
     "output_type": "display_data"
    },
    {
     "data": {
      "text/plain": [
       "<models.resnet.ResNet at 0x7effc16a44f0>"
      ]
     },
     "execution_count": 11,
     "metadata": {},
     "output_type": "execute_result"
    }
   ],
   "source": [
    "model = create_model(config, model_name, csDataset.input_shape, use_mixed=True)\n",
    "determine_learning_rate(model, datasets['train'], tf.keras.optimizers.Nadam(), config.get_batch_size())"
   ]
  },
  {
   "cell_type": "markdown",
   "metadata": {},
   "source": [
    "## Optimizer"
   ]
  },
  {
   "cell_type": "code",
   "execution_count": 9,
   "metadata": {
    "ExecuteTime": {
     "end_time": "2021-05-03T03:37:35.920137Z",
     "start_time": "2021-05-03T03:37:35.918303Z"
    }
   },
   "outputs": [],
   "source": [
    "cosine_sched = create_scheduler(config)\n",
    "opt = create_opt('adam', config)"
   ]
  },
  {
   "cell_type": "markdown",
   "metadata": {},
   "source": [
    "## Model"
   ]
  },
  {
   "cell_type": "code",
   "execution_count": 10,
   "metadata": {
    "ExecuteTime": {
     "end_time": "2021-05-03T02:06:31.209866Z",
     "start_time": "2021-05-03T02:06:30.723070Z"
    },
    "deletable": false,
    "editable": false,
    "run_control": {
     "frozen": true
    },
    "scrolled": false
   },
   "outputs": [
    {
     "name": "stdout",
     "output_type": "stream",
     "text": [
      "INFO:tensorflow:Mixed precision compatibility check (mixed_float16): OK\n",
      "Your GPU will likely run quickly with dtype policy mixed_float16 as it has compute capability of at least 7.0. Your GPU: NVIDIA GeForce RTX 3070, compute capability 8.6\n",
      "Model is Resnet-50\n",
      "(224, 224, 3)\n",
      "Model: \"res_net\"\n",
      "_________________________________________________________________\n",
      "Layer (type)                 Output Shape              Param #   \n",
      "=================================================================\n",
      "backbone (ResNetBackbone)    multiple                  23546048  \n",
      "_________________________________________________________________\n",
      "global_average_pooling2d (Gl multiple                  0         \n",
      "_________________________________________________________________\n",
      "classifier (Dense)           multiple                  38931     \n",
      "=================================================================\n",
      "Total params: 23,584,979\n",
      "Trainable params: 23,539,411\n",
      "Non-trainable params: 45,568\n",
      "_________________________________________________________________\n"
     ]
    }
   ],
   "source": [
    "model = create_model(config, 'resnet-50', csDataset.input_shape, use_mixed=True)"
   ]
  },
  {
   "cell_type": "markdown",
   "metadata": {},
   "source": [
    "## Run"
   ]
  },
  {
   "cell_type": "code",
   "execution_count": 11,
   "metadata": {
    "ExecuteTime": {
     "end_time": "2021-05-03T02:06:35.132387Z",
     "start_time": "2021-05-03T02:06:35.129769Z"
    },
    "deletable": false,
    "editable": false,
    "run_control": {
     "frozen": true
    }
   },
   "outputs": [],
   "source": [
    "datasets['train'] = datasets['train'].prefetch(1)\n",
    "datasets['test'] = datasets['test'].prefetch(1)"
   ]
  },
  {
   "cell_type": "code",
   "execution_count": 12,
   "metadata": {
    "ExecuteTime": {
     "end_time": "2021-05-03T02:06:36.106024Z",
     "start_time": "2021-05-03T02:06:35.986529Z"
    },
    "deletable": false,
    "editable": false,
    "run_control": {
     "frozen": true
    },
    "scrolled": false
   },
   "outputs": [
    {
     "ename": "AttributeError",
     "evalue": "module 'tensorflow.keras' has no attribute 'CategoricalCrossentropy'",
     "output_type": "error",
     "traceback": [
      "\u001b[0;31m---------------------------------------------------------------------------\u001b[0m",
      "\u001b[0;31mAttributeError\u001b[0m                            Traceback (most recent call last)",
      "\u001b[0;32m<ipython-input-12-e16bddeb8402>\u001b[0m in \u001b[0;36m<module>\u001b[0;34m\u001b[0m\n\u001b[0;32m----> 1\u001b[0;31m \u001b[0mhistory\u001b[0m \u001b[0;34m=\u001b[0m \u001b[0mrun_model\u001b[0m\u001b[0;34m(\u001b[0m\u001b[0;34m'train'\u001b[0m\u001b[0;34m,\u001b[0m \u001b[0mmodel\u001b[0m\u001b[0;34m,\u001b[0m \u001b[0mopt\u001b[0m\u001b[0;34m,\u001b[0m \u001b[0mdatasets\u001b[0m\u001b[0;34m,\u001b[0m \u001b[0mconfig\u001b[0m\u001b[0;34m,\u001b[0m \u001b[0;34m[\u001b[0m\u001b[0mchk_cb\u001b[0m\u001b[0;34m]\u001b[0m\u001b[0;34m,\u001b[0m \u001b[0;34m[\u001b[0m\u001b[0mtb_cb\u001b[0m\u001b[0;34m]\u001b[0m\u001b[0;34m)\u001b[0m\u001b[0;34m\u001b[0m\u001b[0;34m\u001b[0m\u001b[0m\n\u001b[0m",
      "\u001b[0;32m~/Personal/UCH/2021-sem1/VisionComp/t1/train.py\u001b[0m in \u001b[0;36mrun_model\u001b[0;34m(mode, model, opt, datasets, config, train_cbs, test_cbs)\u001b[0m\n\u001b[1;32m    234\u001b[0m         \u001b[0mtrain_cbs\u001b[0m \u001b[0;34m=\u001b[0m \u001b[0;34m[\u001b[0m\u001b[0;34m]\u001b[0m\u001b[0;34m\u001b[0m\u001b[0;34m\u001b[0m\u001b[0m\n\u001b[1;32m    235\u001b[0m \u001b[0;34m\u001b[0m\u001b[0m\n\u001b[0;32m--> 236\u001b[0;31m     \u001b[0mmodel\u001b[0m\u001b[0;34m.\u001b[0m\u001b[0mcompile\u001b[0m\u001b[0;34m(\u001b[0m\u001b[0moptimizer\u001b[0m\u001b[0;34m=\u001b[0m\u001b[0mopt\u001b[0m\u001b[0;34m,\u001b[0m \u001b[0mloss\u001b[0m\u001b[0;34m=\u001b[0m\u001b[0mtf\u001b[0m\u001b[0;34m.\u001b[0m\u001b[0mkeras\u001b[0m\u001b[0;34m.\u001b[0m\u001b[0mCategoricalCrossentropy\u001b[0m\u001b[0;34m(\u001b[0m\u001b[0mfrom_logits\u001b[0m\u001b[0;34m=\u001b[0m\u001b[0;32mTrue\u001b[0m\u001b[0;34m)\u001b[0m\u001b[0;34m,\u001b[0m \u001b[0mmetrics\u001b[0m\u001b[0;34m=\u001b[0m\u001b[0;34m[\u001b[0m\u001b[0;34m\"categorical_accuracy\"\u001b[0m\u001b[0;34m]\u001b[0m\u001b[0;34m)\u001b[0m\u001b[0;34m\u001b[0m\u001b[0;34m\u001b[0m\u001b[0m\n\u001b[0m\u001b[1;32m    237\u001b[0m \u001b[0;34m\u001b[0m\u001b[0m\n\u001b[1;32m    238\u001b[0m     \u001b[0;32mif\u001b[0m \u001b[0mmode\u001b[0m \u001b[0;34m==\u001b[0m \u001b[0;34m\"train\"\u001b[0m\u001b[0;34m:\u001b[0m\u001b[0;34m\u001b[0m\u001b[0;34m\u001b[0m\u001b[0m\n",
      "\u001b[0;31mAttributeError\u001b[0m: module 'tensorflow.keras' has no attribute 'CategoricalCrossentropy'"
     ]
    }
   ],
   "source": [
    "history = run_model('train', model, opt, datasets, config, [chk_cb], [tb_cb])"
   ]
  },
  {
   "cell_type": "markdown",
   "metadata": {},
   "source": [
    "## Run TFRecords Dataset w/ custom scheduler"
   ]
  },
  {
   "cell_type": "code",
   "execution_count": 10,
   "metadata": {
    "ExecuteTime": {
     "end_time": "2021-05-03T02:07:18.996910Z",
     "start_time": "2021-05-03T02:07:18.995233Z"
    },
    "deletable": false,
    "editable": false,
    "run_control": {
     "frozen": true
    }
   },
   "outputs": [],
   "source": [
    "sched = create_scheduler(config, 'cyclic', {'base_lr': 1e-3, 'max_lr': 8e-3})\n",
    "opt = create_opt('adam', config)"
   ]
  },
  {
   "cell_type": "code",
   "execution_count": 11,
   "metadata": {
    "ExecuteTime": {
     "end_time": "2021-05-03T02:16:35.581131Z",
     "start_time": "2021-05-03T02:07:19.375655Z"
    },
    "deletable": false,
    "editable": false,
    "run_control": {
     "frozen": true
    }
   },
   "outputs": [
    {
     "name": "stdout",
     "output_type": "stream",
     "text": [
      "INFO:tensorflow:Mixed precision compatibility check (mixed_float16): OK\n",
      "Your GPU will likely run quickly with dtype policy mixed_float16 as it has compute capability of at least 7.0. Your GPU: NVIDIA GeForce RTX 3070, compute capability 8.6\n",
      "Model is Resnet-50\n",
      "(224, 224, 3)\n",
      "Model: \"res_net\"\n",
      "_________________________________________________________________\n",
      "Layer (type)                 Output Shape              Param #   \n",
      "=================================================================\n",
      "backbone (ResNetBackbone)    multiple                  23546048  \n",
      "_________________________________________________________________\n",
      "global_average_pooling2d (Gl multiple                  0         \n",
      "_________________________________________________________________\n",
      "classifier (Dense)           multiple                  38931     \n",
      "=================================================================\n",
      "Total params: 23,584,979\n",
      "Trainable params: 23,539,411\n",
      "Non-trainable params: 45,568\n",
      "_________________________________________________________________\n",
      "Epoch 1/16\n",
      "250/250 [==============================] - 41s 114ms/step - loss: 2.5788 - categorical_accuracy: 0.1953 - val_loss: 5.5897 - val_categorical_accuracy: 0.1116\n",
      "Epoch 2/16\n",
      "250/250 [==============================] - 32s 108ms/step - loss: 1.9658 - categorical_accuracy: 0.3631 - val_loss: 3.7142 - val_categorical_accuracy: 0.2374\n",
      "Epoch 3/16\n",
      "250/250 [==============================] - 33s 109ms/step - loss: 1.7829 - categorical_accuracy: 0.4206 - val_loss: 2.7040 - val_categorical_accuracy: 0.3400\n",
      "Epoch 4/16\n",
      "250/250 [==============================] - 34s 113ms/step - loss: 1.6545 - categorical_accuracy: 0.4539 - val_loss: 2.2191 - val_categorical_accuracy: 0.3637\n",
      "Epoch 5/16\n",
      "250/250 [==============================] - 35s 115ms/step - loss: 1.5566 - categorical_accuracy: 0.4904 - val_loss: 2.2631 - val_categorical_accuracy: 0.3668\n",
      "Epoch 6/16\n",
      "250/250 [==============================] - 36s 113ms/step - loss: 1.4820 - categorical_accuracy: 0.5082 - val_loss: 1.9826 - val_categorical_accuracy: 0.4247\n",
      "Epoch 7/16\n",
      "250/250 [==============================] - 34s 109ms/step - loss: 1.4164 - categorical_accuracy: 0.5264 - val_loss: 2.0426 - val_categorical_accuracy: 0.3947\n",
      "Epoch 8/16\n",
      "250/250 [==============================] - 34s 109ms/step - loss: 1.3569 - categorical_accuracy: 0.5429 - val_loss: 1.9320 - val_categorical_accuracy: 0.4384\n",
      "Epoch 9/16\n",
      "250/250 [==============================] - 34s 111ms/step - loss: 1.2980 - categorical_accuracy: 0.5686 - val_loss: 1.6008 - val_categorical_accuracy: 0.4974\n",
      "Epoch 10/16\n",
      "250/250 [==============================] - 35s 111ms/step - loss: 1.2028 - categorical_accuracy: 0.5981 - val_loss: 1.4735 - val_categorical_accuracy: 0.5321\n",
      "Epoch 11/16\n",
      "250/250 [==============================] - 34s 110ms/step - loss: 1.1149 - categorical_accuracy: 0.6283 - val_loss: 1.4431 - val_categorical_accuracy: 0.5421\n",
      "Epoch 12/16\n",
      "250/250 [==============================] - 33s 110ms/step - loss: 1.0379 - categorical_accuracy: 0.6519 - val_loss: 1.4713 - val_categorical_accuracy: 0.5289\n",
      "Epoch 13/16\n",
      "250/250 [==============================] - 36s 110ms/step - loss: 0.9552 - categorical_accuracy: 0.6834 - val_loss: 1.3333 - val_categorical_accuracy: 0.5753\n",
      "Epoch 14/16\n",
      "250/250 [==============================] - 34s 112ms/step - loss: 0.8482 - categorical_accuracy: 0.7147 - val_loss: 1.4335 - val_categorical_accuracy: 0.5495\n",
      "Epoch 15/16\n",
      "250/250 [==============================] - 33s 108ms/step - loss: 0.7438 - categorical_accuracy: 0.7514 - val_loss: 1.3312 - val_categorical_accuracy: 0.5753\n",
      "Epoch 16/16\n",
      "250/250 [==============================] - 34s 111ms/step - loss: 0.6055 - categorical_accuracy: 0.8029 - val_loss: 1.3615 - val_categorical_accuracy: 0.5958\n"
     ]
    }
   ],
   "source": [
    "datasets['train'] = datasets['train'].prefetch(1)\n",
    "datasets['test'] = datasets['test'].prefetch(1)\n",
    "model = create_model(config, model_name, csDataset.input_shape, use_mixed=True)\n",
    "history = run_model('train', model, opt, datasets, config, [chk_cb, sched], [tb_cb])"
   ]
  },
  {
   "cell_type": "code",
   "execution_count": 10,
   "metadata": {
    "ExecuteTime": {
     "end_time": "2021-05-03T03:37:39.527234Z",
     "start_time": "2021-05-03T03:37:35.920759Z"
    }
   },
   "outputs": [
    {
     "name": "stdout",
     "output_type": "stream",
     "text": [
      "INFO:tensorflow:Mixed precision compatibility check (mixed_float16): OK\n",
      "Your GPU will likely run quickly with dtype policy mixed_float16 as it has compute capability of at least 7.0. Your GPU: NVIDIA GeForce RTX 3070, compute capability 8.6\n",
      "Model is Resnet-50\n",
      "(224, 224, 3)\n",
      "Model: \"res_net\"\n",
      "_________________________________________________________________\n",
      "Layer (type)                 Output Shape              Param #   \n",
      "=================================================================\n",
      "backbone (ResNetBackbone)    multiple                  23546048  \n",
      "_________________________________________________________________\n",
      "global_average_pooling2d (Gl multiple                  0         \n",
      "_________________________________________________________________\n",
      "classifier (Dense)           multiple                  38931     \n",
      "=================================================================\n",
      "Total params: 23,584,979\n",
      "Trainable params: 23,539,411\n",
      "Non-trainable params: 45,568\n",
      "_________________________________________________________________\n"
     ]
    }
   ],
   "source": [
    "from sklearn.metrics import confusion_matrix\n",
    "\n",
    "acc_dict = dict()\n",
    "acc_per_class_dict = dict()\n",
    "\n",
    "with tf.device('/gpu:0'):\n",
    "    model = create_model(config, model_name, csDataset.input_shape, use_mixed=True)\n",
    "    model.load_weights('snapshots/snapshots-r50/016.h5')\n",
    "    \n",
    "    accs = []\n",
    "    accs_per_class = []\n",
    "    for x, y in datasets['test']:\n",
    "        preds = model.predict(x)\n",
    "        acc = (tf.math.argmax(preds, 1) == tf.math.argmax(y, 1)).numpy().sum() / len(y)\n",
    "        \n",
    "        matrix = confusion_matrix(tf.math.argmax(preds, 1), tf.math.argmax(y, 1))\n",
    "        acc_per_class = matrix.diagonal()/matrix.sum(axis=1)\n",
    "        \n",
    "        accs.append(acc); accs_per_class.append(acc_per_class)\n",
    "        \n",
    "    accs = np.array(accs).mean()\n",
    "    accs_per_class = np.array(accs_per_class).mean(0)\n",
    "    \n",
    "np.save('snapshots/snapshots-r50/acc.npy', accs)\n",
    "np.save('snapshots/snapshots-r50/acc_classes.npy', accs_per_class)"
   ]
  },
  {
   "cell_type": "code",
   "execution_count": 11,
   "metadata": {
    "ExecuteTime": {
     "end_time": "2021-05-03T03:37:42.051597Z",
     "start_time": "2021-05-03T03:37:39.528109Z"
    }
   },
   "outputs": [
    {
     "name": "stdout",
     "output_type": "stream",
     "text": [
      "Model is Resnext-50\n",
      "(224, 224, 3)\n",
      "Model: \"res_next\"\n",
      "_________________________________________________________________\n",
      "Layer (type)                 Output Shape              Param #   \n",
      "=================================================================\n",
      "backbone (ResNetBackbone)    multiple                  23033024  \n",
      "_________________________________________________________________\n",
      "global_average_pooling2d_1 ( multiple                  0         \n",
      "_________________________________________________________________\n",
      "classifier (Dense)           multiple                  38931     \n",
      "=================================================================\n",
      "Total params: 23,071,955\n",
      "Trainable params: 23,011,283\n",
      "Non-trainable params: 60,672\n",
      "_________________________________________________________________\n"
     ]
    }
   ],
   "source": [
    "from sklearn.metrics import confusion_matrix\n",
    "\n",
    "acc_dict = dict()\n",
    "acc_per_class_dict = dict()\n",
    "\n",
    "with tf.device('/gpu:0'):\n",
    "    model = create_model(config, 'resnext', csDataset.input_shape, use_mixed=True)\n",
    "    model.load_weights('snapshots/snapshots-resnext/016.h5')\n",
    "    \n",
    "    accs = []\n",
    "    accs_per_class = []\n",
    "    for x, y in datasets['test']:\n",
    "        preds = model.predict(x)\n",
    "        acc = (tf.math.argmax(preds, 1) == tf.math.argmax(y, 1)).numpy().sum() / len(y)\n",
    "        \n",
    "        matrix = confusion_matrix(tf.math.argmax(preds, 1), tf.math.argmax(y, 1))\n",
    "        acc_per_class = matrix.diagonal()/(matrix.sum(axis=1) + 1e-8)\n",
    "        \n",
    "        accs.append(acc); accs_per_class.append(acc_per_class)\n",
    "        \n",
    "    accs = np.array(accs).mean()\n",
    "    accs_per_class = np.array(accs_per_class).mean(0)\n",
    "    \n",
    "np.save('snapshots/snapshots-resnext/acc.npy', accs)\n",
    "np.save('snapshots/snapshots-resnext/acc_classes.npy', accs_per_class)"
   ]
  },
  {
   "cell_type": "code",
   "execution_count": 12,
   "metadata": {
    "ExecuteTime": {
     "end_time": "2021-05-03T03:37:43.079658Z",
     "start_time": "2021-05-03T03:37:42.052375Z"
    }
   },
   "outputs": [
    {
     "name": "stdout",
     "output_type": "stream",
     "text": [
      "Model is AlexNet\n",
      "(224, 224, 3)\n",
      "Model: \"alex_net_model\"\n",
      "_________________________________________________________________\n",
      "Layer (type)                 Output Shape              Param #   \n",
      "=================================================================\n",
      "conv2d (Conv2D)              multiple                  34944     \n",
      "_________________________________________________________________\n",
      "max_pooling2d_2 (MaxPooling2 multiple                  0         \n",
      "_________________________________________________________________\n",
      "re_lu (ReLU)                 multiple                  0         \n",
      "_________________________________________________________________\n",
      "batch_normalization (BatchNo multiple                  384       \n",
      "_________________________________________________________________\n",
      "conv2d_1 (Conv2D)            multiple                  614656    \n",
      "_________________________________________________________________\n",
      "batch_normalization_1 (Batch multiple                  1024      \n",
      "_________________________________________________________________\n",
      "conv2d_2 (Conv2D)            multiple                  885120    \n",
      "_________________________________________________________________\n",
      "batch_normalization_2 (Batch multiple                  1536      \n",
      "_________________________________________________________________\n",
      "conv2d_3 (Conv2D)            multiple                  1327488   \n",
      "_________________________________________________________________\n",
      "batch_normalization_3 (Batch multiple                  1536      \n",
      "_________________________________________________________________\n",
      "conv2d_4 (Conv2D)            multiple                  884992    \n",
      "_________________________________________________________________\n",
      "batch_normalization_4 (Batch multiple                  1024      \n",
      "_________________________________________________________________\n",
      "dense (Dense)                multiple                  4195328   \n",
      "_________________________________________________________________\n",
      "batch_normalization_5 (Batch multiple                  4096      \n",
      "_________________________________________________________________\n",
      "dense_1 (Dense)              multiple                  1049600   \n",
      "_________________________________________________________________\n",
      "batch_normalization_6 (Batch multiple                  4096      \n",
      "_________________________________________________________________\n",
      "dense_2 (Dense)              multiple                  19475     \n",
      "=================================================================\n",
      "Total params: 9,025,299\n",
      "Trainable params: 9,018,451\n",
      "Non-trainable params: 6,848\n",
      "_________________________________________________________________\n"
     ]
    }
   ],
   "source": [
    "from sklearn.metrics import confusion_matrix\n",
    "\n",
    "acc_dict = dict()\n",
    "acc_per_class_dict = dict()\n",
    "\n",
    "with tf.device('/gpu:0'):\n",
    "    model = create_model(config, 'alexnet', csDataset.input_shape, use_mixed=True)\n",
    "    model.load_weights('snapshots/snapshots-alexnet/016.h5')\n",
    "    \n",
    "    accs = []\n",
    "    accs_per_class = []\n",
    "    for x, y in datasets['test']:\n",
    "        preds = model.predict(x)\n",
    "        acc = (tf.math.argmax(preds, 1) == tf.math.argmax(y, 1)).numpy().sum() / len(y)\n",
    "        \n",
    "        matrix = confusion_matrix(tf.math.argmax(preds, 1), tf.math.argmax(y, 1))\n",
    "        acc_per_class = matrix.diagonal()/(matrix.sum(axis=1) + 1e-8)\n",
    "        \n",
    "        accs.append(acc); accs_per_class.append(acc_per_class)\n",
    "        \n",
    "    accs = np.array(accs).mean()\n",
    "    accs_per_class = np.array(accs_per_class).mean(0)\n",
    "    \n",
    "np.save('snapshots/snapshots-alexnet/acc.npy', accs)\n",
    "np.save('snapshots/snapshots-alexnet/acc_classes.npy', accs_per_class)"
   ]
  },
  {
   "cell_type": "code",
   "execution_count": 13,
   "metadata": {
    "ExecuteTime": {
     "end_time": "2021-05-03T03:37:43.213514Z",
     "start_time": "2021-05-03T03:37:43.080382Z"
    },
    "collapsed": true
   },
   "outputs": [
    {
     "ename": "NameError",
     "evalue": "name 'history' is not defined",
     "output_type": "error",
     "traceback": [
      "\u001b[0;31m---------------------------------------------------------------------------\u001b[0m",
      "\u001b[0;31mNameError\u001b[0m                                 Traceback (most recent call last)",
      "\u001b[0;32m<ipython-input-13-76443fe0a4f2>\u001b[0m in \u001b[0;36m<module>\u001b[0;34m\u001b[0m\n\u001b[1;32m      1\u001b[0m \u001b[0;32mimport\u001b[0m \u001b[0mmatplotlib\u001b[0m\u001b[0;34m.\u001b[0m\u001b[0mpyplot\u001b[0m \u001b[0;32mas\u001b[0m \u001b[0mplt\u001b[0m\u001b[0;34m\u001b[0m\u001b[0;34m\u001b[0m\u001b[0m\n\u001b[1;32m      2\u001b[0m \u001b[0;34m\u001b[0m\u001b[0m\n\u001b[0;32m----> 3\u001b[0;31m \u001b[0macc\u001b[0m \u001b[0;34m=\u001b[0m \u001b[0mhistory\u001b[0m\u001b[0;34m.\u001b[0m\u001b[0mhistory\u001b[0m\u001b[0;34m[\u001b[0m\u001b[0;34m'accuracy'\u001b[0m\u001b[0;34m]\u001b[0m\u001b[0;34m\u001b[0m\u001b[0;34m\u001b[0m\u001b[0m\n\u001b[0m\u001b[1;32m      4\u001b[0m \u001b[0mval_acc\u001b[0m \u001b[0;34m=\u001b[0m \u001b[0mhistory\u001b[0m\u001b[0;34m.\u001b[0m\u001b[0mhistory\u001b[0m\u001b[0;34m[\u001b[0m\u001b[0;34m'val_accuracy'\u001b[0m\u001b[0;34m]\u001b[0m\u001b[0;34m\u001b[0m\u001b[0;34m\u001b[0m\u001b[0m\n\u001b[1;32m      5\u001b[0m \u001b[0;34m\u001b[0m\u001b[0m\n",
      "\u001b[0;31mNameError\u001b[0m: name 'history' is not defined"
     ]
    }
   ],
   "source": [
    "import matplotlib.pyplot as plt\n",
    "\n",
    "acc = history.history['accuracy']\n",
    "val_acc = history.history['val_accuracy']\n",
    "\n",
    "loss = history.history['loss']\n",
    "val_loss = history.history['val_loss']\n",
    "\n",
    "plt.figure(figsize=(8, 8))\n",
    "plt.subplot(2, 1, 1)\n",
    "plt.plot(acc, label='Training Accuracy')\n",
    "plt.plot(val_acc, label='Validation Accuracy')\n",
    "plt.legend(loc='lower right')\n",
    "plt.ylabel('Accuracy')\n",
    "plt.ylim([min(plt.ylim()),1])\n",
    "plt.title('Training and Validation Accuracy')\n",
    "\n",
    "plt.subplot(2, 1, 2)\n",
    "plt.plot(loss, label='Training Loss')\n",
    "plt.plot(val_loss, label='Validation Loss')\n",
    "plt.legend(loc='upper right')\n",
    "plt.ylabel('Cross Entropy')\n",
    "plt.title('Training and Validation Loss')\n",
    "plt.xlabel('epoch')\n",
    "plt.show()"
   ]
  },
  {
   "cell_type": "code",
   "execution_count": null,
   "metadata": {},
   "outputs": [],
   "source": []
  }
 ],
 "metadata": {
  "kernelspec": {
   "display_name": "Python 3",
   "language": "python",
   "name": "python3"
  },
  "language_info": {
   "codemirror_mode": {
    "name": "ipython",
    "version": 3
   },
   "file_extension": ".py",
   "mimetype": "text/x-python",
   "name": "python",
   "nbconvert_exporter": "python",
   "pygments_lexer": "ipython3",
   "version": "3.8.8"
  },
  "toc": {
   "base_numbering": 1,
   "nav_menu": {},
   "number_sections": false,
   "sideBar": true,
   "skip_h1_title": false,
   "title_cell": "Table of Contents",
   "title_sidebar": "Contents",
   "toc_cell": false,
   "toc_position": {},
   "toc_section_display": true,
   "toc_window_display": false
  }
 },
 "nbformat": 4,
 "nbformat_minor": 1
}
