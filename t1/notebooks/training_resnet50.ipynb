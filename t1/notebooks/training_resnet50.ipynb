{
 "cells": [
  {
   "cell_type": "code",
   "execution_count": 1,
   "metadata": {
    "ExecuteTime": {
     "end_time": "2021-04-30T07:04:47.583052Z",
     "start_time": "2021-04-30T07:04:47.580104Z"
    }
   },
   "outputs": [
    {
     "name": "stdout",
     "output_type": "stream",
     "text": [
      "/home/step/Personal/UCH/2021-sem1/VisionComp/t1\n"
     ]
    }
   ],
   "source": [
    "from pathlib import Path\n",
    "if Path.cwd().parent.stem == 't1':\n",
    "    %cd .."
   ]
  },
  {
   "cell_type": "code",
   "execution_count": 2,
   "metadata": {
    "ExecuteTime": {
     "end_time": "2021-04-30T07:04:48.575974Z",
     "start_time": "2021-04-30T07:04:47.583992Z"
    }
   },
   "outputs": [
    {
     "name": "stdout",
     "output_type": "stream",
     "text": [
      "INFO:tensorflow:Enabling eager execution\n",
      "INFO:tensorflow:Enabling v2 tensorshape\n",
      "INFO:tensorflow:Enabling resource variables\n",
      "INFO:tensorflow:Enabling tensor equality\n",
      "INFO:tensorflow:Enabling control flow v2\n"
     ]
    }
   ],
   "source": [
    "import train\n",
    "from train import *\n",
    "from dataset import ClothingSmall, parse_function, train_preprocess\n",
    "import matplotlib.pyplot as plt"
   ]
  },
  {
   "cell_type": "code",
   "execution_count": 3,
   "metadata": {
    "ExecuteTime": {
     "end_time": "2021-04-30T07:04:48.578499Z",
     "start_time": "2021-04-30T07:04:48.576805Z"
    }
   },
   "outputs": [
    {
     "name": "stdout",
     "output_type": "stream",
     "text": [
      "\n",
      "jsaavedr, 2020\n",
      "This allows you to train and test your model\n",
      "\n",
      "Before using this program, set the path where the folder \"covnet2\"  is stored.\n",
      "To use train.py, you will require to send the following parameters :\n",
      " * -config : A configuration file where a set of parameters for data construction and trainig is set.\n",
      " * -name: A section name in the configuration file.\n",
      " * -mode: [train, test] for training, testing, or showing  variables of the current model. By default this is set to 'train'\n",
      " * -save: Set true for saving the model\n",
      "\n",
      "\n",
      " Extension made by Victor Faraggi, 2021\n",
      "\n",
      " Added modularity. Now you can import the following functions:\n",
      "    - create_config(name, config_file=None, config_str=None)\n",
      "        -> return a ConfigurationFile from config_file path or config_str\n",
      "    - parse_config(config)\n",
      "        -> returns dict w/ tfr_files\n",
      "    - load_dataset(config, tfr_train_file, tfr_test_file)\n",
      "        -> returns a dict w/ train/test datasets, mean_image, input_shape and number_of_classes\n",
      "    - create_model(config, model_name, in_shape)\n",
      "        -> returns a tf model\n",
      "    - create_scheduler(config)\n",
      "        -> returns a scheduler\n",
      "    - create_opt(opt_name, config, scheduler=None)\n",
      "        -> returns an optimizer\n",
      "    - create_cbs(config)\n",
      "        -> returns a TensorBoardCallback and a CheckpointCallback\n",
      "    - run_model(mode, model, opt, datasets, config, train_cbs=None, test_cbs=None):\n",
      "        -> returns the training/test history\n",
      "    - save_model(model, config, fname)\n",
      "        -> saves the model\n",
      "\n",
      "    config argument is expected to be a ConfigurationFile\n",
      "\n"
     ]
    }
   ],
   "source": [
    "print(train.__doc__)"
   ]
  },
  {
   "cell_type": "markdown",
   "metadata": {},
   "source": [
    "# ResNet-50\n"
   ]
  },
  {
   "cell_type": "code",
   "execution_count": 4,
   "metadata": {
    "ExecuteTime": {
     "end_time": "2021-04-30T07:04:48.584714Z",
     "start_time": "2021-04-30T07:04:48.579135Z"
    }
   },
   "outputs": [],
   "source": [
    "resnet50_config = \\\n",
    "\"\"\"[FASHION-RESNET50]\n",
    "# Training Related\n",
    "NUM_EPOCHS = 20\n",
    "NUM_CLASSES = 19\n",
    "BATCH_SIZE = 128\n",
    "SNAPSHOT_STEPS = 500\n",
    "VALIDATION_STEPS = 100\n",
    "LEARNING_RATE = 0.003\n",
    "USE_L2 = True\n",
    "WEIGHT_DECAY = 1e-4\n",
    "\n",
    "SNAPSHOT_DIR = /home/step/Personal/UCH/2021-sem1/VisionComp/t1/snapshots/snapshots-r50/\n",
    "\n",
    "# Dataset Related\n",
    "DATA_DIR = /home/step/Personal/UCH/2021-sem1/VisionComp/t1/data/clothing-small/\n",
    "SHUFFLE_SIZE = 10000\n",
    "CHANNELS = 3\n",
    "IMAGE_TYPE = IMAGE\n",
    "IMAGE_WIDTH = 224\n",
    "IMAGE_HEIGHT = 224\n",
    "\n",
    "#for tf_records to use multithreads\n",
    "USE_MULTITHREADS = True\n",
    "NUM_THREADS = 10\n",
    "\n",
    "#CKPFILE is used for fine tunning\n",
    "#CKPFILE =/home/step/Personal/UCH/2021-sem1/VisionComp/t1/chks\n",
    "\"\"\"\n",
    "\n",
    "with open(\"configs/t1_resnet50.config\", 'w') as conf:\n",
    "    conf.write(resnet50_config)"
   ]
  },
  {
   "cell_type": "markdown",
   "metadata": {},
   "source": [
    "## Configuration and Dataset"
   ]
  },
  {
   "cell_type": "code",
   "execution_count": 5,
   "metadata": {
    "ExecuteTime": {
     "end_time": "2021-04-30T07:04:48.587816Z",
     "start_time": "2021-04-30T07:04:48.585335Z"
    }
   },
   "outputs": [],
   "source": [
    "config = create_config(\"FASHION-RESNET50\", \"configs/t1_resnet50.config\")\n",
    "tfr_files = parse_config(config, mode='train')"
   ]
  },
  {
   "cell_type": "code",
   "execution_count": 6,
   "metadata": {
    "ExecuteTime": {
     "end_time": "2021-04-30T07:04:49.229437Z",
     "start_time": "2021-04-30T07:04:48.588740Z"
    }
   },
   "outputs": [],
   "source": [
    "from dataset import ClothingSmall\n",
    "\n",
    "process_func = lambda img, label : train_preprocess(img, label, seed=[8, 8])\n",
    "\n",
    "csDataset = ClothingSmall(data_dir = config.get_data_dir())\n",
    "\n",
    "csDataset.prepare()\n",
    "\n",
    "csDataset.make_ds(parse_function, process_func)\n",
    "\n",
    "\n",
    "datasets = {\n",
    "    'train' : csDataset.train_ds,\n",
    "    'test' : csDataset.test_ds\n",
    "}\n"
   ]
  },
  {
   "cell_type": "markdown",
   "metadata": {},
   "source": [
    "## Optimizer"
   ]
  },
  {
   "cell_type": "code",
   "execution_count": 7,
   "metadata": {
    "ExecuteTime": {
     "end_time": "2021-04-30T07:04:49.231629Z",
     "start_time": "2021-04-30T07:04:49.230197Z"
    }
   },
   "outputs": [],
   "source": [
    "cosine_sched = create_scheduler(config)\n",
    "opt = create_opt('adam', config)"
   ]
  },
  {
   "cell_type": "markdown",
   "metadata": {},
   "source": [
    "## Create Callbacks"
   ]
  },
  {
   "cell_type": "markdown",
   "metadata": {},
   "source": [
    "## Model"
   ]
  },
  {
   "cell_type": "code",
   "execution_count": 9,
   "metadata": {
    "ExecuteTime": {
     "end_time": "2021-04-30T07:05:05.859557Z",
     "start_time": "2021-04-30T07:05:05.403568Z"
    }
   },
   "outputs": [
    {
     "name": "stdout",
     "output_type": "stream",
     "text": [
      "INFO:tensorflow:Mixed precision compatibility check (mixed_float16): OK\n",
      "Your GPU will likely run quickly with dtype policy mixed_float16 as it has compute capability of at least 7.0. Your GPU: NVIDIA GeForce RTX 3070, compute capability 8.6\n",
      "Model is Resnet-50\n",
      "(224, 224, 3)\n",
      "Model: \"res_net\"\n",
      "_________________________________________________________________\n",
      "Layer (type)                 Output Shape              Param #   \n",
      "=================================================================\n",
      "backbone (ResNetBackbone)    multiple                  23549568  \n",
      "_________________________________________________________________\n",
      "global_average_pooling2d (Gl multiple                  0         \n",
      "_________________________________________________________________\n",
      "classifier (Dense)           multiple                  38931     \n",
      "=================================================================\n",
      "Total params: 23,588,499\n",
      "Trainable params: 23,543,059\n",
      "Non-trainable params: 45,440\n",
      "_________________________________________________________________\n"
     ]
    }
   ],
   "source": [
    "model = create_model(config, 'resnet-50', csDataset.input_shape, use_mixed=True)"
   ]
  },
  {
   "cell_type": "code",
   "execution_count": 10,
   "metadata": {
    "ExecuteTime": {
     "end_time": "2021-04-30T07:05:06.376215Z",
     "start_time": "2021-04-30T07:05:06.283879Z"
    }
   },
   "outputs": [],
   "source": [
    "tb_cb, chk_cb = create_cbs(config)"
   ]
  },
  {
   "cell_type": "markdown",
   "metadata": {},
   "source": [
    "## Run"
   ]
  },
  {
   "cell_type": "code",
   "execution_count": 11,
   "metadata": {
    "ExecuteTime": {
     "end_time": "2021-04-30T07:14:43.495683Z",
     "start_time": "2021-04-30T07:05:07.249658Z"
    },
    "scrolled": false
   },
   "outputs": [
    {
     "name": "stdout",
     "output_type": "stream",
     "text": [
      "Epoch 1/20\n",
      "500/500 [==============================] - 34s 59ms/step - loss: 3.0052 - accuracy: 0.1132 - val_loss: 3.4069 - val_accuracy: 0.1332\n",
      "Epoch 2/20\n",
      "500/500 [==============================] - 28s 57ms/step - loss: 2.3760 - accuracy: 0.2494 - val_loss: 2.6254 - val_accuracy: 0.2000\n",
      "Epoch 3/20\n",
      "500/500 [==============================] - 28s 57ms/step - loss: 2.0578 - accuracy: 0.3387 - val_loss: 2.3571 - val_accuracy: 0.2716\n",
      "Epoch 4/20\n",
      "500/500 [==============================] - 28s 57ms/step - loss: 1.8702 - accuracy: 0.3913 - val_loss: 2.3344 - val_accuracy: 0.2853\n",
      "Epoch 5/20\n",
      "500/500 [==============================] - 28s 56ms/step - loss: 1.7232 - accuracy: 0.4383 - val_loss: 2.7475 - val_accuracy: 0.2553\n",
      "Epoch 6/20\n",
      "500/500 [==============================] - 28s 56ms/step - loss: 1.5611 - accuracy: 0.4930 - val_loss: 2.0597 - val_accuracy: 0.3437\n",
      "Epoch 7/20\n",
      "500/500 [==============================] - 28s 56ms/step - loss: 1.4323 - accuracy: 0.5324 - val_loss: 1.9907 - val_accuracy: 0.3905\n",
      "Epoch 8/20\n",
      "500/500 [==============================] - 29s 58ms/step - loss: 1.3386 - accuracy: 0.5599 - val_loss: 2.1529 - val_accuracy: 0.3837\n",
      "Epoch 9/20\n",
      "500/500 [==============================] - 28s 56ms/step - loss: 1.2103 - accuracy: 0.5963 - val_loss: 2.1224 - val_accuracy: 0.3563\n",
      "Epoch 10/20\n",
      "500/500 [==============================] - 28s 57ms/step - loss: 1.0761 - accuracy: 0.6427 - val_loss: 2.2886 - val_accuracy: 0.3516\n",
      "Epoch 11/20\n",
      "500/500 [==============================] - 29s 57ms/step - loss: 0.9273 - accuracy: 0.6850 - val_loss: 2.1118 - val_accuracy: 0.3958\n",
      "Epoch 12/20\n",
      "500/500 [==============================] - 28s 56ms/step - loss: 0.7671 - accuracy: 0.7411 - val_loss: 2.3894 - val_accuracy: 0.3816\n",
      "Epoch 13/20\n",
      "500/500 [==============================] - 28s 56ms/step - loss: 0.6145 - accuracy: 0.7908 - val_loss: 2.6605 - val_accuracy: 0.3874\n",
      "Epoch 14/20\n",
      "500/500 [==============================] - 28s 57ms/step - loss: 0.4454 - accuracy: 0.8465 - val_loss: 2.8195 - val_accuracy: 0.3984\n",
      "Epoch 15/20\n",
      "500/500 [==============================] - 28s 56ms/step - loss: 0.3334 - accuracy: 0.8833 - val_loss: 3.7003 - val_accuracy: 0.3300\n",
      "Epoch 16/20\n",
      "500/500 [==============================] - 28s 56ms/step - loss: 0.2493 - accuracy: 0.9136 - val_loss: 3.4377 - val_accuracy: 0.4063\n",
      "Epoch 17/20\n",
      "500/500 [==============================] - 28s 56ms/step - loss: 0.1952 - accuracy: 0.9341 - val_loss: 3.9643 - val_accuracy: 0.4116\n",
      "Epoch 18/20\n",
      "500/500 [==============================] - 28s 56ms/step - loss: 0.1676 - accuracy: 0.9428 - val_loss: 3.9543 - val_accuracy: 0.3916\n",
      "Epoch 19/20\n",
      "500/500 [==============================] - 28s 57ms/step - loss: 0.1522 - accuracy: 0.9502 - val_loss: 4.2459 - val_accuracy: 0.3895\n",
      "Epoch 20/20\n",
      "500/500 [==============================] - 28s 57ms/step - loss: 0.1273 - accuracy: 0.9563 - val_loss: 4.5206 - val_accuracy: 0.3526\n"
     ]
    }
   ],
   "source": [
    "history = run_model('train', model, opt, datasets, config, [chk_cb], [tb_cb])"
   ]
  },
  {
   "cell_type": "code",
   "execution_count": 12,
   "metadata": {
    "ExecuteTime": {
     "end_time": "2021-04-30T07:14:43.499805Z",
     "start_time": "2021-04-30T07:14:43.496499Z"
    }
   },
   "outputs": [
    {
     "data": {
      "text/plain": [
       "{'loss': [2.7785253524780273,\n",
       "  2.285766839981079,\n",
       "  2.014529228210449,\n",
       "  1.8361155986785889,\n",
       "  1.7066832780838013,\n",
       "  1.5716792345046997,\n",
       "  1.4544575214385986,\n",
       "  1.3523024320602417,\n",
       "  1.2280330657958984,\n",
       "  1.1039249897003174,\n",
       "  0.961413562297821,\n",
       "  0.798004686832428,\n",
       "  0.6511790752410889,\n",
       "  0.48662546277046204,\n",
       "  0.36352673172950745,\n",
       "  0.2796189785003662,\n",
       "  0.21832819283008575,\n",
       "  0.1856366991996765,\n",
       "  0.17038942873477936,\n",
       "  0.14243710041046143],\n",
       " 'accuracy': [0.14526066184043884,\n",
       "  0.2749163508415222,\n",
       "  0.34950119256973267,\n",
       "  0.40225785970687866,\n",
       "  0.4435688257217407,\n",
       "  0.48903900384902954,\n",
       "  0.5254401564598083,\n",
       "  0.556962788105011,\n",
       "  0.5945210456848145,\n",
       "  0.6320167779922485,\n",
       "  0.6739218831062317,\n",
       "  0.7279294729232788,\n",
       "  0.7779654264450073,\n",
       "  0.8317540884017944,\n",
       "  0.8731275796890259,\n",
       "  0.902336061000824,\n",
       "  0.9253838658332825,\n",
       "  0.9360164999961853,\n",
       "  0.9435844421386719,\n",
       "  0.9508084058761597],\n",
       " 'val_loss': [3.406924247741699,\n",
       "  2.625415325164795,\n",
       "  2.35709285736084,\n",
       "  2.3344407081604004,\n",
       "  2.7474794387817383,\n",
       "  2.059749126434326,\n",
       "  1.9906948804855347,\n",
       "  2.1529440879821777,\n",
       "  2.1223971843719482,\n",
       "  2.2886390686035156,\n",
       "  2.1117968559265137,\n",
       "  2.3894283771514893,\n",
       "  2.660505771636963,\n",
       "  2.81948184967041,\n",
       "  3.7002837657928467,\n",
       "  3.437717914581299,\n",
       "  3.9643380641937256,\n",
       "  3.9543297290802,\n",
       "  4.245904445648193,\n",
       "  4.5205512046813965],\n",
       " 'val_accuracy': [0.1331578940153122,\n",
       "  0.20000000298023224,\n",
       "  0.27157893776893616,\n",
       "  0.28526315093040466,\n",
       "  0.25526314973831177,\n",
       "  0.34368419647216797,\n",
       "  0.39052632451057434,\n",
       "  0.3836842179298401,\n",
       "  0.3563157916069031,\n",
       "  0.351578950881958,\n",
       "  0.3957894742488861,\n",
       "  0.3815789520740509,\n",
       "  0.38736841082572937,\n",
       "  0.398421049118042,\n",
       "  0.33000001311302185,\n",
       "  0.40631580352783203,\n",
       "  0.4115789532661438,\n",
       "  0.39157894253730774,\n",
       "  0.38947367668151855,\n",
       "  0.3526315689086914]}"
      ]
     },
     "execution_count": 12,
     "metadata": {},
     "output_type": "execute_result"
    }
   ],
   "source": [
    "history.history"
   ]
  },
  {
   "cell_type": "code",
   "execution_count": 13,
   "metadata": {
    "ExecuteTime": {
     "end_time": "2021-04-30T07:14:43.623098Z",
     "start_time": "2021-04-30T07:14:43.500745Z"
    }
   },
   "outputs": [
    {
     "data": {
      "image/png": "[encoded data removed]",
      "text/plain": [
       "<Figure size 576x576 with 2 Axes>"
      ]
     },
     "metadata": {
      "needs_background": "light"
     },
     "output_type": "display_data"
    }
   ],
   "source": [
    "import matplotlib.pyplot as plt\n",
    "\n",
    "acc = history.history['accuracy']\n",
    "val_acc = history.history['val_accuracy']\n",
    "\n",
    "loss = history.history['loss']\n",
    "val_loss = history.history['val_loss']\n",
    "\n",
    "plt.figure(figsize=(8, 8))\n",
    "plt.subplot(2, 1, 1)\n",
    "plt.plot(acc, label='Training Accuracy')\n",
    "plt.plot(val_acc, label='Validation Accuracy')\n",
    "plt.legend(loc='lower right')\n",
    "plt.ylabel('Accuracy')\n",
    "plt.ylim([min(plt.ylim()),1])\n",
    "plt.title('Training and Validation Accuracy')\n",
    "\n",
    "plt.subplot(2, 1, 2)\n",
    "plt.plot(loss, label='Training Loss')\n",
    "plt.plot(val_loss, label='Validation Loss')\n",
    "plt.legend(loc='upper right')\n",
    "plt.ylabel('Cross Entropy')\n",
    "plt.title('Training and Validation Loss')\n",
    "plt.xlabel('epoch')\n",
    "plt.show()"
   ]
  },
  {
   "cell_type": "code",
   "execution_count": null,
   "metadata": {},
   "outputs": [],
   "source": []
  }
 ],
 "metadata": {
  "kernelspec": {
   "display_name": "Python 3",
   "language": "python",
   "name": "python3"
  },
  "language_info": {
   "codemirror_mode": {
    "name": "ipython",
    "version": 3
   },
   "file_extension": ".py",
   "mimetype": "text/x-python",
   "name": "python",
   "nbconvert_exporter": "python",
   "pygments_lexer": "ipython3",
   "version": "3.8.8"
  },
  "toc": {
   "base_numbering": 1,
   "nav_menu": {},
   "number_sections": false,
   "sideBar": true,
   "skip_h1_title": false,
   "title_cell": "Table of Contents",
   "title_sidebar": "Contents",
   "toc_cell": false,
   "toc_position": {},
   "toc_section_display": true,
   "toc_window_display": false
  }
 },
 "nbformat": 4,
 "nbformat_minor": 1
}
