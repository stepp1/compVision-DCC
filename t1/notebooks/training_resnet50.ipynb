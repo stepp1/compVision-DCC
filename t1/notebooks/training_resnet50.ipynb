{
 "cells": [
  {
   "cell_type": "code",
   "execution_count": 1,
   "metadata": {
    "ExecuteTime": {
     "end_time": "2021-04-30T20:31:03.854591Z",
     "start_time": "2021-04-30T20:31:03.852075Z"
    }
   },
   "outputs": [
    {
     "name": "stdout",
     "output_type": "stream",
     "text": [
      "/home/step/Personal/UCH/2021-sem1/VisionComp/t1\n"
     ]
    }
   ],
   "source": [
    "from pathlib import Path\n",
    "if Path.cwd().parent.stem == 't1':\n",
    "    %cd .."
   ]
  },
  {
   "cell_type": "code",
   "execution_count": 2,
   "metadata": {
    "ExecuteTime": {
     "end_time": "2021-04-30T20:31:05.424966Z",
     "start_time": "2021-04-30T20:31:03.855411Z"
    }
   },
   "outputs": [
    {
     "name": "stdout",
     "output_type": "stream",
     "text": [
      "INFO:tensorflow:Enabling eager execution\n",
      "INFO:tensorflow:Enabling v2 tensorshape\n",
      "INFO:tensorflow:Enabling resource variables\n",
      "INFO:tensorflow:Enabling tensor equality\n",
      "INFO:tensorflow:Enabling control flow v2\n"
     ]
    }
   ],
   "source": [
    "import train\n",
    "from train import *\n",
    "from dataset import ClothingSmall, parse_function, train_preprocess\n",
    "import matplotlib.pyplot as plt"
   ]
  },
  {
   "cell_type": "code",
   "execution_count": 3,
   "metadata": {
    "ExecuteTime": {
     "end_time": "2021-04-30T20:31:05.427948Z",
     "start_time": "2021-04-30T20:31:05.425877Z"
    }
   },
   "outputs": [
    {
     "name": "stdout",
     "output_type": "stream",
     "text": [
      "\n",
      "jsaavedr, 2020\n",
      "This allows you to train and test your model\n",
      "\n",
      "Before using this program, set the path where the folder \"covnet2\"  is stored.\n",
      "To use train.py, you will require to send the following parameters :\n",
      " * -config : A configuration file where a set of parameters for data construction and trainig is set.\n",
      " * -name: A section name in the configuration file.\n",
      " * -mode: [train, test] for training, testing, or showing  variables of the current model. By default this is set to 'train'\n",
      " * -save: Set true for saving the model\n",
      "\n",
      "\n",
      " Extension made by Victor Faraggi, 2021\n",
      "\n",
      " Added modularity. Now you can import the following functions:\n",
      "    - create_config(name, config_file=None, config_str=None)\n",
      "        -> return a ConfigurationFile from config_file path or config_str\n",
      "    - parse_config(config)\n",
      "        -> returns dict w/ tfr_files\n",
      "    - load_dataset(config, tfr_train_file, tfr_test_file)\n",
      "        -> returns a dict w/ train/test datasets, mean_image, input_shape and number_of_classes\n",
      "    - create_model(config, model_name, in_shape)\n",
      "        -> returns a tf model\n",
      "    - create_scheduler(config)\n",
      "        -> returns a scheduler\n",
      "    - create_opt(opt_name, config, scheduler=None)\n",
      "        -> returns an optimizer\n",
      "    - create_cbs(config)\n",
      "        -> returns a TensorBoardCallback and a CheckpointCallback\n",
      "    - run_model(mode, model, opt, datasets, config, train_cbs=None, test_cbs=None):\n",
      "        -> returns the training/test history\n",
      "    - save_model(model, config, fname)\n",
      "        -> saves the model\n",
      "\n",
      "    config argument is expected to be a ConfigurationFile\n",
      "\n"
     ]
    }
   ],
   "source": [
    "print(train.__doc__)"
   ]
  },
  {
   "cell_type": "markdown",
   "metadata": {},
   "source": [
    "# ResNet-50\n"
   ]
  },
  {
   "cell_type": "code",
   "execution_count": 4,
   "metadata": {
    "ExecuteTime": {
     "end_time": "2021-04-30T20:31:05.430763Z",
     "start_time": "2021-04-30T20:31:05.428959Z"
    }
   },
   "outputs": [],
   "source": [
    "resnet50_config = \\\n",
    "\"\"\"[FASHION-RESNET50]\n",
    "# Training Related\n",
    "NUM_EPOCHS = 25\n",
    "NUM_CLASSES = 19\n",
    "BATCH_SIZE = 128\n",
    "SNAPSHOT_STEPS = 500\n",
    "VALIDATION_STEPS = 100\n",
    "LEARNING_RATE = 0.003\n",
    "USE_L2 = True\n",
    "WEIGHT_DECAY = 1e-4\n",
    "\n",
    "SNAPSHOT_DIR = snapshots/snapshots-r50/\n",
    "\n",
    "# Dataset Related\n",
    "DATA_DIR = data/clothing-small/\n",
    "SHUFFLE_SIZE = 10000\n",
    "CHANNELS = 3\n",
    "IMAGE_TYPE = IMAGE\n",
    "IMAGE_WIDTH = 224\n",
    "IMAGE_HEIGHT = 224\n",
    "\n",
    "#for tf_records to use multithreads\n",
    "USE_MULTITHREADS = True\n",
    "NUM_THREADS = 10\n",
    "\n",
    "#CKPFILE is used for fine tunning\n",
    "#CKPFILE =/home/step/Personal/UCH/2021-sem1/VisionComp/t1/chks\n",
    "\"\"\"\n",
    "\n",
    "with open(\"configs/t1_resnet50.config\", 'w') as conf:\n",
    "    conf.write(resnet50_config)"
   ]
  },
  {
   "cell_type": "markdown",
   "metadata": {},
   "source": [
    "## Configuration and Dataset"
   ]
  },
  {
   "cell_type": "code",
   "execution_count": 5,
   "metadata": {
    "ExecuteTime": {
     "end_time": "2021-04-30T20:31:05.912373Z",
     "start_time": "2021-04-30T20:31:05.431560Z"
    }
   },
   "outputs": [],
   "source": [
    "config = create_config(\"FASHION-RESNET50\", \"configs/t1_resnet50.config\")\n",
    "tfr_files = parse_config(config, mode='train')\n",
    "datasets = load_dataset(config, tfr_files['train'], tfr_files['test'], 'train')"
   ]
  },
  {
   "cell_type": "code",
   "execution_count": 6,
   "metadata": {
    "ExecuteTime": {
     "end_time": "2021-04-30T20:31:06.214432Z",
     "start_time": "2021-04-30T20:31:05.914334Z"
    }
   },
   "outputs": [],
   "source": [
    "from dataset import ClothingSmall\n",
    "\n",
    "process_func = lambda img, label : train_preprocess(img, label, seed=[8, 8])\n",
    "\n",
    "csDataset = ClothingSmall(data_dir = config.get_data_dir())\n",
    "\n",
    "csDataset.prepare()\n",
    "\n",
    "csDataset.make_ds(parse_function, process_func)\n",
    "\n",
    "\n",
    "# datasets = {\n",
    "#     'train' : csDataset.train_ds,\n",
    "#     'test' : csDataset.test_ds\n",
    "# }\n"
   ]
  },
  {
   "cell_type": "markdown",
   "metadata": {},
   "source": [
    "## Optimizer"
   ]
  },
  {
   "cell_type": "code",
   "execution_count": 7,
   "metadata": {
    "ExecuteTime": {
     "end_time": "2021-04-30T20:31:06.216669Z",
     "start_time": "2021-04-30T20:31:06.215193Z"
    }
   },
   "outputs": [],
   "source": [
    "cosine_sched = create_scheduler(config)\n",
    "opt = create_opt('adam', config)"
   ]
  },
  {
   "cell_type": "markdown",
   "metadata": {},
   "source": [
    "## Create Callbacks"
   ]
  },
  {
   "cell_type": "markdown",
   "metadata": {},
   "source": [
    "## Model"
   ]
  },
  {
   "cell_type": "code",
   "execution_count": 8,
   "metadata": {
    "ExecuteTime": {
     "end_time": "2021-04-30T20:31:06.696648Z",
     "start_time": "2021-04-30T20:31:06.217335Z"
    },
    "scrolled": false
   },
   "outputs": [
    {
     "name": "stdout",
     "output_type": "stream",
     "text": [
      "INFO:tensorflow:Mixed precision compatibility check (mixed_float16): OK\n",
      "Your GPU will likely run quickly with dtype policy mixed_float16 as it has compute capability of at least 7.0. Your GPU: NVIDIA GeForce RTX 3070, compute capability 8.6\n",
      "Model is Resnet-50\n",
      "(224, 224, 3)\n",
      "Model: \"res_net\"\n",
      "_________________________________________________________________\n",
      "Layer (type)                 Output Shape              Param #   \n",
      "=================================================================\n",
      "backbone (ResNetBackbone)    multiple                  23549568  \n",
      "_________________________________________________________________\n",
      "global_average_pooling2d (Gl multiple                  0         \n",
      "_________________________________________________________________\n",
      "classifier (Dense)           multiple                  38931     \n",
      "=================================================================\n",
      "Total params: 23,588,499\n",
      "Trainable params: 23,543,059\n",
      "Non-trainable params: 45,440\n",
      "_________________________________________________________________\n"
     ]
    }
   ],
   "source": [
    "model = create_model(config, 'resnet-50', csDataset.input_shape, use_mixed=True)"
   ]
  },
  {
   "cell_type": "code",
   "execution_count": 9,
   "metadata": {
    "ExecuteTime": {
     "end_time": "2021-04-30T20:31:06.826570Z",
     "start_time": "2021-04-30T20:31:06.697432Z"
    }
   },
   "outputs": [],
   "source": [
    "tb_cb, chk_cb = create_cbs(config)"
   ]
  },
  {
   "cell_type": "markdown",
   "metadata": {},
   "source": [
    "## Run"
   ]
  },
  {
   "cell_type": "code",
   "execution_count": 10,
   "metadata": {
    "ExecuteTime": {
     "end_time": "2021-04-30T20:31:06.829723Z",
     "start_time": "2021-04-30T20:31:06.827457Z"
    }
   },
   "outputs": [],
   "source": [
    "datasets['train'] = datasets['train'].prefetch(1)\n",
    "datasets['test'] = datasets['test'].prefetch(1)"
   ]
  },
  {
   "cell_type": "code",
   "execution_count": 11,
   "metadata": {
    "ExecuteTime": {
     "end_time": "2021-04-30T20:43:45.089238Z",
     "start_time": "2021-04-30T20:31:06.830461Z"
    },
    "scrolled": false
   },
   "outputs": [
    {
     "name": "stdout",
     "output_type": "stream",
     "text": [
      "Epoch 1/25\n",
      "250/250 [==============================] - 39s 106ms/step - loss: 2.8659 - accuracy: 0.1549 - val_loss: 12.1791 - val_accuracy: 0.1153\n",
      "Epoch 2/25\n",
      "250/250 [==============================] - 29s 98ms/step - loss: 2.1399 - accuracy: 0.3059 - val_loss: 30.9865 - val_accuracy: 0.1116\n",
      "Epoch 3/25\n",
      "250/250 [==============================] - 30s 101ms/step - loss: 1.9646 - accuracy: 0.3586 - val_loss: 2.3985 - val_accuracy: 0.3274\n",
      "Epoch 4/25\n",
      "250/250 [==============================] - 29s 100ms/step - loss: 1.7169 - accuracy: 0.4325 - val_loss: 2.1411 - val_accuracy: 0.3400\n",
      "Epoch 5/25\n",
      "250/250 [==============================] - 30s 103ms/step - loss: 1.5971 - accuracy: 0.4743 - val_loss: 1.8304 - val_accuracy: 0.4232\n",
      "Epoch 6/25\n",
      "250/250 [==============================] - 29s 101ms/step - loss: 1.5162 - accuracy: 0.4995 - val_loss: 1.6605 - val_accuracy: 0.4689\n",
      "Epoch 7/25\n",
      "250/250 [==============================] - 29s 100ms/step - loss: 1.4434 - accuracy: 0.5222 - val_loss: 1.5901 - val_accuracy: 0.4853\n",
      "Epoch 8/25\n",
      "250/250 [==============================] - 30s 101ms/step - loss: 1.3480 - accuracy: 0.5541 - val_loss: 1.7002 - val_accuracy: 0.4695\n",
      "Epoch 9/25\n",
      "250/250 [==============================] - 29s 101ms/step - loss: 1.2978 - accuracy: 0.5694 - val_loss: 1.5119 - val_accuracy: 0.5116\n",
      "Epoch 10/25\n",
      "250/250 [==============================] - 30s 100ms/step - loss: 1.2521 - accuracy: 0.5781 - val_loss: 1.5459 - val_accuracy: 0.5242\n",
      "Epoch 11/25\n",
      "250/250 [==============================] - 29s 101ms/step - loss: 1.2102 - accuracy: 0.5972 - val_loss: 1.6257 - val_accuracy: 0.4895\n",
      "Epoch 12/25\n",
      "250/250 [==============================] - 30s 102ms/step - loss: 1.1929 - accuracy: 0.6028 - val_loss: 1.5544 - val_accuracy: 0.4984\n",
      "Epoch 13/25\n",
      "250/250 [==============================] - 28s 98ms/step - loss: 1.1125 - accuracy: 0.6319 - val_loss: 1.3772 - val_accuracy: 0.5700\n",
      "Epoch 14/25\n",
      "250/250 [==============================] - 29s 99ms/step - loss: 1.0593 - accuracy: 0.6443 - val_loss: 1.5197 - val_accuracy: 0.5295\n",
      "Epoch 15/25\n",
      "250/250 [==============================] - 31s 102ms/step - loss: 1.0237 - accuracy: 0.6548 - val_loss: 1.4048 - val_accuracy: 0.5584\n",
      "Epoch 16/25\n",
      "250/250 [==============================] - 29s 99ms/step - loss: 0.9696 - accuracy: 0.6758 - val_loss: 1.4765 - val_accuracy: 0.5463\n",
      "Epoch 17/25\n",
      "250/250 [==============================] - 30s 102ms/step - loss: 0.9132 - accuracy: 0.6906 - val_loss: 1.3581 - val_accuracy: 0.5642\n",
      "Epoch 18/25\n",
      "250/250 [==============================] - 29s 100ms/step - loss: 0.8709 - accuracy: 0.7075 - val_loss: 1.4590 - val_accuracy: 0.5621\n",
      "Epoch 19/25\n",
      "250/250 [==============================] - 30s 101ms/step - loss: 0.8300 - accuracy: 0.7220 - val_loss: 1.5503 - val_accuracy: 0.5337\n",
      "Epoch 20/25\n",
      "250/250 [==============================] - 29s 100ms/step - loss: 0.7708 - accuracy: 0.7443 - val_loss: 1.3885 - val_accuracy: 0.5784\n",
      "Epoch 21/25\n",
      "250/250 [==============================] - 30s 103ms/step - loss: 0.7203 - accuracy: 0.7602 - val_loss: 1.5760 - val_accuracy: 0.5621\n",
      "Epoch 22/25\n",
      "250/250 [==============================] - 30s 101ms/step - loss: 0.6717 - accuracy: 0.7756 - val_loss: 1.7185 - val_accuracy: 0.5216\n",
      "Epoch 23/25\n",
      "250/250 [==============================] - 31s 105ms/step - loss: 0.6213 - accuracy: 0.7933 - val_loss: 1.5501 - val_accuracy: 0.5716\n",
      "Epoch 24/25\n",
      "250/250 [==============================] - 30s 103ms/step - loss: 0.5739 - accuracy: 0.8131 - val_loss: 1.7593 - val_accuracy: 0.5453\n",
      "Epoch 25/25\n",
      "250/250 [==============================] - 31s 104ms/step - loss: 0.5377 - accuracy: 0.8250 - val_loss: 1.7629 - val_accuracy: 0.5426\n"
     ]
    }
   ],
   "source": [
    "history = run_model('train', model, opt, datasets, config, [chk_cb], [tb_cb])"
   ]
  },
  {
   "cell_type": "code",
   "execution_count": 12,
   "metadata": {
    "ExecuteTime": {
     "end_time": "2021-04-30T20:43:45.101448Z",
     "start_time": "2021-04-30T20:43:45.093231Z"
    }
   },
   "outputs": [
    {
     "data": {
      "text/plain": [
       "{'loss': [2.573782444000244,\n",
       "  2.046067953109741,\n",
       "  1.8629728555679321,\n",
       "  1.6846554279327393,\n",
       "  1.5758413076400757,\n",
       "  1.495287537574768,\n",
       "  1.4220274686813354,\n",
       "  1.3596992492675781,\n",
       "  1.2989290952682495,\n",
       "  1.2496745586395264,\n",
       "  1.2474238872528076,\n",
       "  1.1791621446609497,\n",
       "  1.1158854961395264,\n",
       "  1.0716135501861572,\n",
       "  1.0227272510528564,\n",
       "  0.9817516207695007,\n",
       "  0.9268696904182434,\n",
       "  0.8778157234191895,\n",
       "  0.8346605896949768,\n",
       "  0.7846695184707642,\n",
       "  0.738061249256134,\n",
       "  0.6789119243621826,\n",
       "  0.6240339875221252,\n",
       "  0.5849893093109131,\n",
       "  0.5409647822380066],\n",
       " 'accuracy': [0.1946086287498474,\n",
       "  0.3336773216724396,\n",
       "  0.3866216242313385,\n",
       "  0.4450698792934418,\n",
       "  0.480564147233963,\n",
       "  0.5051755905151367,\n",
       "  0.5284110307693481,\n",
       "  0.5494261384010315,\n",
       "  0.5682209134101868,\n",
       "  0.578916072845459,\n",
       "  0.5821371674537659,\n",
       "  0.6083122491836548,\n",
       "  0.6273884177207947,\n",
       "  0.6401788592338562,\n",
       "  0.6560652852058411,\n",
       "  0.6710135340690613,\n",
       "  0.6875566840171814,\n",
       "  0.7053194642066956,\n",
       "  0.7196735143661499,\n",
       "  0.7379053831100464,\n",
       "  0.7566688656806946,\n",
       "  0.7721800208091736,\n",
       "  0.7920380234718323,\n",
       "  0.8077681064605713,\n",
       "  0.8221534490585327],\n",
       " 'val_loss': [12.179144859313965,\n",
       "  30.986480712890625,\n",
       "  2.3985073566436768,\n",
       "  2.1411020755767822,\n",
       "  1.8304399251937866,\n",
       "  1.6604604721069336,\n",
       "  1.5900883674621582,\n",
       "  1.7002015113830566,\n",
       "  1.5119017362594604,\n",
       "  1.5459251403808594,\n",
       "  1.6257133483886719,\n",
       "  1.5543586015701294,\n",
       "  1.3771607875823975,\n",
       "  1.5197080373764038,\n",
       "  1.4047800302505493,\n",
       "  1.476463794708252,\n",
       "  1.3581126928329468,\n",
       "  1.4589576721191406,\n",
       "  1.550258994102478,\n",
       "  1.3885444402694702,\n",
       "  1.5760300159454346,\n",
       "  1.7184785604476929,\n",
       "  1.5500863790512085,\n",
       "  1.759278416633606,\n",
       "  1.7629152536392212],\n",
       " 'val_accuracy': [0.11526315659284592,\n",
       "  0.11157894879579544,\n",
       "  0.3273684084415436,\n",
       "  0.3400000035762787,\n",
       "  0.4231579005718231,\n",
       "  0.4689473807811737,\n",
       "  0.4852631688117981,\n",
       "  0.4694736897945404,\n",
       "  0.5115789771080017,\n",
       "  0.524210512638092,\n",
       "  0.4894736707210541,\n",
       "  0.4984210431575775,\n",
       "  0.5699999928474426,\n",
       "  0.5294736623764038,\n",
       "  0.5584210753440857,\n",
       "  0.5463157892227173,\n",
       "  0.5642105340957642,\n",
       "  0.5621052384376526,\n",
       "  0.5336841940879822,\n",
       "  0.5784210562705994,\n",
       "  0.5621052384376526,\n",
       "  0.5215789675712585,\n",
       "  0.5715789198875427,\n",
       "  0.5452631711959839,\n",
       "  0.5426315665245056]}"
      ]
     },
     "execution_count": 12,
     "metadata": {},
     "output_type": "execute_result"
    }
   ],
   "source": [
    "history.history"
   ]
  },
  {
   "cell_type": "code",
   "execution_count": 13,
   "metadata": {
    "ExecuteTime": {
     "end_time": "2021-04-30T20:43:45.279663Z",
     "start_time": "2021-04-30T20:43:45.102296Z"
    }
   },
   "outputs": [
    {
     "data": {
      "image/png": "[encoded data removed]",
      "text/plain": [
       "<Figure size 576x576 with 2 Axes>"
      ]
     },
     "metadata": {
      "needs_background": "light"
     },
     "output_type": "display_data"
    }
   ],
   "source": [
    "import matplotlib.pyplot as plt\n",
    "\n",
    "acc = history.history['accuracy']\n",
    "val_acc = history.history['val_accuracy']\n",
    "\n",
    "loss = history.history['loss']\n",
    "val_loss = history.history['val_loss']\n",
    "\n",
    "plt.figure(figsize=(8, 8))\n",
    "plt.subplot(2, 1, 1)\n",
    "plt.plot(acc, label='Training Accuracy')\n",
    "plt.plot(val_acc, label='Validation Accuracy')\n",
    "plt.legend(loc='lower right')\n",
    "plt.ylabel('Accuracy')\n",
    "plt.ylim([min(plt.ylim()),1])\n",
    "plt.title('Training and Validation Accuracy')\n",
    "\n",
    "plt.subplot(2, 1, 2)\n",
    "plt.plot(loss, label='Training Loss')\n",
    "plt.plot(val_loss, label='Validation Loss')\n",
    "plt.legend(loc='upper right')\n",
    "plt.ylabel('Cross Entropy')\n",
    "plt.title('Training and Validation Loss')\n",
    "plt.xlabel('epoch')\n",
    "plt.show()"
   ]
  },
  {
   "cell_type": "code",
   "execution_count": null,
   "metadata": {},
   "outputs": [],
   "source": []
  }
 ],
 "metadata": {
  "kernelspec": {
   "display_name": "Python 3",
   "language": "python",
   "name": "python3"
  },
  "language_info": {
   "codemirror_mode": {
    "name": "ipython",
    "version": 3
   },
   "file_extension": ".py",
   "mimetype": "text/x-python",
   "name": "python",
   "nbconvert_exporter": "python",
   "pygments_lexer": "ipython3",
   "version": "3.8.8"
  },
  "toc": {
   "base_numbering": 1,
   "nav_menu": {},
   "number_sections": false,
   "sideBar": true,
   "skip_h1_title": false,
   "title_cell": "Table of Contents",
   "title_sidebar": "Contents",
   "toc_cell": false,
   "toc_position": {},
   "toc_section_display": true,
   "toc_window_display": false
  }
 },
 "nbformat": 4,
 "nbformat_minor": 1
}
