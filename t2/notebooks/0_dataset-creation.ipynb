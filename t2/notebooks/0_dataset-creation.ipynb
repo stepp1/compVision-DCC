{
 "cells": [
  {
   "cell_type": "markdown",
   "id": "ca0cfafb",
   "metadata": {},
   "source": [
    "## Create directory"
   ]
  },
  {
   "cell_type": "code",
   "execution_count": null,
   "id": "5b850870",
   "metadata": {},
   "outputs": [],
   "source": [
    "from pathlib import Path\n",
    "if Path.cwd().parent.stem == 't2':\n",
    "    %cd ..\n",
    "\n",
    "%mkdir data\n",
    "%cd data\n",
    "%config Completer.use_jedi = False"
   ]
  },
  {
   "cell_type": "markdown",
   "id": "de55a9b5",
   "metadata": {},
   "source": [
    "## Download"
   ]
  },
  {
   "cell_type": "code",
   "execution_count": 2,
   "id": "803e59e5",
   "metadata": {
    "ExecuteTime": {
     "end_time": "2021-05-24T23:16:02.426994Z",
     "start_time": "2021-05-24T23:16:00.480924Z"
    }
   },
   "outputs": [
    {
     "name": "stdout",
     "output_type": "stream",
     "text": [
      "Process is interrupted.\n"
     ]
    }
   ],
   "source": [
    "%%bash\n",
    "# download\n",
    "wget https://www.dropbox.com/s/ut350iwgby9swk2/Sketch_EITZ.zip\n",
    "wget https://www.dropbox.com/s/khbxruh3acq84eg/Flickr25K.zip\n",
    "wget https://www.dropbox.com/s/q5ew09x4e3rsiht/Flickr15K.zip"
   ]
  },
  {
   "cell_type": "markdown",
   "id": "fa8392e9",
   "metadata": {},
   "source": [
    "## Extract"
   ]
  },
  {
   "cell_type": "code",
   "execution_count": null,
   "id": "f90f8103",
   "metadata": {},
   "outputs": [],
   "source": [
    "%%bash\n",
    "unzip -q Sketch_EITZ.zip\n",
    "unzip -q Flickr25K.zip\n",
    "unzip -q Flickr15K.zip"
   ]
  },
  {
   "cell_type": "markdown",
   "id": "a97a89ad",
   "metadata": {},
   "source": [
    "## Clean"
   ]
  },
  {
   "cell_type": "code",
   "execution_count": null,
   "id": "1dc6748f",
   "metadata": {},
   "outputs": [],
   "source": [
    "%%bash\n",
    "rm Sketch_EITZ.zip\n",
    "rm Flickr25K.zip\n",
    "rm Flickr15K.zip"
   ]
  }
 ],
 "metadata": {
  "kernelspec": {
   "display_name": "Python 3",
   "language": "python",
   "name": "python3"
  },
  "language_info": {
   "codemirror_mode": {
    "name": "ipython",
    "version": 3
   },
   "file_extension": ".py",
   "mimetype": "text/x-python",
   "name": "python",
   "nbconvert_exporter": "python",
   "pygments_lexer": "ipython3",
   "version": "3.8.10"
  },
  "toc": {
   "base_numbering": 1,
   "nav_menu": {},
   "number_sections": false,
   "sideBar": true,
   "skip_h1_title": false,
   "title_cell": "Table of Contents",
   "title_sidebar": "Contents",
   "toc_cell": false,
   "toc_position": {},
   "toc_section_display": true,
   "toc_window_display": false
  }
 },
 "nbformat": 4,
 "nbformat_minor": 5
}
