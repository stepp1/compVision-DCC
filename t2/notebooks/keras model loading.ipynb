{
 "cells": [
  {
   "cell_type": "code",
   "execution_count": 1,
   "id": "c565818c",
   "metadata": {
    "ExecuteTime": {
     "end_time": "2021-05-23T00:39:01.199583Z",
     "start_time": "2021-05-23T00:39:01.192389Z"
    }
   },
   "outputs": [
    {
     "name": "stdout",
     "output_type": "stream",
     "text": [
      "/home/step/Personal/UCH/2021-sem1/VisionComp/t2\n"
     ]
    }
   ],
   "source": [
    "from pathlib import Path\n",
    "if Path.cwd().parent.stem == 't2':\n",
    "    %cd .."
   ]
  },
  {
   "cell_type": "code",
   "execution_count": 3,
   "id": "398076e9",
   "metadata": {
    "ExecuteTime": {
     "end_time": "2021-05-23T00:39:26.337350Z",
     "start_time": "2021-05-23T00:39:26.335095Z"
    }
   },
   "outputs": [],
   "source": [
    "from train import *"
   ]
  },
  {
   "cell_type": "code",
   "execution_count": 4,
   "id": "d98ee4f9",
   "metadata": {
    "ExecuteTime": {
     "end_time": "2021-05-23T00:42:48.552887Z",
     "start_time": "2021-05-23T00:42:48.550673Z"
    }
   },
   "outputs": [],
   "source": [
    "import sys\n",
    "# set the convnet2 path\n",
    "sys.path.append(\"../convnet2\")"
   ]
  },
  {
   "cell_type": "code",
   "execution_count": 5,
   "id": "900a8a4a",
   "metadata": {
    "ExecuteTime": {
     "end_time": "2021-05-23T00:43:46.736363Z",
     "start_time": "2021-05-23T00:43:46.734939Z"
    }
   },
   "outputs": [],
   "source": [
    "from models import resnet"
   ]
  },
  {
   "cell_type": "code",
   "execution_count": 10,
   "id": "8f4ff077",
   "metadata": {
    "ExecuteTime": {
     "end_time": "2021-05-23T00:58:26.339829Z",
     "start_time": "2021-05-23T00:58:26.337740Z"
    }
   },
   "outputs": [],
   "source": [
    "from tensorflow import keras"
   ]
  },
  {
   "cell_type": "code",
   "execution_count": 23,
   "id": "e09d2ded",
   "metadata": {
    "ExecuteTime": {
     "end_time": "2021-05-23T01:39:09.341717Z",
     "start_time": "2021-05-23T01:39:09.073376Z"
    }
   },
   "outputs": [
    {
     "data": {
      "text/plain": [
       "<KerasTensor: shape=(None, 250) dtype=float32 (created by layer 'res_net_6')>"
      ]
     },
     "execution_count": 23,
     "metadata": {},
     "output_type": "execute_result"
    }
   ],
   "source": [
    "model = resnet.ResNet([3, 4, 6, 3], [64, 128, 256, 512], 250, use_bottleneck=False, se_factor=0)\n",
    "input_sketch = tf.keras.Input((224, 224, 3), name = 'input_sketch')\n",
    "model(input_sketch)"
   ]
  },
  {
   "cell_type": "code",
   "execution_count": 28,
   "id": "e20aa36c",
   "metadata": {
    "ExecuteTime": {
     "end_time": "2021-05-23T04:55:58.303184Z",
     "start_time": "2021-05-23T04:55:58.294682Z"
    }
   },
   "outputs": [
    {
     "name": "stdout",
     "output_type": "stream",
     "text": [
      "Model: \"backbone\"\n",
      "_________________________________________________________________\n",
      "Layer (type)                 Output Shape              Param #   \n",
      "=================================================================\n",
      "conv_0 (Conv2D)              multiple                  9408      \n",
      "_________________________________________________________________\n",
      "bn_0 (BatchNormalization)    multiple                  256       \n",
      "_________________________________________________________________\n",
      "max_pooling2d_7 (MaxPooling2 multiple                  0         \n",
      "_________________________________________________________________\n",
      "block_0 (ResNetBlock)        multiple                  222720    \n",
      "_________________________________________________________________\n",
      "block_1 (ResNetBlock)        multiple                  1117952   \n",
      "_________________________________________________________________\n",
      "block_2 (ResNetBlock)        multiple                  6827520   \n",
      "_________________________________________________________________\n",
      "block_3 (ResNetBlock)        multiple                  13118464  \n",
      "_________________________________________________________________\n",
      "bn_last (BatchNormalization) multiple                  2048      \n",
      "=================================================================\n",
      "Total params: 21,298,368\n",
      "Trainable params: 21,283,008\n",
      "Non-trainable params: 15,360\n",
      "_________________________________________________________________\n"
     ]
    }
   ],
   "source": [
    "model.backbone.summary()"
   ]
  },
  {
   "cell_type": "code",
   "execution_count": 26,
   "id": "ca25e823",
   "metadata": {
    "ExecuteTime": {
     "end_time": "2021-05-23T04:17:41.998846Z",
     "start_time": "2021-05-23T04:17:41.960182Z"
    }
   },
   "outputs": [
    {
     "name": "stdout",
     "output_type": "stream",
     "text": [
      "WARNING:tensorflow:Skipping loading of weights for layer backbone due to mismatch in number of weights (172 vs 168).\n",
      "WARNING:tensorflow:Skipping loading of weights for layer classifier due to mismatch in shape ((512, 250) vs (512, 1000)).\n",
      "WARNING:tensorflow:Skipping loading of weights for layer classifier due to mismatch in shape ((250,) vs (1000,)).\n"
     ]
    }
   ],
   "source": [
    "model.load_weights(\"data/imagenet_045.h5\", by_name=True, skip_mismatch=True)"
   ]
  },
  {
   "cell_type": "code",
   "execution_count": null,
   "id": "96bb400d",
   "metadata": {},
   "outputs": [],
   "source": []
  }
 ],
 "metadata": {
  "kernelspec": {
   "display_name": "Python 3",
   "language": "python",
   "name": "python3"
  },
  "language_info": {
   "codemirror_mode": {
    "name": "ipython",
    "version": 3
   },
   "file_extension": ".py",
   "mimetype": "text/x-python",
   "name": "python",
   "nbconvert_exporter": "python",
   "pygments_lexer": "ipython3",
   "version": "3.8.10"
  },
  "toc": {
   "base_numbering": 1,
   "nav_menu": {},
   "number_sections": true,
   "sideBar": true,
   "skip_h1_title": false,
   "title_cell": "Table of Contents",
   "title_sidebar": "Contents",
   "toc_cell": false,
   "toc_position": {},
   "toc_section_display": true,
   "toc_window_display": false
  }
 },
 "nbformat": 4,
 "nbformat_minor": 5
}
