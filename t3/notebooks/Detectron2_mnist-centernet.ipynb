{
 "cells": [
  {
   "cell_type": "code",
   "execution_count": 1,
   "metadata": {
    "colab": {
     "base_uri": "https://localhost:8080/"
    },
    "id": "9_FzH13EjseR",
    "outputId": "acacd821-c044-4cba-d0d6-54ef16404617"
   },
   "outputs": [
    {
     "name": "stdout",
     "output_type": "stream",
     "text": [
      "/workspace/compVision-DCC/t3\n",
      "1.7.1 True\n",
      "gcc (Ubuntu 7.5.0-3ubuntu1~18.04) 7.5.0\n",
      "Copyright (C) 2017 Free Software Foundation, Inc.\n",
      "This is free software; see the source for copying conditions.  There is NO\n",
      "warranty; not even for MERCHANTABILITY or FITNESS FOR A PARTICULAR PURPOSE.\n",
      "\n"
     ]
    }
   ],
   "source": [
    "# basic dependencies\n",
    "from pathlib import Path\n",
    "if Path.cwd().parent.stem == 't3':\n",
    "    %cd ..\n",
    "\n",
    "import torch, torchvision\n",
    "print(torch.__version__, torch.cuda.is_available())\n",
    "!gcc --version\n",
    "\n",
    "if 'google.colab' in str(get_ipython()):\n",
    "    from google.colab import drive\n",
    "    drive.mount('/content/drive')\n",
    "    %cd /content/drive/MyDrive/compVision-DCC/t3\n",
    "    \n",
    "    assert torch.__version__.startswith(\"1.8\")   \n",
    "    try: \n",
    "        import detectron2\n",
    "    except ImportError:\n",
    "        !pip install pyyaml>=5.1\n",
    "        !pip install detectron2 -f https://dl.fbaipublicfiles.com/detectron2/wheels/cu101/torch1.8/index.html\n",
    "else:\n",
    "    %config Completer.use_jedi = False"
   ]
  },
  {
   "cell_type": "code",
   "execution_count": 2,
   "metadata": {
    "id": "ZyAvNCJMmvFF"
   },
   "outputs": [],
   "source": [
    "# Some basic setup:\n",
    "# Setup detectron2 logger\n",
    "import detectron2\n",
    "from detectron2.utils.logger import setup_logger\n",
    "setup_logger()\n",
    "\n",
    "# import some common libraries\n",
    "import numpy as np\n",
    "import os, json, cv2, random\n",
    "# import some common detectron2 utilities\n",
    "from detectron2 import model_zoo\n",
    "from detectron2.engine import DefaultPredictor\n",
    "from detectron2.config import get_cfg\n",
    "from detectron2.utils.visualizer import Visualizer\n",
    "from detectron2.data import MetadataCatalog, DatasetCatalog"
   ]
  },
  {
   "cell_type": "code",
   "execution_count": 3,
   "metadata": {
    "id": "cuOurHUb2rVj"
   },
   "outputs": [],
   "source": [
    "import io\n",
    "import cv2\n",
    "import numpy as np\n",
    "from IPython.display import clear_output, Image, display\n",
    "import PIL.Image\n",
    "\n",
    "def showarray(a, fmt='jpeg'):\n",
    "    a = np.uint8(np.clip(a, 0, 255))\n",
    "    f = io.BytesIO()\n",
    "    PIL.Image.fromarray(a).save(f, fmt)\n",
    "    display(Image(data=f.getvalue()))"
   ]
  },
  {
   "cell_type": "markdown",
   "metadata": {
    "id": "b2bjrfb2LDeo"
   },
   "source": [
    "# Train on a custom dataset"
   ]
  },
  {
   "cell_type": "markdown",
   "metadata": {
    "id": "tjbUIhSxUdm_"
   },
   "source": [
    "## Prepare the dataset"
   ]
  },
  {
   "cell_type": "markdown",
   "metadata": {
    "id": "tVJoOm6LVJwW"
   },
   "source": [
    "Register the dataset to detectron2, following the [detectron2 custom dataset tutorial](https://detectron2.readthedocs.io/tutorials/datasets.html).\n",
    "Here, the dataset is in its custom format, therefore we write a function to parse it and prepare it into detectron2's standard format. User should write such a function when using a dataset in custom format. See the tutorial for more details.\n"
   ]
  },
  {
   "cell_type": "code",
   "execution_count": 4,
   "metadata": {
    "id": "QdXnTQ3y4Nd1"
   },
   "outputs": [],
   "source": [
    "from pathlib import Path\n",
    "from detectron2.structures import BoxMode\n",
    "\n",
    "def get_mnist_dict(base_dir: str):\n",
    "    base_dir = Path(base_dir)\n",
    "    img_dir = Path(base_dir) / \"images\"\n",
    "    annot_dir = Path(base_dir) / \"labels\"\n",
    "\n",
    "    dataset_dicts = []\n",
    "    for idx, annot_f in enumerate(annot_dir.iterdir()):\n",
    "        \n",
    "        # print(annot)\n",
    "        filename = annot_f.stem + '.png'\n",
    "        filename = img_dir / filename\n",
    "\n",
    "        if not filename.exists():\n",
    "            continue\n",
    "            \n",
    "        height, width = cv2.imread(str(filename)).shape[:2]\n",
    "\n",
    "        with open(annot_f) as f:\n",
    "            img_annots = f.readlines()[1:]\n",
    "\n",
    "        record = {}\n",
    "        record[\"file_name\"] = str(filename)\n",
    "        record[\"image_id\"] = idx\n",
    "        record[\"height\"] = height\n",
    "        record[\"width\"] = width\n",
    "\n",
    "        objs = []\n",
    "        for annot in img_annots:\n",
    "            # example: 4,83,8,43,53\n",
    "            \n",
    "            category_bbox_str = annot.split(',')\n",
    "            category_str, bbox_str = category_bbox_str[0], category_bbox_str[1:]\n",
    "            \n",
    "            bbox = [int(p_str.replace('\\n', '').strip()) for p_str in bbox_str]\n",
    "            obj = {\n",
    "                \"bbox\": bbox,\n",
    "                \"bbox_mode\": BoxMode.XYXY_ABS,\n",
    "                # \"segmentation\": [poly],\n",
    "                \"category_id\": int(category_str),\n",
    "            }\n",
    "            objs.append(obj)\n",
    "        record[\"annotations\"] = objs\n",
    "        dataset_dicts.append(record)\n",
    "    return dataset_dicts"
   ]
  },
  {
   "cell_type": "code",
   "execution_count": 6,
   "metadata": {
    "colab": {
     "base_uri": "https://localhost:8080/",
     "height": 425
    },
    "id": "6OVqWeP37gv0",
    "outputId": "287c4402-2b91-4324-8280-519bc100a286"
   },
   "outputs": [],
   "source": [
    "data_path = Path('data/mnist_detection_150_500')\n",
    "\n",
    "for d in [\"train\", \"test\"]:\n",
    "    DatasetCatalog.register(\"mnist_\" + d, lambda d=d: get_mnist_dict(data_path / d))\n",
    "    MetadataCatalog.get(\"mnist_\" + d).set(thing_classes=[str(i) for i in range(10)])\n",
    "\n",
    "mnist_metadata_test = MetadataCatalog.get(\"mnist_test\")\n",
    "mnist_metadata = MetadataCatalog.get(\"mnist_train\")"
   ]
  },
  {
   "cell_type": "code",
   "execution_count": 7,
   "metadata": {},
   "outputs": [
    {
     "name": "stdout",
     "output_type": "stream",
     "text": [
      "\u001b[32m[06/13 22:07:39 d2.data.datasets.coco]: \u001b[0mConverting dataset dicts into COCO format\n",
      "\u001b[32m[06/13 22:07:39 d2.data.datasets.coco]: \u001b[0mConversion finished, #images: 1000, #annotations: 5482\n"
     ]
    }
   ],
   "source": [
    "from detectron2.data.datasets.coco import register_coco_instances, convert_to_coco_dict\n",
    "import json\n",
    "\n",
    "mnist_coco_dict = convert_to_coco_dict(\"mnist_test\")\n",
    "\n",
    "with open('mnist_coco.json', 'w') as fp:\n",
    "    json.dump(mnist_coco_dict, fp)\n",
    "    \n",
    "register_coco_instances(\"mnist-test\", {}, \"mnist_coco.json\", \"\")"
   ]
  },
  {
   "cell_type": "code",
   "execution_count": 8,
   "metadata": {
    "colab": {
     "base_uri": "https://localhost:8080/",
     "height": 129
    },
    "id": "N-ZXFO6w9Lh2",
    "outputId": "a7fc9ac4-740b-414b-c75c-76ac76a2d10a",
    "scrolled": false
   },
   "outputs": [
    {
     "name": "stdout",
     "output_type": "stream",
     "text": [
      "{'file_name': 'data/mnist_detection_150_500/train/images/5120.png', 'image_id': 1960, 'height': 150, 'width': 500, 'annotations': [{'bbox': [292, 75, 322, 113], 'bbox_mode': <BoxMode.XYXY_ABS: 0>, 'category_id': 3}, {'bbox': [72, 39, 112, 86], 'bbox_mode': <BoxMode.XYXY_ABS: 0>, 'category_id': 7}, {'bbox': [216, 12, 263, 67], 'bbox_mode': <BoxMode.XYXY_ABS: 0>, 'category_id': 2}, {'bbox': [66, 82, 83, 101], 'bbox_mode': <BoxMode.XYXY_ABS: 0>, 'category_id': 8}]}\n"
     ]
    },
    {
     "data": {
      "image/jpeg": "[encoded data removed]",
      "text/plain": [
       "<IPython.core.display.Image object>"
      ]
     },
     "metadata": {},
     "output_type": "display_data"
    }
   ],
   "source": [
    "dataset_dicts = get_mnist_dict(data_path / \"train\")\n",
    "for d in random.sample(dataset_dicts,1):\n",
    "    print(d)\n",
    "    img = cv2.imread(d[\"file_name\"])\n",
    "    visualizer = Visualizer(img[:, :, ::-1], metadata=mnist_metadata, scale=0.5)\n",
    "    out = visualizer.draw_dataset_dict(d)\n",
    "    showarray(out.get_image())"
   ]
  },
  {
   "cell_type": "markdown",
   "metadata": {
    "id": "wlqXIXXhW8dA"
   },
   "source": [
    "## Train!\n",
    "\n",
    "Now, let's fine-tune a COCO-pretrained R50-FPN Mask R-CNN model on the balloon dataset. It takes ~6 minutes to train 300 iterations on Colab's K80 GPU, or ~2 minutes on a P100 GPU.\n"
   ]
  },
  {
   "cell_type": "code",
   "execution_count": 9,
   "metadata": {
    "colab": {
     "background_save": true,
     "base_uri": "https://localhost:8080/"
    },
    "id": "x8joe8cTIuyt",
    "outputId": "3c535262-3b93-40f3-df58-f16ea12e5034",
    "scrolled": true
   },
   "outputs": [
    {
     "ename": "ModuleNotFoundError",
     "evalue": "No module named 'centernet'",
     "output_type": "error",
     "traceback": [
      "\u001b[0;31m\u001b[0m",
      "\u001b[0;31mModuleNotFoundError\u001b[0mTraceback (most recent call last)",
      "\u001b[0;32m<ipython-input-9-11f19019adb3>\u001b[0m in \u001b[0;36m<module>\u001b[0;34m\u001b[0m\n\u001b[1;32m      3\u001b[0m \u001b[0;32mfrom\u001b[0m \u001b[0mutils\u001b[0m\u001b[0;34m.\u001b[0m\u001b[0mMyTrainer\u001b[0m \u001b[0;32mimport\u001b[0m \u001b[0mMyTrainer\u001b[0m\u001b[0;34m\u001b[0m\u001b[0;34m\u001b[0m\u001b[0m\n\u001b[1;32m      4\u001b[0m \u001b[0;32mfrom\u001b[0m \u001b[0mCenterNet2\u001b[0m\u001b[0;34m.\u001b[0m\u001b[0mcenternet\u001b[0m\u001b[0;34m.\u001b[0m\u001b[0mconfig\u001b[0m \u001b[0;32mimport\u001b[0m \u001b[0madd_centernet_config\u001b[0m\u001b[0;34m\u001b[0m\u001b[0;34m\u001b[0m\u001b[0m\n\u001b[0;32m----> 5\u001b[0;31m \u001b[0;32mfrom\u001b[0m \u001b[0mCenterNet2\u001b[0m\u001b[0;34m.\u001b[0m\u001b[0mtrain_net\u001b[0m \u001b[0;32mimport\u001b[0m \u001b[0mdo_train\u001b[0m\u001b[0;34m,\u001b[0m \u001b[0mdo_test\u001b[0m\u001b[0;34m\u001b[0m\u001b[0;34m\u001b[0m\u001b[0m\n\u001b[0m\u001b[1;32m      6\u001b[0m \u001b[0;34m\u001b[0m\u001b[0m\n\u001b[1;32m      7\u001b[0m \u001b[0mcfg\u001b[0m \u001b[0;34m=\u001b[0m \u001b[0mget_cfg\u001b[0m\u001b[0;34m(\u001b[0m\u001b[0;34m)\u001b[0m\u001b[0;34m\u001b[0m\u001b[0;34m\u001b[0m\u001b[0m\n",
      "\u001b[0;32m/workspace/compVision-DCC/t3/CenterNet2/train_net.py\u001b[0m in \u001b[0;36m<module>\u001b[0;34m\u001b[0m\n\u001b[1;32m     36\u001b[0m \u001b[0;32mfrom\u001b[0m \u001b[0mdetectron2\u001b[0m\u001b[0;34m.\u001b[0m\u001b[0mdata\u001b[0m\u001b[0;34m.\u001b[0m\u001b[0mbuild\u001b[0m \u001b[0;32mimport\u001b[0m \u001b[0mbuild_detection_train_loader\u001b[0m\u001b[0;34m\u001b[0m\u001b[0;34m\u001b[0m\u001b[0m\n\u001b[1;32m     37\u001b[0m \u001b[0;34m\u001b[0m\u001b[0m\n\u001b[0;32m---> 38\u001b[0;31m \u001b[0;32mfrom\u001b[0m \u001b[0mcenternet\u001b[0m\u001b[0;34m.\u001b[0m\u001b[0mconfig\u001b[0m \u001b[0;32mimport\u001b[0m \u001b[0madd_centernet_config\u001b[0m\u001b[0;34m\u001b[0m\u001b[0;34m\u001b[0m\u001b[0m\n\u001b[0m\u001b[1;32m     39\u001b[0m \u001b[0;32mfrom\u001b[0m \u001b[0mcenternet\u001b[0m\u001b[0;34m.\u001b[0m\u001b[0mdata\u001b[0m\u001b[0;34m.\u001b[0m\u001b[0mcustom_build_augmentation\u001b[0m \u001b[0;32mimport\u001b[0m \u001b[0mbuild_custom_augmentation\u001b[0m\u001b[0;34m\u001b[0m\u001b[0;34m\u001b[0m\u001b[0m\n\u001b[1;32m     40\u001b[0m \u001b[0;34m\u001b[0m\u001b[0m\n",
      "\u001b[0;31mModuleNotFoundError\u001b[0m: No module named 'centernet'"
     ]
    }
   ],
   "source": [
    "from detectron2.engine import DefaultTrainer\n",
    "\n",
    "from utils.MyTrainer import MyTrainer\n",
    "from CenterNet2.centernet.config import add_centernet_config\n",
    "from CenterNet2.train_net import do_train, do_test\n",
    "\n",
    "cfg = get_cfg()\n",
    "add_centernet_config(cfg)\n",
    "\n",
    "cfg.merge_from_file('CenterNet2/configs/CenterNet-S4_DLA_8x.yaml')\n",
    "cfg.DATASETS.TRAIN = (\"mnist_train\",)\n",
    "cfg.DATASETS.TEST = (\"mnist-test\",)\n",
    "cfg.TEST.EVAL_PERIOD = 250\n",
    "cfg.DATALOADER.NUM_WORKERS = 9\n",
    "cfg.MODEL.WEIGHTS = '/workspace/compVision-DCC/t3/CenterNet2/CenterNet-S4_DLA_8x.pth'\n",
    "cfg.SOLVER.IMS_PER_BATCH = 2\n",
    "cfg.SOLVER.BASE_LR = 0.00020  # pick a good LR\n",
    "cfg.SOLVER.MAX_ITER = 1500    # 300 iterations seems good enough for this toy dataset; you will need to train longer for a practical dataset\n",
    "\n",
    "cfg.SOLVER.STEPS = []        # do not decay learning rate\n",
    "\n",
    "cfg.MODEL.ROI_HEADS.BATCH_SIZE_PER_IMAGE = 32   # faster, and good enough for this toy dataset (default: 512)\n",
    "cfg.MODEL.ROI_HEADS.NUM_CLASSES = 10  # only has one class (ballon). (see https://detectron2.readthedocs.io/tutorials/datasets.html#update-the-config-for-new-datasets)\n",
    "# NOTE: this config means the number of classes, but a few popular unofficial tutorials incorrect uses num_classes+1 here.\n",
    "\n",
    "os.makedirs(cfg.OUTPUT_DIR, exist_ok=True)\n",
    "#trainer = MyTrainer(cfg) \n",
    "#trainer.resume_or_load(resume=False)\n",
    "\n",
    "cfg = setup(args)\n",
    "model = build_model(cfg)\n",
    "\n",
    "do_train(cfg, model, resume=False)\n",
    "\n",
    "res = do_test(cfg, model)"
   ]
  },
  {
   "cell_type": "code",
   "execution_count": null,
   "metadata": {},
   "outputs": [],
   "source": []
  },
  {
   "cell_type": "code",
   "execution_count": 6,
   "metadata": {},
   "outputs": [
    {
     "name": "stdout",
     "output_type": "stream",
     "text": [
      "updating: notebooks/ (stored 0%)\n",
      "  adding: notebooks/Detectron2_Tutorial.ipynb (deflated 53%)\n",
      "  adding: notebooks/Detectron2_checks_TridentNet.ipynb (deflated 74%)\n",
      "  adding: notebooks/Detectron2_mnist.ipynb (deflated 71%)\n",
      "  adding: notebooks/auxiliar_05.ipynb (deflated 75%)\n",
      "  adding: notebooks/input.jpg (deflated 0%)\n",
      "  adding: notebooks/.ipynb_checkpoints/ (stored 0%)\n",
      "  adding: notebooks/.ipynb_checkpoints/Detectron2_mnist-checkpoint.ipynb (deflated 71%)\n",
      "  adding: notebooks/.ipynb_checkpoints/Detectron2_checks_TridentNet-checkpoint.ipynb (deflated 75%)\n",
      "  adding: notebooks/.ipynb_checkpoints/Detectron2_mnist-centernet-checkpoint.ipynb (deflated 71%)\n",
      "  adding: notebooks/.ipynb_checkpoints/Detectron2_checks_TridentNet-Copy1-checkpoint.ipynb (deflated 75%)\n",
      "  adding: notebooks/Detectron2_mnist-centernet.ipynb (deflated 46%)\n",
      "  adding: notebooks/Detectron2_checks_TridentNet-Copy1.ipynb (deflated 75%)\n"
     ]
    }
   ],
   "source": [
    "!zip -r notebooks.zip notebooks"
   ]
  },
  {
   "cell_type": "code",
   "execution_count": 44,
   "metadata": {
    "id": "oSQCDk-4Iuyt"
   },
   "outputs": [
    {
     "data": {
      "image/png": "[encoded data removed]",
      "text/plain": [
       "<Figure size 432x288 with 1 Axes>"
      ]
     },
     "metadata": {
      "needs_background": "light"
     },
     "output_type": "display_data"
    }
   ],
   "source": [
    "import json\n",
    "import matplotlib.pyplot as plt\n",
    "\n",
    "experiment_folder = 'output'\n",
    "\n",
    "def load_json_arr(json_path):\n",
    "    lines = []\n",
    "    with open(json_path, 'r') as f:\n",
    "        for line in f:\n",
    "            lines.append(json.loads(line))\n",
    "    return lines\n",
    "\n",
    "experiment_metrics = load_json_arr(experiment_folder + '/metrics.json')\n",
    "\n",
    "fig, ax1 = plt.subplots()\n",
    "\n",
    "color = 'tab:blue'\n",
    "ax1.set_xlabel('Iteration')\n",
    "ax1.set_ylabel('Loss')\n",
    "\n",
    "ax1.plot(\n",
    "    [x['iteration'] for x in experiment_metrics if 'total_loss' in x],\n",
    "    [x['total_loss'] for x in experiment_metrics if 'total_loss' in x], color=\"red\", label=\"Total Loss\")\n",
    "\n",
    "ax1.plot(\n",
    "    [x['iteration'] for x in experiment_metrics if 'validation_loss' in x], \n",
    "    [x['validation_loss'] for x in experiment_metrics if 'validation_loss' in x], color=\"blue\", label=\"Val Loss\")\n",
    "    \n",
    "ax1.tick_params(axis='y')\n",
    "plt.legend(loc='upper left')\n",
    "plt.show()\n"
   ]
  },
  {
   "cell_type": "markdown",
   "metadata": {
    "id": "0e4vdDIOXyxF"
   },
   "source": [
    "## Inference & evaluation using the trained model\n",
    "Now, let's run inference with the trained model on the balloon validation dataset. First, let's create a predictor using the model we just trained:\n",
    "\n"
   ]
  },
  {
   "cell_type": "code",
   "execution_count": 35,
   "metadata": {
    "id": "Ya5nEuMELeq8"
   },
   "outputs": [],
   "source": [
    "# Inference should use the config with parameters that are used in training\n",
    "# cfg now already contains everything we've set previously. We changed it a little bit for inference:\n",
    "cfg.MODEL.WEIGHTS = os.path.join(cfg.OUTPUT_DIR, \"model_final.pth\")  # path to the model we just trained\n",
    "cfg.MODEL.ROI_HEADS.SCORE_THRESH_TEST = 0.7   # set a custom testing threshold\n",
    "predictor = DefaultPredictor(cfg)"
   ]
  },
  {
   "cell_type": "markdown",
   "metadata": {
    "id": "qWq1XHfDWiXO"
   },
   "source": [
    "Then, we randomly select several samples to visualize the prediction results."
   ]
  },
  {
   "cell_type": "code",
   "execution_count": 15,
   "metadata": {
    "id": "U5LhISJqWXgM",
    "scrolled": false
   },
   "outputs": [
    {
     "data": {
      "image/jpeg": "[encoded data removed]",
      "text/plain": [
       "<IPython.core.display.Image object>"
      ]
     },
     "metadata": {},
     "output_type": "display_data"
    },
    {
     "data": {
      "image/jpeg": "[encoded data removed]",
      "text/plain": [
       "<IPython.core.display.Image object>"
      ]
     },
     "metadata": {},
     "output_type": "display_data"
    },
    {
     "data": {
      "image/jpeg": "[encoded data removed]",
      "text/plain": [
       "<IPython.core.display.Image object>"
      ]
     },
     "metadata": {},
     "output_type": "display_data"
    }
   ],
   "source": [
    "from detectron2.utils.visualizer import ColorMode\n",
    "dataset_dicts = get_mnist_dict(data_path / \"test\")\n",
    "for d in random.sample(dataset_dicts, 3):    \n",
    "    im = cv2.imread(d[\"file_name\"])\n",
    "    outputs = predictor(im)  # format is documented at https://detectron2.readthedocs.io/tutorials/models.html#model-output-format\n",
    "    v = Visualizer(im[:, :, ::-1],\n",
    "                   metadata=mnist_metadata_test, \n",
    "                   scale=0.5, \n",
    "                   instance_mode=ColorMode.IMAGE_BW   # remove the colors of unsegmented pixels. This option is only available for segmentation models\n",
    "    )\n",
    "    out = v.draw_instance_predictions(outputs[\"instances\"].to(\"cpu\"))\n",
    "    showarray(out.get_image()[:, :, ::-1])"
   ]
  },
  {
   "cell_type": "markdown",
   "metadata": {
    "id": "kblA1IyFvWbT"
   },
   "source": [
    "We can also evaluate its performance using AP metric implemented in COCO API.\n",
    "This gives an AP of ~70. Not bad!"
   ]
  },
  {
   "cell_type": "code",
   "execution_count": 17,
   "metadata": {
    "id": "h9tECBQCvMv3"
   },
   "outputs": [
    {
     "name": "stdout",
     "output_type": "stream",
     "text": [
      "\u001b[5m\u001b[31mWARNING\u001b[0m \u001b[32m[06/13 21:28:38 d2.data.datasets.coco]: \u001b[0m\n",
      "Category ids in annotations are not in [1, #categories]! We'll apply a mapping for you.\n",
      "\n",
      "\u001b[32m[06/13 21:28:38 d2.data.datasets.coco]: \u001b[0mLoaded 1000 images in COCO format from mnist_coco.json\n",
      "\u001b[32m[06/13 21:28:38 d2.data.dataset_mapper]: \u001b[0m[DatasetMapper] Augmentations used in inference: [ResizeShortestEdge(short_edge_length=(800, 800), max_size=1333, sample_style='choice')]\n",
      "\u001b[32m[06/13 21:28:38 d2.data.common]: \u001b[0mSerializing 1000 elements to byte tensors and concatenating them all ...\n",
      "\u001b[32m[06/13 21:28:38 d2.data.common]: \u001b[0mSerialized dataset takes 0.51 MiB\n",
      "\u001b[32m[06/13 21:28:38 d2.evaluation.evaluator]: \u001b[0mStart inference on 1000 images\n",
      "\u001b[32m[06/13 21:28:40 d2.evaluation.evaluator]: \u001b[0mInference done 11/1000. 0.1085 s / img. ETA=0:01:48\n",
      "\u001b[32m[06/13 21:28:45 d2.evaluation.evaluator]: \u001b[0mInference done 57/1000. 0.1083 s / img. ETA=0:01:43\n",
      "\u001b[32m[06/13 21:28:50 d2.evaluation.evaluator]: \u001b[0mInference done 103/1000. 0.1084 s / img. ETA=0:01:38\n",
      "\u001b[32m[06/13 21:28:55 d2.evaluation.evaluator]: \u001b[0mInference done 149/1000. 0.1085 s / img. ETA=0:01:33\n",
      "\u001b[32m[06/13 21:29:00 d2.evaluation.evaluator]: \u001b[0mInference done 195/1000. 0.1085 s / img. ETA=0:01:28\n",
      "\u001b[32m[06/13 21:29:05 d2.evaluation.evaluator]: \u001b[0mInference done 241/1000. 0.1086 s / img. ETA=0:01:23\n",
      "\u001b[32m[06/13 21:29:10 d2.evaluation.evaluator]: \u001b[0mInference done 287/1000. 0.1088 s / img. ETA=0:01:18\n",
      "\u001b[32m[06/13 21:29:15 d2.evaluation.evaluator]: \u001b[0mInference done 333/1000. 0.1088 s / img. ETA=0:01:13\n",
      "\u001b[32m[06/13 21:29:20 d2.evaluation.evaluator]: \u001b[0mInference done 378/1000. 0.1090 s / img. ETA=0:01:08\n",
      "\u001b[32m[06/13 21:29:25 d2.evaluation.evaluator]: \u001b[0mInference done 423/1000. 0.1090 s / img. ETA=0:01:03\n",
      "\u001b[32m[06/13 21:29:30 d2.evaluation.evaluator]: \u001b[0mInference done 468/1000. 0.1091 s / img. ETA=0:00:58\n",
      "\u001b[32m[06/13 21:29:35 d2.evaluation.evaluator]: \u001b[0mInference done 514/1000. 0.1092 s / img. ETA=0:00:53\n",
      "\u001b[32m[06/13 21:29:40 d2.evaluation.evaluator]: \u001b[0mInference done 559/1000. 0.1092 s / img. ETA=0:00:48\n",
      "\u001b[32m[06/13 21:29:45 d2.evaluation.evaluator]: \u001b[0mInference done 604/1000. 0.1093 s / img. ETA=0:00:43\n",
      "\u001b[32m[06/13 21:29:50 d2.evaluation.evaluator]: \u001b[0mInference done 649/1000. 0.1094 s / img. ETA=0:00:38\n",
      "\u001b[32m[06/13 21:29:55 d2.evaluation.evaluator]: \u001b[0mInference done 694/1000. 0.1094 s / img. ETA=0:00:33\n",
      "\u001b[32m[06/13 21:30:00 d2.evaluation.evaluator]: \u001b[0mInference done 739/1000. 0.1095 s / img. ETA=0:00:28\n",
      "\u001b[32m[06/13 21:30:05 d2.evaluation.evaluator]: \u001b[0mInference done 784/1000. 0.1095 s / img. ETA=0:00:23\n",
      "\u001b[32m[06/13 21:30:10 d2.evaluation.evaluator]: \u001b[0mInference done 829/1000. 0.1096 s / img. ETA=0:00:18\n",
      "\u001b[32m[06/13 21:30:15 d2.evaluation.evaluator]: \u001b[0mInference done 874/1000. 0.1096 s / img. ETA=0:00:13\n",
      "\u001b[32m[06/13 21:30:21 d2.evaluation.evaluator]: \u001b[0mInference done 919/1000. 0.1097 s / img. ETA=0:00:08\n",
      "\u001b[32m[06/13 21:30:26 d2.evaluation.evaluator]: \u001b[0mInference done 964/1000. 0.1097 s / img. ETA=0:00:03\n",
      "\u001b[32m[06/13 21:30:30 d2.evaluation.evaluator]: \u001b[0mTotal inference time: 0:01:50.664502 (0.111221 s / img per device, on 1 devices)\n",
      "\u001b[32m[06/13 21:30:30 d2.evaluation.evaluator]: \u001b[0mTotal inference pure compute time: 0:01:49 (0.109735 s / img per device, on 1 devices)\n",
      "\u001b[32m[06/13 21:30:30 d2.evaluation.coco_evaluation]: \u001b[0mPreparing results for COCO format ...\n",
      "\u001b[32m[06/13 21:30:30 d2.evaluation.coco_evaluation]: \u001b[0mSaving results to ./output/inference/coco_instances_results.json\n",
      "\u001b[32m[06/13 21:30:30 d2.evaluation.coco_evaluation]: \u001b[0mEvaluating predictions with unofficial COCO API...\n",
      "Loading and preparing results...\n",
      "DONE (t=0.17s)\n",
      "creating index...\n",
      "index created!\n",
      "\u001b[32m[06/13 21:30:30 d2.evaluation.fast_eval_api]: \u001b[0mEvaluate annotation type *bbox*\n",
      "\u001b[32m[06/13 21:30:31 d2.evaluation.fast_eval_api]: \u001b[0mCOCOeval_opt.evaluate() finished in 0.51 seconds.\n",
      "\u001b[32m[06/13 21:30:31 d2.evaluation.fast_eval_api]: \u001b[0mAccumulating evaluation results...\n",
      "\u001b[32m[06/13 21:30:31 d2.evaluation.fast_eval_api]: \u001b[0mCOCOeval_opt.accumulate() finished in 0.07 seconds.\n",
      " Average Precision  (AP) @[ IoU=0.50:0.95 | area=   all | maxDets=100 ] = 0.713\n",
      " Average Precision  (AP) @[ IoU=0.50      | area=   all | maxDets=100 ] = 0.915\n",
      " Average Precision  (AP) @[ IoU=0.75      | area=   all | maxDets=100 ] = 0.858\n",
      " Average Precision  (AP) @[ IoU=0.50:0.95 | area= small | maxDets=100 ] = 0.685\n",
      " Average Precision  (AP) @[ IoU=0.50:0.95 | area=medium | maxDets=100 ] = 0.744\n",
      " Average Precision  (AP) @[ IoU=0.50:0.95 | area= large | maxDets=100 ] = -1.000\n",
      " Average Recall     (AR) @[ IoU=0.50:0.95 | area=   all | maxDets=  1 ] = 0.589\n",
      " Average Recall     (AR) @[ IoU=0.50:0.95 | area=   all | maxDets= 10 ] = 0.797\n",
      " Average Recall     (AR) @[ IoU=0.50:0.95 | area=   all | maxDets=100 ] = 0.797\n",
      " Average Recall     (AR) @[ IoU=0.50:0.95 | area= small | maxDets=100 ] = 0.775\n",
      " Average Recall     (AR) @[ IoU=0.50:0.95 | area=medium | maxDets=100 ] = 0.818\n",
      " Average Recall     (AR) @[ IoU=0.50:0.95 | area= large | maxDets=100 ] = -1.000\n",
      "\u001b[32m[06/13 21:30:31 d2.evaluation.coco_evaluation]: \u001b[0mEvaluation results for bbox: \n",
      "|   AP   |  AP50  |  AP75  |  APs   |  APm   |  APl  |\n",
      "|:------:|:------:|:------:|:------:|:------:|:-----:|\n",
      "| 71.285 | 91.474 | 85.765 | 68.455 | 74.364 |  nan  |\n",
      "\u001b[32m[06/13 21:30:31 d2.evaluation.coco_evaluation]: \u001b[0mSome metrics cannot be computed and is shown as NaN.\n",
      "\u001b[32m[06/13 21:30:31 d2.evaluation.coco_evaluation]: \u001b[0mPer-category bbox AP: \n",
      "| category   | AP     | category   | AP     | category   | AP     |\n",
      "|:-----------|:-------|:-----------|:-------|:-----------|:-------|\n",
      "| 0          | 79.906 | 1          | 58.812 | 2          | 76.519 |\n",
      "| 3          | 68.853 | 4          | 71.891 | 5          | 62.061 |\n",
      "| 6          | 76.025 | 7          | 72.961 | 8          | 73.799 |\n",
      "| 9          | 72.023 |            |        |            |        |\n",
      "OrderedDict([('bbox', {'AP': 71.2849827231664, 'AP50': 91.47446063274474, 'AP75': 85.76457434913868, 'APs': 68.4551177695318, 'APm': 74.36359000061002, 'APl': nan, 'AP-0': 79.90605441701102, 'AP-1': 58.81173148397141, 'AP-2': 76.51914681487693, 'AP-3': 68.85341472572793, 'AP-4': 71.8911885581299, 'AP-5': 62.06072372778198, 'AP-6': 76.02488895749968, 'AP-7': 72.96063850730631, 'AP-8': 73.79946442650233, 'AP-9': 72.02257561285646})])\n"
     ]
    }
   ],
   "source": [
    "from detectron2.evaluation import COCOEvaluator, inference_on_dataset\n",
    "from detectron2.data import build_detection_test_loader\n",
    "evaluator = COCOEvaluator(\"mnist_test\", (\"bbox\",), False, output_dir=\"./output/inference\")\n",
    "val_loader = build_detection_test_loader(cfg, \"mnist-test\")\n",
    "print(inference_on_dataset(trainer.model, val_loader, evaluator))\n",
    "# another equivalent way to evaluate the model is to use `trainer.test`"
   ]
  },
  {
   "cell_type": "code",
   "execution_count": 42,
   "metadata": {},
   "outputs": [],
   "source": [
    "from detectron2.checkpoint import Checkpointer\n",
    "ckpt = Checkpointer(trainer.model, \"output\")\n",
    "ckpt.save(\"best_mnist\")"
   ]
  },
  {
   "cell_type": "code",
   "execution_count": null,
   "metadata": {},
   "outputs": [],
   "source": []
  }
 ],
 "metadata": {
  "accelerator": "GPU",
  "colab": {
   "collapsed_sections": [],
   "name": "Detectron2_mnist.ipynb",
   "provenance": []
  },
  "kernelspec": {
   "display_name": "Python 3",
   "language": "python",
   "name": "python3"
  },
  "language_info": {
   "codemirror_mode": {
    "name": "ipython",
    "version": 3
   },
   "file_extension": ".py",
   "mimetype": "text/x-python",
   "name": "python",
   "nbconvert_exporter": "python",
   "pygments_lexer": "ipython3",
   "version": "3.8.5"
  },
  "toc": {
   "base_numbering": 1,
   "nav_menu": {},
   "number_sections": true,
   "sideBar": true,
   "skip_h1_title": false,
   "title_cell": "Table of Contents",
   "title_sidebar": "Contents",
   "toc_cell": false,
   "toc_position": {},
   "toc_section_display": true,
   "toc_window_display": false
  }
 },
 "nbformat": 4,
 "nbformat_minor": 1
}
